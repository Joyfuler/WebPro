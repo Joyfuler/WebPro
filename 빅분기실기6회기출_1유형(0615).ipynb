{
  "nbformat": 4,
  "nbformat_minor": 0,
  "metadata": {
    "colab": {
      "provenance": []
    },
    "kernelspec": {
      "name": "python3",
      "display_name": "Python 3"
    },
    "language_info": {
      "name": "python"
    }
  },
  "cells": [
    {
      "cell_type": "markdown",
      "source": [
        "1. 주어진 데이터는 각 소방서의 출동/도착 시간데이터이다.\n",
        "출동시간과 도착시간 차이가 평균적으로 가장 오래 걸린 소방서의 시간을 분으로 변환해 출력하시오. (반올림 후 정수 출력)"
      ],
      "metadata": {
        "id": "C352FXmlMvvS"
      }
    },
    {
      "cell_type": "code",
      "execution_count": 33,
      "metadata": {
        "id": "PtrSDVWgMp07",
        "colab": {
          "base_uri": "https://localhost:8080/"
        },
        "outputId": "2719f477-efa8-4b77-b1f6-439929f84094"
      },
      "outputs": [
        {
          "output_type": "stream",
          "name": "stdout",
          "text": [
            "81\n"
          ]
        }
      ],
      "source": [
        "import pandas as pd\n",
        "df = pd.read_csv(\"data6-1-1.csv\")\n",
        "# print(df.head())\n",
        "# print(df.info())\n",
        "# print(dir(pd))\n",
        "df['출동시간'] = pd.to_datetime(df['출동시간'])\n",
        "df['도착시간'] = pd.to_datetime(df['도착시간'])\n",
        "df['diff'] = df['도착시간'] - df['출동시간']\n",
        "df['diff'] = df['diff'].dt.total_seconds() / 60\n",
        "#df.head()\n",
        "#우선 초로 구해야 함. dt.total_seconds로 구함.\n",
        "\n",
        "# 그룹별로 구할때는 groupby('컬럼').mean() 등으로 구함.\n",
        "#print(round(max(df.groupby('소방서')['diff'].mean())))\n",
        "result = df.groupby('소방서')['diff'].mean()\n",
        "result = result.sort_values(ascending = False)\n",
        "print(round(result[0]))"
      ]
    },
    {
      "cell_type": "markdown",
      "source": [
        "2. 학교에서 교사 한 명당 맡은 학생 수가 가장 많은 학교를 찾고, 그 학교의 전체 교사 수를 구하시오. (정수 출력)"
      ],
      "metadata": {
        "id": "WHPehQIr2G0R"
      }
    },
    {
      "cell_type": "code",
      "source": [
        "import pandas as pd\n",
        "df = pd.read_csv(\"data6-1-2.csv\")"
      ],
      "metadata": {
        "id": "n-_CJh6-2K-g"
      },
      "execution_count": 35,
      "outputs": []
    },
    {
      "cell_type": "code",
      "source": [
        "cols = ['1학년', '2학년', '3학년', '4학년', '5학년', '6학년']\n",
        "df['sum'] = 0\n",
        "for col in cols:\n",
        "  df['sum'] = df['sum'] + df[col]\n",
        "df['counter'] = (df['sum'] / df['교사수'])\n",
        "print(df)\n",
        "cond1 = df['counter'] == max(df['counter'])\n",
        "print(df[cond1]['교사수'].values[0])"
      ],
      "metadata": {
        "id": "GfI4dkM6hTMq",
        "colab": {
          "base_uri": "https://localhost:8080/"
        },
        "outputId": "f8753a75-2a67-4e1e-fcff-253c5ebecf63"
      },
      "execution_count": 56,
      "outputs": [
        {
          "output_type": "stream",
          "name": "stdout",
          "text": [
            "      학교명  교사수  1학년  2학년  3학년  4학년  5학년  6학년    counter  sum\n",
            "0     학교1   20  118   72  154  118   77   59  29.900000  598\n",
            "1     학교2   31  187  193  135  137   63   90  25.967742  805\n",
            "2     학교3   23  136  193  135  112   91   50  31.173913  717\n",
            "3     학교4   32   72  146   67   51  130  164  19.687500  630\n",
            "4     학교5   22   61   73   86   82   55  124  21.863636  481\n",
            "..    ...  ...  ...  ...  ...  ...  ...  ...        ...  ...\n",
            "95   학교96   38   75  166  113  191  172   57  20.368421  774\n",
            "96   학교97   30  125  169  145  122  187  194  31.400000  942\n",
            "97   학교98   37  136  100   93   60  145   63  16.135135  597\n",
            "98   학교99   37   74  175  145  157   95   76  19.513514  722\n",
            "99  학교100   40   68  109  196  148   84  179  19.600000  784\n",
            "\n",
            "[100 rows x 10 columns]\n",
            "19\n"
          ]
        }
      ]
    },
    {
      "cell_type": "code",
      "source": [
        "df.loc[7, '교사수'] #7번 인덱스의 '교사수' 컬럼의 값"
      ],
      "metadata": {
        "id": "PGlgb84GhTPq",
        "colab": {
          "base_uri": "https://localhost:8080/"
        },
        "outputId": "167e5ac3-e12b-4572-9400-741c3a626ccb"
      },
      "execution_count": 57,
      "outputs": [
        {
          "output_type": "execute_result",
          "data": {
            "text/plain": [
              "19"
            ]
          },
          "metadata": {},
          "execution_count": 57
        }
      ]
    },
    {
      "cell_type": "markdown",
      "source": [
        "3. 연도별로 총 범죄 건수(범죄유형의 총합)의 월평균 값을 구한 후 그 값이 가장 큰 연도를 찾아, 해당 연도의 총 범죄 건수의 월평균 값을 출력하시오. (반올림하여 정수로 출력)"
      ],
      "metadata": {
        "id": "ur3vOFxy72jV"
      }
    },
    {
      "cell_type": "code",
      "source": [
        "import pandas as pd\n",
        "df = pd.read_csv(\"data6-1-3.csv\")"
      ],
      "metadata": {
        "id": "pcfb-167794O"
      },
      "execution_count": 75,
      "outputs": []
    },
    {
      "cell_type": "code",
      "source": [
        "df.head()\n",
        "df['연도'] = pd.to_datetime(df['날짜'], format = '%Y년 %M월')\n",
        "df['연도'] = df['연도'].dt.year\n",
        "#print(df)\n",
        "#print(df)\n",
        "df['총범죄건수'] = df.iloc[:, 1:7].sum(axis = 1)\n",
        "# print(df)\n",
        "result = df.groupby('연도')['총범죄건수'].sum() / 12\n",
        "print(round(result.max()))\n",
        "# print(df.groupby('연도')['총범죄건수'].sum()/ 12)\n"
      ],
      "metadata": {
        "id": "KTAXIy1zCFhE",
        "colab": {
          "base_uri": "https://localhost:8080/"
        },
        "outputId": "b4ec4d6b-d049-4e67-83e5-7e425716438d"
      },
      "execution_count": 81,
      "outputs": [
        {
          "output_type": "stream",
          "name": "stdout",
          "text": [
            "515\n"
          ]
        }
      ]
    }
  ]
}