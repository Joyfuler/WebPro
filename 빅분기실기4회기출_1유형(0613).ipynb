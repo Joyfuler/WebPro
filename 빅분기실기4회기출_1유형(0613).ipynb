{
  "nbformat": 4,
  "nbformat_minor": 0,
  "metadata": {
    "colab": {
      "provenance": []
    },
    "kernelspec": {
      "name": "python3",
      "display_name": "Python 3"
    },
    "language_info": {
      "name": "python"
    }
  },
  "cells": [
    {
      "cell_type": "markdown",
      "source": [
        "## 작업형1 문제\n",
        "1-1. age 컬럼의 3사분위수와 1사분위수의 차를 절대값으로 구하고, 소수점 버려서, 정수로 출력"
      ],
      "metadata": {
        "id": "v_AUHR5oYUtJ"
      }
    },
    {
      "cell_type": "code",
      "execution_count": 5,
      "metadata": {
        "id": "ZImr4KE_YSVY",
        "colab": {
          "base_uri": "https://localhost:8080/"
        },
        "outputId": "85cdbdf4-b578-46d4-ca0a-0ca88c7ff795"
      },
      "outputs": [
        {
          "output_type": "stream",
          "name": "stdout",
          "text": [
            "50\n"
          ]
        }
      ],
      "source": [
        "import pandas as pd\n",
        "df = pd.read_csv(\"basic1.csv\")\n",
        "df.head()\n",
        "ageqt3 = abs(df['age'].quantile(0.75))\n",
        "ageqt1 = abs(df['age'].quantile(0.25))\n",
        "diff = ageqt3 - ageqt1\n",
        "print(int(diff))\n",
        "\n"
      ]
    },
    {
      "cell_type": "markdown",
      "source": [
        "1-2.(loves반응+wows반응)/(reactions반응) 비율이 0.4보다 크고 0.5보다 작으면서, type 컬럼이 'video'인 데이터의 갯수"
      ],
      "metadata": {
        "id": "FKK8eCw6YYU1"
      }
    },
    {
      "cell_type": "code",
      "source": [
        "import pandas as pd\n",
        "df = pd.read_csv(\"fb.csv\")\n",
        "\n",
        "#EDA\n",
        "#df.head()\n",
        "df['sum'] = (df['loves'] + df['wows']) / df['reactions']\n",
        "cond1 = df['sum'] > 0.4\n",
        "cond2 = df['sum'] < 0.5\n",
        "cond3 = (df['type'] == 'video')\n",
        "print(len(df[cond1 & cond2 & cond3]))"
      ],
      "metadata": {
        "id": "x2iBupbOYZ3f",
        "colab": {
          "base_uri": "https://localhost:8080/"
        },
        "outputId": "3b77808b-ab3c-4181-daa6-67de8625a23b"
      },
      "execution_count": 24,
      "outputs": [
        {
          "output_type": "stream",
          "name": "stdout",
          "text": [
            "90\n"
          ]
        }
      ]
    },
    {
      "cell_type": "markdown",
      "source": [
        "1-3. date_added가 2018년 1월 이면서 country가 United Kingdom 단독 제작인 데이터의 갯수"
      ],
      "metadata": {
        "id": "Eilj-YHNYfj1"
      }
    },
    {
      "cell_type": "code",
      "source": [
        "import pandas as pd\n",
        "df = pd.read_csv(\"nf.csv\")\n",
        "df['date_added'] = pd.to_datetime(df['date_added'])\n",
        "# 판다스의 to_datetime 라이브러리를 이용하여 치환 (dt.month / dt.year)\n",
        "cond1 = df['date_added'].dt.year == 2018\n",
        "cond2 = df['date_added'].dt.month == 1\n",
        "cond3 = df['country'] == 'United Kingdom'\n",
        "print(len(df[cond1 & cond2 & cond3]))\n",
        "# print(len(df[cond1 & cond2 & cond3]))\n",
        "\n",
        "\n",
        "# united kingdom을 포함한 모든 데이터를 검색하려면?\n",
        "cond4 = df['country'].str.contains('United Kingdom', na = False)\n",
        "print(df[cond4].head(20))"
      ],
      "metadata": {
        "id": "0t3LZNYfYk8s",
        "colab": {
          "base_uri": "https://localhost:8080/"
        },
        "outputId": "4401e33e-e3c0-488b-aa22-8201555d46e7"
      },
      "execution_count": 67,
      "outputs": [
        {
          "output_type": "stream",
          "name": "stdout",
          "text": [
            "6\n",
            "    show_id     type                                   title  \\\n",
            "7        s8    Movie                                 Sankofa   \n",
            "8        s9  TV Show           The Great British Baking Show   \n",
            "32      s33  TV Show                           Sex Education   \n",
            "65      s66  TV Show                            Numberblocks   \n",
            "72      s73  TV Show  Jack Whitehall: Travels with My Father   \n",
            "94      s95    Movie                               Show Dogs   \n",
            "95      s96  TV Show                              The Circle   \n",
            "98      s99  TV Show               Octonauts: Above & Beyond   \n",
            "115    s116    Movie                             Bright Star   \n",
            "117    s118    Movie                           Final Account   \n",
            "122    s123    Movie                              In the Cut   \n",
            "136    s137    Movie                           Cold Mountain   \n",
            "141    s142    Movie                              Extraction   \n",
            "155    s156    Movie                               Labyrinth   \n",
            "177    s178    Movie                    The Guns of Navarone   \n",
            "191    s192    Movie                              Wind River   \n",
            "228    s229    Movie                        The November Man   \n",
            "233    s234    Movie                             Count Me In   \n",
            "283    s284    Movie                    Misha and the Wolves   \n",
            "284    s285    Movie                     The Kissing Booth 3   \n",
            "\n",
            "              director                                               cast  \\\n",
            "7         Haile Gerima  Kofi Ghanaba, Oyafunmike Ogunlano, Alexandra D...   \n",
            "8      Andy Devonshire  Mel Giedroyc, Sue Perkins, Mary Berry, Paul Ho...   \n",
            "32                 NaN  Asa Butterfield, Gillian Anderson, Ncuti Gatwa...   \n",
            "65                 NaN  Beth Chalmers, David Holt, Marcel McCalla, Ter...   \n",
            "72                 NaN                  Jack Whitehall, Michael Whitehall   \n",
            "94        Raja Gosnell  Will Arnett, Ludacris, Natasha Lyonne, Stanley...   \n",
            "95                 NaN                                    Michelle Buteau   \n",
            "98                 NaN  Antonio Aakeel, Chipo Chung, Simon Foster, Ter...   \n",
            "115       Jane Campion  Abbie Cornish, Ben Whishaw, Paul Schneider, Ke...   \n",
            "117       Luke Holland                                                NaN   \n",
            "122       Jane Campion  Meg Ryan, Mark Ruffalo, Jennifer Jason Leigh, ...   \n",
            "136  Anthony Minghella  Jude Law, Nicole Kidman, Renée Zellweger, Eile...   \n",
            "141   Steven C. Miller  Bruce Willis, Kellan Lutz, Gina Carano, D.B. S...   \n",
            "155         Jim Henson  David Bowie, Jennifer Connelly, Frank Oz, Kevi...   \n",
            "177    J. Lee Thompson  Gregory Peck, David Niven, Anthony Quinn, Stan...   \n",
            "191    Taylor Sheridan  Jeremy Renner, Elizabeth Olsen, Jon Bernthal, ...   \n",
            "228    Roger Donaldson  Pierce Brosnan, Luke Bracey, Olga Kurylenko, E...   \n",
            "233            Mark Lo                                                NaN   \n",
            "283      Sam Hobkinson                                                NaN   \n",
            "284     Vince Marcello  Joey King, Joel Courtney, Jacob Elordi, Molly ...   \n",
            "\n",
            "                                               country date_added  \\\n",
            "7    United States, Ghana, Burkina Faso, United Kin... 2021-09-24   \n",
            "8                                       United Kingdom 2021-09-24   \n",
            "32                                      United Kingdom 2021-09-17   \n",
            "65                                      United Kingdom 2021-09-15   \n",
            "72                                      United Kingdom 2021-09-14   \n",
            "94                       United Kingdom, United States 2021-09-08   \n",
            "95                       United States, United Kingdom 2021-09-08   \n",
            "98                                      United Kingdom 2021-09-07   \n",
            "115                  United Kingdom, Australia, France 2021-09-02   \n",
            "117                      United Kingdom, United States 2021-09-02   \n",
            "122   United Kingdom, Australia, France, United States 2021-09-02   \n",
            "136      United States, Italy, Romania, United Kingdom 2021-09-01   \n",
            "141              United States, United Kingdom, Canada 2021-09-01   \n",
            "155                      United Kingdom, United States 2021-09-01   \n",
            "177                      United Kingdom, United States 2021-09-01   \n",
            "191              United Kingdom, Canada, United States 2021-08-28   \n",
            "228                      United States, United Kingdom 2021-08-25   \n",
            "233                                     United Kingdom 2021-08-24   \n",
            "283                            Belgium, United Kingdom 2021-08-11   \n",
            "284                      United Kingdom, United States 2021-08-11   \n",
            "\n",
            "     release_year rating   duration  \\\n",
            "7            1993  TV-MA    125 min   \n",
            "8            2021  TV-14  9 Seasons   \n",
            "32           2020  TV-MA  3 Seasons   \n",
            "65           2021   TV-Y  6 Seasons   \n",
            "72           2021  TV-MA  5 Seasons   \n",
            "94           2018     PG     90 min   \n",
            "95           2021  TV-MA  3 Seasons   \n",
            "98           2021   TV-Y   1 Season   \n",
            "115          2009     PG    119 min   \n",
            "117          2021  PG-13     94 min   \n",
            "122          2003      R    118 min   \n",
            "136          2003      R    154 min   \n",
            "141          2015      R     82 min   \n",
            "155          1986     PG    101 min   \n",
            "177          1961  TV-14    156 min   \n",
            "191          2017      R    107 min   \n",
            "228          2014      R    108 min   \n",
            "233          2021  TV-MA     82 min   \n",
            "283          2021  PG-13     90 min   \n",
            "284          2021  TV-14    114 min   \n",
            "\n",
            "                                             listed_in  \n",
            "7     Dramas, Independent Movies, International Movies  \n",
            "8                         British TV Shows, Reality TV  \n",
            "32   British TV Shows, International TV Shows, TV C...  \n",
            "65                                            Kids' TV  \n",
            "72   British TV Shows, Docuseries, International TV...  \n",
            "94                  Children & Family Movies, Comedies  \n",
            "95                                          Reality TV  \n",
            "98                          British TV Shows, Kids' TV  \n",
            "115                            Dramas, Romantic Movies  \n",
            "117                                      Documentaries  \n",
            "122                                          Thrillers  \n",
            "136                            Dramas, Romantic Movies  \n",
            "141                                 Action & Adventure  \n",
            "155  Action & Adventure, Children & Family Movies, ...  \n",
            "177                 Action & Adventure, Classic Movies  \n",
            "191                         Dramas, Independent Movies  \n",
            "228                                 Action & Adventure  \n",
            "233                    Documentaries, Music & Musicals  \n",
            "283                Documentaries, International Movies  \n",
            "284                          Comedies, Romantic Movies  \n"
          ]
        }
      ]
    }
  ]
}