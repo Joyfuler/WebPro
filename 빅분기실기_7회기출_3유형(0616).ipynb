{
  "nbformat": 4,
  "nbformat_minor": 0,
  "metadata": {
    "colab": {
      "provenance": []
    },
    "kernelspec": {
      "name": "python3",
      "display_name": "Python 3"
    },
    "language_info": {
      "name": "python"
    }
  },
  "cells": [
    {
      "cell_type": "markdown",
      "source": [
        "## 작업형3"
      ],
      "metadata": {
        "id": "H3N9Ou_Oo2mV"
      }
    },
    {
      "cell_type": "markdown",
      "source": [
        "### 문제1. 주어진 조개 데이터 300개 중 앞에서부터 210개는 train 데이터로 만들고, 나머지 90개는 test데이터로 만든다. 모델을 학습(적합)할 때는 train데이터를 사용하고, 예측할 때는 test데이터를 사용한다. 모델은 로지스틱 회귀를 써서 성별(gender)을 예측하되, 패널티는 부과하지 않는다.\n",
        "- 종속변수: gender(0:암컷, 1:수컷)"
      ],
      "metadata": {
        "id": "paHiKoCrtKnv"
      }
    },
    {
      "cell_type": "markdown",
      "source": [
        "### 문제1-1. weight를 독립변수로 gender를 종속변수로 사용하여 로지스틱 회귀 모형을 만들고, weight 변수가 한 단위 증가할 때 수컷일 오즈비 값은? (반올림하여 소수 넷째자리까지 계산)"
      ],
      "metadata": {
        "id": "6NFP8vjOX0eu"
      }
    },
    {
      "cell_type": "code",
      "source": [
        "import pandas as pd\n",
        "df = pd.read_csv(\"clam.csv\")\n",
        "\n",
        "#print(df)\n",
        "\n",
        "df210 = df.iloc[:210]\n",
        "test = df[210:]\n",
        "#print(df210)\n",
        "print(df210.shape, test.shape)\n",
        "\n",
        "#로지스틱회귀 - 분류\n",
        "from statsmodels.formula.api import logit #로지스틱회귀분석 import\n",
        "# print(dir(logit))\n",
        "# print(help(logit))\n",
        "# 순서는 종속변수 우선, 그 후 독립변수를 작성 (~로 구분)\n",
        "model = logit('gender ~ weight', data = df210).fit()\n",
        "# 학습시에는 df210을 사용하여 학습\n",
        "print(model.summary())\n",
        "# 학습용으로는 train, 예측에는 test 사용.\n",
        "\n",
        "# weight의 coef(회귀계수)는 0.0047\n",
        "import numpy as np\n",
        "np.exp(0.0047) #1.0047110623241844\n",
        "\n",
        "model.params['weight'] #0.004706195937284832\n",
        "print(round(np.exp(model.params['weight']),4)) #np.exp(0.0047과 근사)\n",
        "\n"
      ],
      "metadata": {
        "id": "H38dKQCTrB_5",
        "colab": {
          "base_uri": "https://localhost:8080/"
        },
        "outputId": "1f00b96f-7abf-441a-9ed5-31aba9d940d3"
      },
      "execution_count": 25,
      "outputs": [
        {
          "output_type": "stream",
          "name": "stdout",
          "text": [
            "(210, 6) (90, 6)\n",
            "Optimization terminated successfully.\n",
            "         Current function value: 0.690045\n",
            "         Iterations 4\n",
            "                           Logit Regression Results                           \n",
            "==============================================================================\n",
            "Dep. Variable:                 gender   No. Observations:                  210\n",
            "Model:                          Logit   Df Residuals:                      208\n",
            "Method:                           MLE   Df Model:                            1\n",
            "Date:                Sun, 16 Jun 2024   Pseudo R-squ.:                0.003431\n",
            "Time:                        08:54:50   Log-Likelihood:                -144.91\n",
            "converged:                       True   LL-Null:                       -145.41\n",
            "Covariance Type:            nonrobust   LLR p-value:                    0.3178\n",
            "==============================================================================\n",
            "                 coef    std err          z      P>|z|      [0.025      0.975]\n",
            "------------------------------------------------------------------------------\n",
            "Intercept     -0.3140      0.276     -1.137      0.256      -0.855       0.227\n",
            "weight         0.0047      0.005      0.997      0.319      -0.005       0.014\n",
            "==============================================================================\n",
            "1.0047\n"
          ]
        }
      ]
    },
    {
      "cell_type": "markdown",
      "source": [
        "### 문제1-2. gender를 종속변수로 하고 나머지 변수들(age, length, diameter, height, weight)을 독립변수로 사용하는 로지스틱 회귀 모델을 적합시킨 후, 잔차 이탈도(Residual Deviance)를 계산하시오. (반올림하여 소수 둘째자리까지 계산)"
      ],
      "metadata": {
        "id": "yeKVhetBtS8N"
      }
    },
    {
      "cell_type": "code",
      "source": [
        "# model = logit('gender ~ age + length + diameter + height + weight', data = df210).fit()\n",
        "#print(model.summary())\n",
        "\n",
        "import statsmodels.api as sm\n",
        "from statsmodels.formula.api import glm\n",
        "formula = \"gender ~ age + length + diameter + height + weight\"\n",
        "model = glm(formula, data = df210, family = sm.families.Binomial()).fit() # 이진분류\n",
        "#print(dir(glm))\n",
        "#print(model.summary())\n",
        "# Deviance: 286.93 (잔차이탈도)\n",
        "#print(model.deviance) # 286.93267518507366\n",
        "print(round(model.deviance,2))\n"
      ],
      "metadata": {
        "id": "w970_hIsSV2U",
        "colab": {
          "base_uri": "https://localhost:8080/"
        },
        "outputId": "f2b6795b-e6e6-4119-ca6a-39dbd73db00f"
      },
      "execution_count": 36,
      "outputs": [
        {
          "output_type": "stream",
          "name": "stdout",
          "text": [
            "286.93\n"
          ]
        }
      ]
    },
    {
      "cell_type": "markdown",
      "source": [
        "### 문제1-3. 독립변수 weight 만 사용해 학습한 로지스틱 회귀모델에서 test데이터의 gender를 예측하고, error rate(오류율)를 구하시오. (반올림하여 소수 셋째자리까지 계산)"
      ],
      "metadata": {
        "id": "x4u7dfFTtUs9"
      }
    },
    {
      "cell_type": "code",
      "source": [
        "from sklearn.metrics import accuracy_score\n",
        "from statsmodels.formula.api import logit\n",
        "\n",
        "model = logit('gender ~ weight', data = df210).fit()\n",
        "# target = test.pop('gender')\n",
        "pred = model.predict(test) >0.5\n",
        "print(model.predict(test) > 0.5) # 일반적으로 오류율은 0.5를 기준으로 하므로,\n",
        "# 0.5 조건을 붙여 True와 False로 구분.\n",
        "# print(model.summary())\n",
        "acc = accuracy_score(target, pred)\n",
        "errorrate = 1 - acc\n",
        "print(round(errorrate,3))\n"
      ],
      "metadata": {
        "id": "7x8XLDu4HksT",
        "colab": {
          "base_uri": "https://localhost:8080/"
        },
        "outputId": "8c0a2683-b240-4dfa-b915-1f2660e3a5ea"
      },
      "execution_count": 46,
      "outputs": [
        {
          "output_type": "stream",
          "name": "stdout",
          "text": [
            "Optimization terminated successfully.\n",
            "         Current function value: 0.690045\n",
            "         Iterations 4\n",
            "210     True\n",
            "211     True\n",
            "212     True\n",
            "213     True\n",
            "214    False\n",
            "       ...  \n",
            "295    False\n",
            "296    False\n",
            "297    False\n",
            "298    False\n",
            "299    False\n",
            "Length: 90, dtype: bool\n",
            "0.478\n"
          ]
        }
      ]
    },
    {
      "cell_type": "code",
      "source": [],
      "metadata": {
        "id": "58K1VvmtN3-3"
      },
      "execution_count": null,
      "outputs": []
    },
    {
      "cell_type": "markdown",
      "source": [
        "### 문제2-1. ERP와 가장 상관관계 높은값을 구하시오. (반올림하여 소수 셋째자리까지 계산)"
      ],
      "metadata": {
        "id": "4MSQ0eB1tWsh"
      }
    },
    {
      "cell_type": "code",
      "source": [
        "import pandas as pd\n",
        "df = pd.read_csv(\"system.csv\")"
      ],
      "metadata": {
        "id": "OlvzgzRDcNt8"
      },
      "execution_count": 47,
      "outputs": []
    },
    {
      "cell_type": "code",
      "source": [
        "# print(abs(df.corr())) #0.434442\n",
        "print(round(0.434442,3))\n",
        "\n"
      ],
      "metadata": {
        "id": "6POPUMi3Axb6",
        "colab": {
          "base_uri": "https://localhost:8080/"
        },
        "outputId": "f22768ce-aef3-4ffd-bbd8-ee6515e54b39"
      },
      "execution_count": 58,
      "outputs": [
        {
          "output_type": "stream",
          "name": "stdout",
          "text": [
            "               ERP  Feature1  Feature2  Feature3       CPU\n",
            "ERP       1.000000  0.434442  0.076116  0.059888  0.201027\n",
            "Feature1  0.434442  1.000000  0.076148  0.049980  0.098571\n",
            "Feature2  0.076116  0.076148  1.000000  0.126589  0.071456\n",
            "Feature3  0.059888  0.049980  0.126589  1.000000  0.035247\n",
            "CPU       0.201027  0.098571  0.071456  0.035247  1.000000\n",
            "0.434\n"
          ]
        }
      ]
    },
    {
      "cell_type": "markdown",
      "source": [
        "### 문제2-2. CPU 컬럼이 100미만인 것만 찾아 ERP를 종속 변수로, 나머지 변수들을 독립 변수로 설정해 선형회귀 모델을 만들고 적합한 결정계수를 구하시오. (반올림하여 소수 셋째자리까지 계산)"
      ],
      "metadata": {
        "id": "EVAJRDHi6gAG"
      }
    },
    {
      "cell_type": "code",
      "source": [
        "#df\n",
        "cond1 = df['CPU'] < 100\n",
        "df[cond1] #cpu 컬럼이 100 미만\n",
        "\n",
        "\n",
        "from statsmodels.formula.api import ols\n",
        "model = ols('ERP ~ Feature1 + Feature2 + Feature3 + CPU', data = df[cond1]).fit()\n",
        "print(model.summary())\n",
        "#결정계수는 r-square로 구함.0.226\n",
        "# 수정된 결정계수는 Adj. R-squared로 구함.\n",
        "\n",
        "# print(model.rsquared) 더 정확한 값을 알고 싶을 때. 기본적으로는 필요하지 않음.\n",
        "\n"
      ],
      "metadata": {
        "id": "QW0SyhImA1l0",
        "colab": {
          "base_uri": "https://localhost:8080/"
        },
        "outputId": "a13da8ea-4af0-443d-bc1a-fc307a6a1c9d"
      },
      "execution_count": 66,
      "outputs": [
        {
          "output_type": "stream",
          "name": "stdout",
          "text": [
            "                            OLS Regression Results                            \n",
            "==============================================================================\n",
            "Dep. Variable:                    ERP   R-squared:                       0.226\n",
            "Model:                            OLS   Adj. R-squared:                  0.193\n",
            "Method:                 Least Squares   F-statistic:                     6.937\n",
            "Date:                Sun, 16 Jun 2024   Prob (F-statistic):           6.07e-05\n",
            "Time:                        09:15:45   Log-Likelihood:                -429.44\n",
            "No. Observations:                 100   AIC:                             868.9\n",
            "Df Residuals:                      95   BIC:                             881.9\n",
            "Df Model:                           4                                         \n",
            "Covariance Type:            nonrobust                                         \n",
            "==============================================================================\n",
            "                 coef    std err          t      P>|t|      [0.025      0.975]\n",
            "------------------------------------------------------------------------------\n",
            "Intercept     74.4348     15.094      4.932      0.000      44.470     104.399\n",
            "Feature1       0.1391      0.030      4.583      0.000       0.079       0.199\n",
            "Feature2       0.0966      0.129      0.747      0.457      -0.160       0.353\n",
            "Feature3      -0.4136      0.395     -1.046      0.298      -1.198       0.371\n",
            "CPU           -0.1125      0.061     -1.846      0.068      -0.233       0.008\n",
            "==============================================================================\n",
            "Omnibus:                        0.279   Durbin-Watson:                   1.976\n",
            "Prob(Omnibus):                  0.870   Jarque-Bera (JB):                0.442\n",
            "Skew:                           0.090   Prob(JB):                        0.802\n",
            "Kurtosis:                       2.729   Cond. No.                     1.16e+03\n",
            "==============================================================================\n",
            "\n",
            "Notes:\n",
            "[1] Standard Errors assume that the covariance matrix of the errors is correctly specified.\n",
            "[2] The condition number is large, 1.16e+03. This might indicate that there are\n",
            "strong multicollinearity or other numerical problems.\n",
            "0.22606276192451658\n"
          ]
        }
      ]
    },
    {
      "cell_type": "markdown",
      "source": [
        "### 문제 2-3. 2-2에서 만든 모델에서 독립변수 중 p-value가 가장 높은값을 구하시오. (반올림하여 소수 셋째자리까지 계산)"
      ],
      "metadata": {
        "id": "21AknqejYXEZ"
      }
    },
    {
      "cell_type": "code",
      "source": [
        "# p-value 역시 model.summary()로 확인 가능.\n",
        "\n",
        "# print(model.summary())\n",
        "\n",
        "#단, 소숫점 셋째 자리까지만 표시되니 정확히 확인을 위해 따로 출력\n",
        "# print(model.pvalues) #0.456708\n",
        "print(round(max(model.pvalues),3)) #0.457\n",
        "\n",
        "# coef 회귀계수 P>|t| p-value 0.025 ~ 0.975 신뢰구간"
      ],
      "metadata": {
        "id": "KTBZo1XKYYZa",
        "colab": {
          "base_uri": "https://localhost:8080/"
        },
        "outputId": "712146a4-ca26-4712-ca99-bd8a14900f77"
      },
      "execution_count": 70,
      "outputs": [
        {
          "output_type": "stream",
          "name": "stdout",
          "text": [
            "                            OLS Regression Results                            \n",
            "==============================================================================\n",
            "Dep. Variable:                    ERP   R-squared:                       0.226\n",
            "Model:                            OLS   Adj. R-squared:                  0.193\n",
            "Method:                 Least Squares   F-statistic:                     6.937\n",
            "Date:                Sun, 16 Jun 2024   Prob (F-statistic):           6.07e-05\n",
            "Time:                        09:17:33   Log-Likelihood:                -429.44\n",
            "No. Observations:                 100   AIC:                             868.9\n",
            "Df Residuals:                      95   BIC:                             881.9\n",
            "Df Model:                           4                                         \n",
            "Covariance Type:            nonrobust                                         \n",
            "==============================================================================\n",
            "                 coef    std err          t      P>|t|      [0.025      0.975]\n",
            "------------------------------------------------------------------------------\n",
            "Intercept     74.4348     15.094      4.932      0.000      44.470     104.399\n",
            "Feature1       0.1391      0.030      4.583      0.000       0.079       0.199\n",
            "Feature2       0.0966      0.129      0.747      0.457      -0.160       0.353\n",
            "Feature3      -0.4136      0.395     -1.046      0.298      -1.198       0.371\n",
            "CPU           -0.1125      0.061     -1.846      0.068      -0.233       0.008\n",
            "==============================================================================\n",
            "Omnibus:                        0.279   Durbin-Watson:                   1.976\n",
            "Prob(Omnibus):                  0.870   Jarque-Bera (JB):                0.442\n",
            "Skew:                           0.090   Prob(JB):                        0.802\n",
            "Kurtosis:                       2.729   Cond. No.                     1.16e+03\n",
            "==============================================================================\n",
            "\n",
            "Notes:\n",
            "[1] Standard Errors assume that the covariance matrix of the errors is correctly specified.\n",
            "[2] The condition number is large, 1.16e+03. This might indicate that there are\n",
            "strong multicollinearity or other numerical problems.\n",
            "Intercept    0.000003\n",
            "Feature1     0.000014\n",
            "Feature2     0.456708\n",
            "Feature3     0.298206\n",
            "CPU          0.067968\n",
            "dtype: float64\n",
            "0.457\n"
          ]
        }
      ]
    },
    {
      "cell_type": "code",
      "source": [],
      "metadata": {
        "id": "oWBXl-yzK0G2"
      },
      "execution_count": null,
      "outputs": []
    }
  ]
}