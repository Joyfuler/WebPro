{
  "nbformat": 4,
  "nbformat_minor": 0,
  "metadata": {
    "colab": {
      "provenance": []
    },
    "kernelspec": {
      "name": "python3",
      "display_name": "Python 3"
    },
    "language_info": {
      "name": "python"
    }
  },
  "cells": [
    {
      "cell_type": "markdown",
      "source": [
        "### mart 판매 데이터를 기반으로 판매액을 예측하시오.\n",
        "- 제공된 데이터 목록: mart_train.csv (훈련 데이터), mart_test.csv (평가용 데이터)\n",
        "- 예측할 컬럼: total (총 판매액)\n",
        "학습용 데이터(mart_train.csv)를 이용하여 총 판매액을 예측하는 모델을 만든 후, 이를 평가용 데이터(mart_test.csv)에 적용하여 얻은 예측값을 다음과 같은 형식의 CSV 파일로 생성하시오.\n",
        "- 제출 파일은 다음 한 개의 컬럼을 포함해야 합니다.\n",
        "- pred: 예측된 총 판매액\n",
        "- 제출 파일명: 'result.csv'\n",
        "- 제출한 모델의 성능은 RMSE(Root Mean Square Error) 평가지표에 따라 채점한다.\n",
        "- 제출 CSV 파일명 및 형태: result.csv\n",
        "\n",
        "~~~\n",
        "pred\n",
        "10000\n",
        "20000\n",
        "30000\n",
        "40000\n",
        "...\n",
        "~~~\n",
        "\n",
        "### 답안 제출 참고\n",
        "- pd.read_csv('result.csv') 로 제출 코드 확인"
      ],
      "metadata": {
        "id": "KBEr9K-lV_M6"
      }
    },
    {
      "cell_type": "markdown",
      "source": [
        "# 1. 문제정의\n",
        "- RMSE\n",
        "- target: total\n",
        "- 예측 파일명: result.csv\n",
        "- 컬럼 1개(pred)"
      ],
      "metadata": {
        "id": "Ae4v-2ju1mWi"
      }
    },
    {
      "cell_type": "markdown",
      "source": [
        "# 2. 라이브러리 및 데이터 불러오기"
      ],
      "metadata": {
        "id": "qgSesVv_1qP_"
      }
    },
    {
      "cell_type": "code",
      "source": [
        "# 데이터 불러오기\n",
        "import pandas as pd\n",
        "train = pd.read_csv(\"mart_train.csv\")\n",
        "test = pd.read_csv(\"mart_test.csv\")"
      ],
      "metadata": {
        "id": "30wq46-FfSt_"
      },
      "execution_count": 72,
      "outputs": []
    },
    {
      "cell_type": "markdown",
      "source": [
        "# 3. 탐색적 데이터 분석(EDA)"
      ],
      "metadata": {
        "id": "3dAHY3V1lWxV"
      }
    },
    {
      "cell_type": "code",
      "source": [
        "# 데이터 크기 확인\n",
        "print(train.shape, test.shape)\n",
        "#train에는 total 존재. test에는 부재."
      ],
      "metadata": {
        "id": "0YRdxQxifwf9",
        "colab": {
          "base_uri": "https://localhost:8080/"
        },
        "outputId": "e70cccd3-30cc-4312-e48f-6d61801927ec"
      },
      "execution_count": 73,
      "outputs": [
        {
          "output_type": "stream",
          "name": "stdout",
          "text": [
            "(700, 10) (300, 9)\n"
          ]
        }
      ]
    },
    {
      "cell_type": "code",
      "source": [
        "# train 샘플 확인\n",
        "print(train.info()) # 수치형 데이터는 2개. 나머지는 범주형.\n",
        "print(train.head())\n",
        "#범주형이 많으므로 인코딩 필요할 것으로 보임"
      ],
      "metadata": {
        "id": "F_k-MGd-f4Iw",
        "colab": {
          "base_uri": "https://localhost:8080/"
        },
        "outputId": "04efae89-4f7f-4f58-c16e-27e488384093"
      },
      "execution_count": 74,
      "outputs": [
        {
          "output_type": "stream",
          "name": "stdout",
          "text": [
            "<class 'pandas.core.frame.DataFrame'>\n",
            "RangeIndex: 700 entries, 0 to 699\n",
            "Data columns (total 10 columns):\n",
            " #   Column          Non-Null Count  Dtype  \n",
            "---  ------          --------------  -----  \n",
            " 0   branch          700 non-null    object \n",
            " 1   city            700 non-null    object \n",
            " 2   customer_type   700 non-null    object \n",
            " 3   gender          700 non-null    object \n",
            " 4   product_line    700 non-null    object \n",
            " 5   total           700 non-null    float64\n",
            " 6   payment_method  700 non-null    object \n",
            " 7   rating          700 non-null    float64\n",
            " 8   time_of_day     700 non-null    object \n",
            " 9   day_name        700 non-null    object \n",
            "dtypes: float64(2), object(8)\n",
            "memory usage: 54.8+ KB\n",
            "None\n",
            "  branch       city customer_type  gender            product_line      total  \\\n",
            "0      A     Yangon        Member  Female       Health and beauty  823457.25   \n",
            "1      C  Naypyitaw        Normal  Female  Electronic accessories  120330.00   \n",
            "2      A     Yangon        Normal    Male      Home and lifestyle  510788.25   \n",
            "3      A     Yangon        Member    Male       Health and beauty  733572.00   \n",
            "4      A     Yangon        Normal    Male       Sports and travel  951567.75   \n",
            "\n",
            "  payment_method  rating time_of_day  day_name  \n",
            "0        Ewallet     9.1   afternoon  Saturday  \n",
            "1           Cash     9.6     morning    Friday  \n",
            "2    Credit card     7.4   afternoon    Sunday  \n",
            "3        Ewallet     8.4     evening    Sunday  \n",
            "4        Ewallet     5.3     morning    Friday  \n"
          ]
        }
      ]
    },
    {
      "cell_type": "code",
      "source": [
        "# test 샘플 확인\n",
        "print(test.info())\n",
        "print(test.head())\n",
        "# 수치형 1개"
      ],
      "metadata": {
        "id": "pKT3QURYykAP",
        "colab": {
          "base_uri": "https://localhost:8080/"
        },
        "outputId": "a664e709-cbe0-40f8-aee4-78a40a0f4cab"
      },
      "execution_count": 75,
      "outputs": [
        {
          "output_type": "stream",
          "name": "stdout",
          "text": [
            "<class 'pandas.core.frame.DataFrame'>\n",
            "RangeIndex: 300 entries, 0 to 299\n",
            "Data columns (total 9 columns):\n",
            " #   Column          Non-Null Count  Dtype  \n",
            "---  ------          --------------  -----  \n",
            " 0   branch          300 non-null    object \n",
            " 1   city            300 non-null    object \n",
            " 2   customer_type   300 non-null    object \n",
            " 3   gender          300 non-null    object \n",
            " 4   product_line    300 non-null    object \n",
            " 5   payment_method  300 non-null    object \n",
            " 6   rating          300 non-null    float64\n",
            " 7   time_of_day     300 non-null    object \n",
            " 8   day_name        300 non-null    object \n",
            "dtypes: float64(1), object(8)\n",
            "memory usage: 21.2+ KB\n",
            "None\n",
            "  branch       city customer_type  gender         product_line payment_method  \\\n",
            "0      C  Naypyitaw        Normal  Female  Fashion accessories        Ewallet   \n",
            "1      B   Mandalay        Normal    Male   Food and beverages    Credit card   \n",
            "2      B   Mandalay        Member  Female  Fashion accessories    Credit card   \n",
            "3      B   Mandalay        Member    Male    Health and beauty           Cash   \n",
            "4      B   Mandalay        Member  Female   Home and lifestyle           Cash   \n",
            "\n",
            "   rating time_of_day   day_name  \n",
            "0     9.6   afternoon   Thursday  \n",
            "1     4.3     evening  Wednesday  \n",
            "2     5.0     evening  Wednesday  \n",
            "3     9.2     morning     Sunday  \n",
            "4     6.3   afternoon   Saturday  \n"
          ]
        }
      ]
    },
    {
      "cell_type": "code",
      "source": [
        "# 자료형 확인\n",
        "print(train.describe(include = 'O'))\n",
        "print(test.describe(include = 'O'))\n",
        "\n"
      ],
      "metadata": {
        "id": "FIRfcqHVgPxr",
        "colab": {
          "base_uri": "https://localhost:8080/"
        },
        "outputId": "8e4ae7af-bc87-406a-edb6-e13c0457590a"
      },
      "execution_count": 76,
      "outputs": [
        {
          "output_type": "stream",
          "name": "stdout",
          "text": [
            "       branch    city customer_type gender       product_line payment_method  \\\n",
            "count     700     700           700    700                700            700   \n",
            "unique      3       3             2      2                  6              3   \n",
            "top         A  Yangon        Normal   Male  Sports and travel           Cash   \n",
            "freq      236     236           354    356                127            246   \n",
            "\n",
            "       time_of_day  day_name  \n",
            "count          700       700  \n",
            "unique           3         7  \n",
            "top        evening  Saturday  \n",
            "freq           309       114  \n",
            "       branch    city customer_type  gender            product_line  \\\n",
            "count     300     300           300     300                     300   \n",
            "unique      3       3             2       2                       6   \n",
            "top         A  Yangon        Member  Female  Electronic accessories   \n",
            "freq      104     104           155     157                      58   \n",
            "\n",
            "       payment_method time_of_day  day_name  \n",
            "count             300         300       300  \n",
            "unique              3           3         7  \n",
            "top           Ewallet     evening  Saturday  \n",
            "freq              110         123        50  \n"
          ]
        }
      ]
    },
    {
      "cell_type": "code",
      "source": [
        "# train 기초 통계값 확인\n",
        "train.describe()"
      ],
      "metadata": {
        "id": "q1hofG4HinUJ",
        "colab": {
          "base_uri": "https://localhost:8080/",
          "height": 300
        },
        "outputId": "c6d07908-b79d-44e9-db7e-668dceb3780c"
      },
      "execution_count": 77,
      "outputs": [
        {
          "output_type": "execute_result",
          "data": {
            "text/plain": [
              "              total      rating\n",
              "count  7.000000e+02  700.000000\n",
              "mean   4.850780e+05    7.003429\n",
              "std    3.643907e+05    1.713078\n",
              "min    1.904175e+04    4.000000\n",
              "25%    2.001195e+05    5.500000\n",
              "50%    3.818745e+05    7.000000\n",
              "75%    7.061276e+05    8.425000\n",
              "max    1.563975e+06   10.000000"
            ],
            "text/html": [
              "\n",
              "  <div id=\"df-93683add-27c6-47f0-9ca7-bb394a51c6bb\" class=\"colab-df-container\">\n",
              "    <div>\n",
              "<style scoped>\n",
              "    .dataframe tbody tr th:only-of-type {\n",
              "        vertical-align: middle;\n",
              "    }\n",
              "\n",
              "    .dataframe tbody tr th {\n",
              "        vertical-align: top;\n",
              "    }\n",
              "\n",
              "    .dataframe thead th {\n",
              "        text-align: right;\n",
              "    }\n",
              "</style>\n",
              "<table border=\"1\" class=\"dataframe\">\n",
              "  <thead>\n",
              "    <tr style=\"text-align: right;\">\n",
              "      <th></th>\n",
              "      <th>total</th>\n",
              "      <th>rating</th>\n",
              "    </tr>\n",
              "  </thead>\n",
              "  <tbody>\n",
              "    <tr>\n",
              "      <th>count</th>\n",
              "      <td>7.000000e+02</td>\n",
              "      <td>700.000000</td>\n",
              "    </tr>\n",
              "    <tr>\n",
              "      <th>mean</th>\n",
              "      <td>4.850780e+05</td>\n",
              "      <td>7.003429</td>\n",
              "    </tr>\n",
              "    <tr>\n",
              "      <th>std</th>\n",
              "      <td>3.643907e+05</td>\n",
              "      <td>1.713078</td>\n",
              "    </tr>\n",
              "    <tr>\n",
              "      <th>min</th>\n",
              "      <td>1.904175e+04</td>\n",
              "      <td>4.000000</td>\n",
              "    </tr>\n",
              "    <tr>\n",
              "      <th>25%</th>\n",
              "      <td>2.001195e+05</td>\n",
              "      <td>5.500000</td>\n",
              "    </tr>\n",
              "    <tr>\n",
              "      <th>50%</th>\n",
              "      <td>3.818745e+05</td>\n",
              "      <td>7.000000</td>\n",
              "    </tr>\n",
              "    <tr>\n",
              "      <th>75%</th>\n",
              "      <td>7.061276e+05</td>\n",
              "      <td>8.425000</td>\n",
              "    </tr>\n",
              "    <tr>\n",
              "      <th>max</th>\n",
              "      <td>1.563975e+06</td>\n",
              "      <td>10.000000</td>\n",
              "    </tr>\n",
              "  </tbody>\n",
              "</table>\n",
              "</div>\n",
              "    <div class=\"colab-df-buttons\">\n",
              "\n",
              "  <div class=\"colab-df-container\">\n",
              "    <button class=\"colab-df-convert\" onclick=\"convertToInteractive('df-93683add-27c6-47f0-9ca7-bb394a51c6bb')\"\n",
              "            title=\"Convert this dataframe to an interactive table.\"\n",
              "            style=\"display:none;\">\n",
              "\n",
              "  <svg xmlns=\"http://www.w3.org/2000/svg\" height=\"24px\" viewBox=\"0 -960 960 960\">\n",
              "    <path d=\"M120-120v-720h720v720H120Zm60-500h600v-160H180v160Zm220 220h160v-160H400v160Zm0 220h160v-160H400v160ZM180-400h160v-160H180v160Zm440 0h160v-160H620v160ZM180-180h160v-160H180v160Zm440 0h160v-160H620v160Z\"/>\n",
              "  </svg>\n",
              "    </button>\n",
              "\n",
              "  <style>\n",
              "    .colab-df-container {\n",
              "      display:flex;\n",
              "      gap: 12px;\n",
              "    }\n",
              "\n",
              "    .colab-df-convert {\n",
              "      background-color: #E8F0FE;\n",
              "      border: none;\n",
              "      border-radius: 50%;\n",
              "      cursor: pointer;\n",
              "      display: none;\n",
              "      fill: #1967D2;\n",
              "      height: 32px;\n",
              "      padding: 0 0 0 0;\n",
              "      width: 32px;\n",
              "    }\n",
              "\n",
              "    .colab-df-convert:hover {\n",
              "      background-color: #E2EBFA;\n",
              "      box-shadow: 0px 1px 2px rgba(60, 64, 67, 0.3), 0px 1px 3px 1px rgba(60, 64, 67, 0.15);\n",
              "      fill: #174EA6;\n",
              "    }\n",
              "\n",
              "    .colab-df-buttons div {\n",
              "      margin-bottom: 4px;\n",
              "    }\n",
              "\n",
              "    [theme=dark] .colab-df-convert {\n",
              "      background-color: #3B4455;\n",
              "      fill: #D2E3FC;\n",
              "    }\n",
              "\n",
              "    [theme=dark] .colab-df-convert:hover {\n",
              "      background-color: #434B5C;\n",
              "      box-shadow: 0px 1px 3px 1px rgba(0, 0, 0, 0.15);\n",
              "      filter: drop-shadow(0px 1px 2px rgba(0, 0, 0, 0.3));\n",
              "      fill: #FFFFFF;\n",
              "    }\n",
              "  </style>\n",
              "\n",
              "    <script>\n",
              "      const buttonEl =\n",
              "        document.querySelector('#df-93683add-27c6-47f0-9ca7-bb394a51c6bb button.colab-df-convert');\n",
              "      buttonEl.style.display =\n",
              "        google.colab.kernel.accessAllowed ? 'block' : 'none';\n",
              "\n",
              "      async function convertToInteractive(key) {\n",
              "        const element = document.querySelector('#df-93683add-27c6-47f0-9ca7-bb394a51c6bb');\n",
              "        const dataTable =\n",
              "          await google.colab.kernel.invokeFunction('convertToInteractive',\n",
              "                                                    [key], {});\n",
              "        if (!dataTable) return;\n",
              "\n",
              "        const docLinkHtml = 'Like what you see? Visit the ' +\n",
              "          '<a target=\"_blank\" href=https://colab.research.google.com/notebooks/data_table.ipynb>data table notebook</a>'\n",
              "          + ' to learn more about interactive tables.';\n",
              "        element.innerHTML = '';\n",
              "        dataTable['output_type'] = 'display_data';\n",
              "        await google.colab.output.renderOutput(dataTable, element);\n",
              "        const docLink = document.createElement('div');\n",
              "        docLink.innerHTML = docLinkHtml;\n",
              "        element.appendChild(docLink);\n",
              "      }\n",
              "    </script>\n",
              "  </div>\n",
              "\n",
              "\n",
              "<div id=\"df-bac942d1-ac23-4f62-88e3-45b9cf7d4f29\">\n",
              "  <button class=\"colab-df-quickchart\" onclick=\"quickchart('df-bac942d1-ac23-4f62-88e3-45b9cf7d4f29')\"\n",
              "            title=\"Suggest charts\"\n",
              "            style=\"display:none;\">\n",
              "\n",
              "<svg xmlns=\"http://www.w3.org/2000/svg\" height=\"24px\"viewBox=\"0 0 24 24\"\n",
              "     width=\"24px\">\n",
              "    <g>\n",
              "        <path d=\"M19 3H5c-1.1 0-2 .9-2 2v14c0 1.1.9 2 2 2h14c1.1 0 2-.9 2-2V5c0-1.1-.9-2-2-2zM9 17H7v-7h2v7zm4 0h-2V7h2v10zm4 0h-2v-4h2v4z\"/>\n",
              "    </g>\n",
              "</svg>\n",
              "  </button>\n",
              "\n",
              "<style>\n",
              "  .colab-df-quickchart {\n",
              "      --bg-color: #E8F0FE;\n",
              "      --fill-color: #1967D2;\n",
              "      --hover-bg-color: #E2EBFA;\n",
              "      --hover-fill-color: #174EA6;\n",
              "      --disabled-fill-color: #AAA;\n",
              "      --disabled-bg-color: #DDD;\n",
              "  }\n",
              "\n",
              "  [theme=dark] .colab-df-quickchart {\n",
              "      --bg-color: #3B4455;\n",
              "      --fill-color: #D2E3FC;\n",
              "      --hover-bg-color: #434B5C;\n",
              "      --hover-fill-color: #FFFFFF;\n",
              "      --disabled-bg-color: #3B4455;\n",
              "      --disabled-fill-color: #666;\n",
              "  }\n",
              "\n",
              "  .colab-df-quickchart {\n",
              "    background-color: var(--bg-color);\n",
              "    border: none;\n",
              "    border-radius: 50%;\n",
              "    cursor: pointer;\n",
              "    display: none;\n",
              "    fill: var(--fill-color);\n",
              "    height: 32px;\n",
              "    padding: 0;\n",
              "    width: 32px;\n",
              "  }\n",
              "\n",
              "  .colab-df-quickchart:hover {\n",
              "    background-color: var(--hover-bg-color);\n",
              "    box-shadow: 0 1px 2px rgba(60, 64, 67, 0.3), 0 1px 3px 1px rgba(60, 64, 67, 0.15);\n",
              "    fill: var(--button-hover-fill-color);\n",
              "  }\n",
              "\n",
              "  .colab-df-quickchart-complete:disabled,\n",
              "  .colab-df-quickchart-complete:disabled:hover {\n",
              "    background-color: var(--disabled-bg-color);\n",
              "    fill: var(--disabled-fill-color);\n",
              "    box-shadow: none;\n",
              "  }\n",
              "\n",
              "  .colab-df-spinner {\n",
              "    border: 2px solid var(--fill-color);\n",
              "    border-color: transparent;\n",
              "    border-bottom-color: var(--fill-color);\n",
              "    animation:\n",
              "      spin 1s steps(1) infinite;\n",
              "  }\n",
              "\n",
              "  @keyframes spin {\n",
              "    0% {\n",
              "      border-color: transparent;\n",
              "      border-bottom-color: var(--fill-color);\n",
              "      border-left-color: var(--fill-color);\n",
              "    }\n",
              "    20% {\n",
              "      border-color: transparent;\n",
              "      border-left-color: var(--fill-color);\n",
              "      border-top-color: var(--fill-color);\n",
              "    }\n",
              "    30% {\n",
              "      border-color: transparent;\n",
              "      border-left-color: var(--fill-color);\n",
              "      border-top-color: var(--fill-color);\n",
              "      border-right-color: var(--fill-color);\n",
              "    }\n",
              "    40% {\n",
              "      border-color: transparent;\n",
              "      border-right-color: var(--fill-color);\n",
              "      border-top-color: var(--fill-color);\n",
              "    }\n",
              "    60% {\n",
              "      border-color: transparent;\n",
              "      border-right-color: var(--fill-color);\n",
              "    }\n",
              "    80% {\n",
              "      border-color: transparent;\n",
              "      border-right-color: var(--fill-color);\n",
              "      border-bottom-color: var(--fill-color);\n",
              "    }\n",
              "    90% {\n",
              "      border-color: transparent;\n",
              "      border-bottom-color: var(--fill-color);\n",
              "    }\n",
              "  }\n",
              "</style>\n",
              "\n",
              "  <script>\n",
              "    async function quickchart(key) {\n",
              "      const quickchartButtonEl =\n",
              "        document.querySelector('#' + key + ' button');\n",
              "      quickchartButtonEl.disabled = true;  // To prevent multiple clicks.\n",
              "      quickchartButtonEl.classList.add('colab-df-spinner');\n",
              "      try {\n",
              "        const charts = await google.colab.kernel.invokeFunction(\n",
              "            'suggestCharts', [key], {});\n",
              "      } catch (error) {\n",
              "        console.error('Error during call to suggestCharts:', error);\n",
              "      }\n",
              "      quickchartButtonEl.classList.remove('colab-df-spinner');\n",
              "      quickchartButtonEl.classList.add('colab-df-quickchart-complete');\n",
              "    }\n",
              "    (() => {\n",
              "      let quickchartButtonEl =\n",
              "        document.querySelector('#df-bac942d1-ac23-4f62-88e3-45b9cf7d4f29 button');\n",
              "      quickchartButtonEl.style.display =\n",
              "        google.colab.kernel.accessAllowed ? 'block' : 'none';\n",
              "    })();\n",
              "  </script>\n",
              "</div>\n",
              "\n",
              "    </div>\n",
              "  </div>\n"
            ],
            "application/vnd.google.colaboratory.intrinsic+json": {
              "type": "dataframe",
              "summary": "{\n  \"name\": \"train\",\n  \"rows\": 8,\n  \"fields\": [\n    {\n      \"column\": \"total\",\n      \"properties\": {\n        \"dtype\": \"number\",\n        \"std\": 502556.1091715203,\n        \"min\": 700.0,\n        \"max\": 1563975.0000000002,\n        \"num_unique_values\": 8,\n        \"samples\": [\n          485078.0175,\n          381874.5,\n          700.0\n        ],\n        \"semantic_type\": \"\",\n        \"description\": \"\"\n      }\n    },\n    {\n      \"column\": \"rating\",\n      \"properties\": {\n        \"dtype\": \"number\",\n        \"std\": 245.29657760890063,\n        \"min\": 1.7130784358474729,\n        \"max\": 700.0,\n        \"num_unique_values\": 8,\n        \"samples\": [\n          7.003428571428571,\n          7.0,\n          700.0\n        ],\n        \"semantic_type\": \"\",\n        \"description\": \"\"\n      }\n    }\n  ]\n}"
            }
          },
          "metadata": {},
          "execution_count": 77
        }
      ]
    },
    {
      "cell_type": "code",
      "source": [
        "# test 기초 통계값 확인\n",
        "test.describe()"
      ],
      "metadata": {
        "id": "wsL0DtiAOnXw",
        "colab": {
          "base_uri": "https://localhost:8080/",
          "height": 300
        },
        "outputId": "81b66973-3bfe-40c3-c0d4-ee92a6dd0bec"
      },
      "execution_count": 78,
      "outputs": [
        {
          "output_type": "execute_result",
          "data": {
            "text/plain": [
              "           rating\n",
              "count  300.000000\n",
              "mean     6.901000\n",
              "std      1.732099\n",
              "min      4.000000\n",
              "25%      5.500000\n",
              "50%      6.800000\n",
              "75%      8.500000\n",
              "max     10.000000"
            ],
            "text/html": [
              "\n",
              "  <div id=\"df-2deadd23-b454-4478-bec1-2e69caac045f\" class=\"colab-df-container\">\n",
              "    <div>\n",
              "<style scoped>\n",
              "    .dataframe tbody tr th:only-of-type {\n",
              "        vertical-align: middle;\n",
              "    }\n",
              "\n",
              "    .dataframe tbody tr th {\n",
              "        vertical-align: top;\n",
              "    }\n",
              "\n",
              "    .dataframe thead th {\n",
              "        text-align: right;\n",
              "    }\n",
              "</style>\n",
              "<table border=\"1\" class=\"dataframe\">\n",
              "  <thead>\n",
              "    <tr style=\"text-align: right;\">\n",
              "      <th></th>\n",
              "      <th>rating</th>\n",
              "    </tr>\n",
              "  </thead>\n",
              "  <tbody>\n",
              "    <tr>\n",
              "      <th>count</th>\n",
              "      <td>300.000000</td>\n",
              "    </tr>\n",
              "    <tr>\n",
              "      <th>mean</th>\n",
              "      <td>6.901000</td>\n",
              "    </tr>\n",
              "    <tr>\n",
              "      <th>std</th>\n",
              "      <td>1.732099</td>\n",
              "    </tr>\n",
              "    <tr>\n",
              "      <th>min</th>\n",
              "      <td>4.000000</td>\n",
              "    </tr>\n",
              "    <tr>\n",
              "      <th>25%</th>\n",
              "      <td>5.500000</td>\n",
              "    </tr>\n",
              "    <tr>\n",
              "      <th>50%</th>\n",
              "      <td>6.800000</td>\n",
              "    </tr>\n",
              "    <tr>\n",
              "      <th>75%</th>\n",
              "      <td>8.500000</td>\n",
              "    </tr>\n",
              "    <tr>\n",
              "      <th>max</th>\n",
              "      <td>10.000000</td>\n",
              "    </tr>\n",
              "  </tbody>\n",
              "</table>\n",
              "</div>\n",
              "    <div class=\"colab-df-buttons\">\n",
              "\n",
              "  <div class=\"colab-df-container\">\n",
              "    <button class=\"colab-df-convert\" onclick=\"convertToInteractive('df-2deadd23-b454-4478-bec1-2e69caac045f')\"\n",
              "            title=\"Convert this dataframe to an interactive table.\"\n",
              "            style=\"display:none;\">\n",
              "\n",
              "  <svg xmlns=\"http://www.w3.org/2000/svg\" height=\"24px\" viewBox=\"0 -960 960 960\">\n",
              "    <path d=\"M120-120v-720h720v720H120Zm60-500h600v-160H180v160Zm220 220h160v-160H400v160Zm0 220h160v-160H400v160ZM180-400h160v-160H180v160Zm440 0h160v-160H620v160ZM180-180h160v-160H180v160Zm440 0h160v-160H620v160Z\"/>\n",
              "  </svg>\n",
              "    </button>\n",
              "\n",
              "  <style>\n",
              "    .colab-df-container {\n",
              "      display:flex;\n",
              "      gap: 12px;\n",
              "    }\n",
              "\n",
              "    .colab-df-convert {\n",
              "      background-color: #E8F0FE;\n",
              "      border: none;\n",
              "      border-radius: 50%;\n",
              "      cursor: pointer;\n",
              "      display: none;\n",
              "      fill: #1967D2;\n",
              "      height: 32px;\n",
              "      padding: 0 0 0 0;\n",
              "      width: 32px;\n",
              "    }\n",
              "\n",
              "    .colab-df-convert:hover {\n",
              "      background-color: #E2EBFA;\n",
              "      box-shadow: 0px 1px 2px rgba(60, 64, 67, 0.3), 0px 1px 3px 1px rgba(60, 64, 67, 0.15);\n",
              "      fill: #174EA6;\n",
              "    }\n",
              "\n",
              "    .colab-df-buttons div {\n",
              "      margin-bottom: 4px;\n",
              "    }\n",
              "\n",
              "    [theme=dark] .colab-df-convert {\n",
              "      background-color: #3B4455;\n",
              "      fill: #D2E3FC;\n",
              "    }\n",
              "\n",
              "    [theme=dark] .colab-df-convert:hover {\n",
              "      background-color: #434B5C;\n",
              "      box-shadow: 0px 1px 3px 1px rgba(0, 0, 0, 0.15);\n",
              "      filter: drop-shadow(0px 1px 2px rgba(0, 0, 0, 0.3));\n",
              "      fill: #FFFFFF;\n",
              "    }\n",
              "  </style>\n",
              "\n",
              "    <script>\n",
              "      const buttonEl =\n",
              "        document.querySelector('#df-2deadd23-b454-4478-bec1-2e69caac045f button.colab-df-convert');\n",
              "      buttonEl.style.display =\n",
              "        google.colab.kernel.accessAllowed ? 'block' : 'none';\n",
              "\n",
              "      async function convertToInteractive(key) {\n",
              "        const element = document.querySelector('#df-2deadd23-b454-4478-bec1-2e69caac045f');\n",
              "        const dataTable =\n",
              "          await google.colab.kernel.invokeFunction('convertToInteractive',\n",
              "                                                    [key], {});\n",
              "        if (!dataTable) return;\n",
              "\n",
              "        const docLinkHtml = 'Like what you see? Visit the ' +\n",
              "          '<a target=\"_blank\" href=https://colab.research.google.com/notebooks/data_table.ipynb>data table notebook</a>'\n",
              "          + ' to learn more about interactive tables.';\n",
              "        element.innerHTML = '';\n",
              "        dataTable['output_type'] = 'display_data';\n",
              "        await google.colab.output.renderOutput(dataTable, element);\n",
              "        const docLink = document.createElement('div');\n",
              "        docLink.innerHTML = docLinkHtml;\n",
              "        element.appendChild(docLink);\n",
              "      }\n",
              "    </script>\n",
              "  </div>\n",
              "\n",
              "\n",
              "<div id=\"df-3f9f058a-0c0f-4b38-ad86-d266ce8ec899\">\n",
              "  <button class=\"colab-df-quickchart\" onclick=\"quickchart('df-3f9f058a-0c0f-4b38-ad86-d266ce8ec899')\"\n",
              "            title=\"Suggest charts\"\n",
              "            style=\"display:none;\">\n",
              "\n",
              "<svg xmlns=\"http://www.w3.org/2000/svg\" height=\"24px\"viewBox=\"0 0 24 24\"\n",
              "     width=\"24px\">\n",
              "    <g>\n",
              "        <path d=\"M19 3H5c-1.1 0-2 .9-2 2v14c0 1.1.9 2 2 2h14c1.1 0 2-.9 2-2V5c0-1.1-.9-2-2-2zM9 17H7v-7h2v7zm4 0h-2V7h2v10zm4 0h-2v-4h2v4z\"/>\n",
              "    </g>\n",
              "</svg>\n",
              "  </button>\n",
              "\n",
              "<style>\n",
              "  .colab-df-quickchart {\n",
              "      --bg-color: #E8F0FE;\n",
              "      --fill-color: #1967D2;\n",
              "      --hover-bg-color: #E2EBFA;\n",
              "      --hover-fill-color: #174EA6;\n",
              "      --disabled-fill-color: #AAA;\n",
              "      --disabled-bg-color: #DDD;\n",
              "  }\n",
              "\n",
              "  [theme=dark] .colab-df-quickchart {\n",
              "      --bg-color: #3B4455;\n",
              "      --fill-color: #D2E3FC;\n",
              "      --hover-bg-color: #434B5C;\n",
              "      --hover-fill-color: #FFFFFF;\n",
              "      --disabled-bg-color: #3B4455;\n",
              "      --disabled-fill-color: #666;\n",
              "  }\n",
              "\n",
              "  .colab-df-quickchart {\n",
              "    background-color: var(--bg-color);\n",
              "    border: none;\n",
              "    border-radius: 50%;\n",
              "    cursor: pointer;\n",
              "    display: none;\n",
              "    fill: var(--fill-color);\n",
              "    height: 32px;\n",
              "    padding: 0;\n",
              "    width: 32px;\n",
              "  }\n",
              "\n",
              "  .colab-df-quickchart:hover {\n",
              "    background-color: var(--hover-bg-color);\n",
              "    box-shadow: 0 1px 2px rgba(60, 64, 67, 0.3), 0 1px 3px 1px rgba(60, 64, 67, 0.15);\n",
              "    fill: var(--button-hover-fill-color);\n",
              "  }\n",
              "\n",
              "  .colab-df-quickchart-complete:disabled,\n",
              "  .colab-df-quickchart-complete:disabled:hover {\n",
              "    background-color: var(--disabled-bg-color);\n",
              "    fill: var(--disabled-fill-color);\n",
              "    box-shadow: none;\n",
              "  }\n",
              "\n",
              "  .colab-df-spinner {\n",
              "    border: 2px solid var(--fill-color);\n",
              "    border-color: transparent;\n",
              "    border-bottom-color: var(--fill-color);\n",
              "    animation:\n",
              "      spin 1s steps(1) infinite;\n",
              "  }\n",
              "\n",
              "  @keyframes spin {\n",
              "    0% {\n",
              "      border-color: transparent;\n",
              "      border-bottom-color: var(--fill-color);\n",
              "      border-left-color: var(--fill-color);\n",
              "    }\n",
              "    20% {\n",
              "      border-color: transparent;\n",
              "      border-left-color: var(--fill-color);\n",
              "      border-top-color: var(--fill-color);\n",
              "    }\n",
              "    30% {\n",
              "      border-color: transparent;\n",
              "      border-left-color: var(--fill-color);\n",
              "      border-top-color: var(--fill-color);\n",
              "      border-right-color: var(--fill-color);\n",
              "    }\n",
              "    40% {\n",
              "      border-color: transparent;\n",
              "      border-right-color: var(--fill-color);\n",
              "      border-top-color: var(--fill-color);\n",
              "    }\n",
              "    60% {\n",
              "      border-color: transparent;\n",
              "      border-right-color: var(--fill-color);\n",
              "    }\n",
              "    80% {\n",
              "      border-color: transparent;\n",
              "      border-right-color: var(--fill-color);\n",
              "      border-bottom-color: var(--fill-color);\n",
              "    }\n",
              "    90% {\n",
              "      border-color: transparent;\n",
              "      border-bottom-color: var(--fill-color);\n",
              "    }\n",
              "  }\n",
              "</style>\n",
              "\n",
              "  <script>\n",
              "    async function quickchart(key) {\n",
              "      const quickchartButtonEl =\n",
              "        document.querySelector('#' + key + ' button');\n",
              "      quickchartButtonEl.disabled = true;  // To prevent multiple clicks.\n",
              "      quickchartButtonEl.classList.add('colab-df-spinner');\n",
              "      try {\n",
              "        const charts = await google.colab.kernel.invokeFunction(\n",
              "            'suggestCharts', [key], {});\n",
              "      } catch (error) {\n",
              "        console.error('Error during call to suggestCharts:', error);\n",
              "      }\n",
              "      quickchartButtonEl.classList.remove('colab-df-spinner');\n",
              "      quickchartButtonEl.classList.add('colab-df-quickchart-complete');\n",
              "    }\n",
              "    (() => {\n",
              "      let quickchartButtonEl =\n",
              "        document.querySelector('#df-3f9f058a-0c0f-4b38-ad86-d266ce8ec899 button');\n",
              "      quickchartButtonEl.style.display =\n",
              "        google.colab.kernel.accessAllowed ? 'block' : 'none';\n",
              "    })();\n",
              "  </script>\n",
              "</div>\n",
              "\n",
              "    </div>\n",
              "  </div>\n"
            ],
            "application/vnd.google.colaboratory.intrinsic+json": {
              "type": "dataframe",
              "summary": "{\n  \"name\": \"test\",\n  \"rows\": 8,\n  \"fields\": [\n    {\n      \"column\": \"rating\",\n      \"properties\": {\n        \"dtype\": \"number\",\n        \"std\": 103.90385480206355,\n        \"min\": 1.7320987906975127,\n        \"max\": 300.0,\n        \"num_unique_values\": 8,\n        \"samples\": [\n          6.901000000000001,\n          6.8,\n          300.0\n        ],\n        \"semantic_type\": \"\",\n        \"description\": \"\"\n      }\n    }\n  ]\n}"
            }
          },
          "metadata": {},
          "execution_count": 78
        }
      ]
    },
    {
      "cell_type": "code",
      "source": [
        "# train 기초 통계값 (Object)\n",
        "train.describe(include = 'O')"
      ],
      "metadata": {
        "id": "AB_yqbISlMn-",
        "colab": {
          "base_uri": "https://localhost:8080/",
          "height": 175
        },
        "outputId": "a2327165-8717-4d11-a05a-1d30155f8bab"
      },
      "execution_count": 79,
      "outputs": [
        {
          "output_type": "execute_result",
          "data": {
            "text/plain": [
              "       branch    city customer_type gender       product_line payment_method  \\\n",
              "count     700     700           700    700                700            700   \n",
              "unique      3       3             2      2                  6              3   \n",
              "top         A  Yangon        Normal   Male  Sports and travel           Cash   \n",
              "freq      236     236           354    356                127            246   \n",
              "\n",
              "       time_of_day  day_name  \n",
              "count          700       700  \n",
              "unique           3         7  \n",
              "top        evening  Saturday  \n",
              "freq           309       114  "
            ],
            "text/html": [
              "\n",
              "  <div id=\"df-b29b0a5f-d4c2-4204-bc68-3b41a83d94fe\" class=\"colab-df-container\">\n",
              "    <div>\n",
              "<style scoped>\n",
              "    .dataframe tbody tr th:only-of-type {\n",
              "        vertical-align: middle;\n",
              "    }\n",
              "\n",
              "    .dataframe tbody tr th {\n",
              "        vertical-align: top;\n",
              "    }\n",
              "\n",
              "    .dataframe thead th {\n",
              "        text-align: right;\n",
              "    }\n",
              "</style>\n",
              "<table border=\"1\" class=\"dataframe\">\n",
              "  <thead>\n",
              "    <tr style=\"text-align: right;\">\n",
              "      <th></th>\n",
              "      <th>branch</th>\n",
              "      <th>city</th>\n",
              "      <th>customer_type</th>\n",
              "      <th>gender</th>\n",
              "      <th>product_line</th>\n",
              "      <th>payment_method</th>\n",
              "      <th>time_of_day</th>\n",
              "      <th>day_name</th>\n",
              "    </tr>\n",
              "  </thead>\n",
              "  <tbody>\n",
              "    <tr>\n",
              "      <th>count</th>\n",
              "      <td>700</td>\n",
              "      <td>700</td>\n",
              "      <td>700</td>\n",
              "      <td>700</td>\n",
              "      <td>700</td>\n",
              "      <td>700</td>\n",
              "      <td>700</td>\n",
              "      <td>700</td>\n",
              "    </tr>\n",
              "    <tr>\n",
              "      <th>unique</th>\n",
              "      <td>3</td>\n",
              "      <td>3</td>\n",
              "      <td>2</td>\n",
              "      <td>2</td>\n",
              "      <td>6</td>\n",
              "      <td>3</td>\n",
              "      <td>3</td>\n",
              "      <td>7</td>\n",
              "    </tr>\n",
              "    <tr>\n",
              "      <th>top</th>\n",
              "      <td>A</td>\n",
              "      <td>Yangon</td>\n",
              "      <td>Normal</td>\n",
              "      <td>Male</td>\n",
              "      <td>Sports and travel</td>\n",
              "      <td>Cash</td>\n",
              "      <td>evening</td>\n",
              "      <td>Saturday</td>\n",
              "    </tr>\n",
              "    <tr>\n",
              "      <th>freq</th>\n",
              "      <td>236</td>\n",
              "      <td>236</td>\n",
              "      <td>354</td>\n",
              "      <td>356</td>\n",
              "      <td>127</td>\n",
              "      <td>246</td>\n",
              "      <td>309</td>\n",
              "      <td>114</td>\n",
              "    </tr>\n",
              "  </tbody>\n",
              "</table>\n",
              "</div>\n",
              "    <div class=\"colab-df-buttons\">\n",
              "\n",
              "  <div class=\"colab-df-container\">\n",
              "    <button class=\"colab-df-convert\" onclick=\"convertToInteractive('df-b29b0a5f-d4c2-4204-bc68-3b41a83d94fe')\"\n",
              "            title=\"Convert this dataframe to an interactive table.\"\n",
              "            style=\"display:none;\">\n",
              "\n",
              "  <svg xmlns=\"http://www.w3.org/2000/svg\" height=\"24px\" viewBox=\"0 -960 960 960\">\n",
              "    <path d=\"M120-120v-720h720v720H120Zm60-500h600v-160H180v160Zm220 220h160v-160H400v160Zm0 220h160v-160H400v160ZM180-400h160v-160H180v160Zm440 0h160v-160H620v160ZM180-180h160v-160H180v160Zm440 0h160v-160H620v160Z\"/>\n",
              "  </svg>\n",
              "    </button>\n",
              "\n",
              "  <style>\n",
              "    .colab-df-container {\n",
              "      display:flex;\n",
              "      gap: 12px;\n",
              "    }\n",
              "\n",
              "    .colab-df-convert {\n",
              "      background-color: #E8F0FE;\n",
              "      border: none;\n",
              "      border-radius: 50%;\n",
              "      cursor: pointer;\n",
              "      display: none;\n",
              "      fill: #1967D2;\n",
              "      height: 32px;\n",
              "      padding: 0 0 0 0;\n",
              "      width: 32px;\n",
              "    }\n",
              "\n",
              "    .colab-df-convert:hover {\n",
              "      background-color: #E2EBFA;\n",
              "      box-shadow: 0px 1px 2px rgba(60, 64, 67, 0.3), 0px 1px 3px 1px rgba(60, 64, 67, 0.15);\n",
              "      fill: #174EA6;\n",
              "    }\n",
              "\n",
              "    .colab-df-buttons div {\n",
              "      margin-bottom: 4px;\n",
              "    }\n",
              "\n",
              "    [theme=dark] .colab-df-convert {\n",
              "      background-color: #3B4455;\n",
              "      fill: #D2E3FC;\n",
              "    }\n",
              "\n",
              "    [theme=dark] .colab-df-convert:hover {\n",
              "      background-color: #434B5C;\n",
              "      box-shadow: 0px 1px 3px 1px rgba(0, 0, 0, 0.15);\n",
              "      filter: drop-shadow(0px 1px 2px rgba(0, 0, 0, 0.3));\n",
              "      fill: #FFFFFF;\n",
              "    }\n",
              "  </style>\n",
              "\n",
              "    <script>\n",
              "      const buttonEl =\n",
              "        document.querySelector('#df-b29b0a5f-d4c2-4204-bc68-3b41a83d94fe button.colab-df-convert');\n",
              "      buttonEl.style.display =\n",
              "        google.colab.kernel.accessAllowed ? 'block' : 'none';\n",
              "\n",
              "      async function convertToInteractive(key) {\n",
              "        const element = document.querySelector('#df-b29b0a5f-d4c2-4204-bc68-3b41a83d94fe');\n",
              "        const dataTable =\n",
              "          await google.colab.kernel.invokeFunction('convertToInteractive',\n",
              "                                                    [key], {});\n",
              "        if (!dataTable) return;\n",
              "\n",
              "        const docLinkHtml = 'Like what you see? Visit the ' +\n",
              "          '<a target=\"_blank\" href=https://colab.research.google.com/notebooks/data_table.ipynb>data table notebook</a>'\n",
              "          + ' to learn more about interactive tables.';\n",
              "        element.innerHTML = '';\n",
              "        dataTable['output_type'] = 'display_data';\n",
              "        await google.colab.output.renderOutput(dataTable, element);\n",
              "        const docLink = document.createElement('div');\n",
              "        docLink.innerHTML = docLinkHtml;\n",
              "        element.appendChild(docLink);\n",
              "      }\n",
              "    </script>\n",
              "  </div>\n",
              "\n",
              "\n",
              "<div id=\"df-e5e3b7c2-f5aa-4b6c-865b-32562b79dab5\">\n",
              "  <button class=\"colab-df-quickchart\" onclick=\"quickchart('df-e5e3b7c2-f5aa-4b6c-865b-32562b79dab5')\"\n",
              "            title=\"Suggest charts\"\n",
              "            style=\"display:none;\">\n",
              "\n",
              "<svg xmlns=\"http://www.w3.org/2000/svg\" height=\"24px\"viewBox=\"0 0 24 24\"\n",
              "     width=\"24px\">\n",
              "    <g>\n",
              "        <path d=\"M19 3H5c-1.1 0-2 .9-2 2v14c0 1.1.9 2 2 2h14c1.1 0 2-.9 2-2V5c0-1.1-.9-2-2-2zM9 17H7v-7h2v7zm4 0h-2V7h2v10zm4 0h-2v-4h2v4z\"/>\n",
              "    </g>\n",
              "</svg>\n",
              "  </button>\n",
              "\n",
              "<style>\n",
              "  .colab-df-quickchart {\n",
              "      --bg-color: #E8F0FE;\n",
              "      --fill-color: #1967D2;\n",
              "      --hover-bg-color: #E2EBFA;\n",
              "      --hover-fill-color: #174EA6;\n",
              "      --disabled-fill-color: #AAA;\n",
              "      --disabled-bg-color: #DDD;\n",
              "  }\n",
              "\n",
              "  [theme=dark] .colab-df-quickchart {\n",
              "      --bg-color: #3B4455;\n",
              "      --fill-color: #D2E3FC;\n",
              "      --hover-bg-color: #434B5C;\n",
              "      --hover-fill-color: #FFFFFF;\n",
              "      --disabled-bg-color: #3B4455;\n",
              "      --disabled-fill-color: #666;\n",
              "  }\n",
              "\n",
              "  .colab-df-quickchart {\n",
              "    background-color: var(--bg-color);\n",
              "    border: none;\n",
              "    border-radius: 50%;\n",
              "    cursor: pointer;\n",
              "    display: none;\n",
              "    fill: var(--fill-color);\n",
              "    height: 32px;\n",
              "    padding: 0;\n",
              "    width: 32px;\n",
              "  }\n",
              "\n",
              "  .colab-df-quickchart:hover {\n",
              "    background-color: var(--hover-bg-color);\n",
              "    box-shadow: 0 1px 2px rgba(60, 64, 67, 0.3), 0 1px 3px 1px rgba(60, 64, 67, 0.15);\n",
              "    fill: var(--button-hover-fill-color);\n",
              "  }\n",
              "\n",
              "  .colab-df-quickchart-complete:disabled,\n",
              "  .colab-df-quickchart-complete:disabled:hover {\n",
              "    background-color: var(--disabled-bg-color);\n",
              "    fill: var(--disabled-fill-color);\n",
              "    box-shadow: none;\n",
              "  }\n",
              "\n",
              "  .colab-df-spinner {\n",
              "    border: 2px solid var(--fill-color);\n",
              "    border-color: transparent;\n",
              "    border-bottom-color: var(--fill-color);\n",
              "    animation:\n",
              "      spin 1s steps(1) infinite;\n",
              "  }\n",
              "\n",
              "  @keyframes spin {\n",
              "    0% {\n",
              "      border-color: transparent;\n",
              "      border-bottom-color: var(--fill-color);\n",
              "      border-left-color: var(--fill-color);\n",
              "    }\n",
              "    20% {\n",
              "      border-color: transparent;\n",
              "      border-left-color: var(--fill-color);\n",
              "      border-top-color: var(--fill-color);\n",
              "    }\n",
              "    30% {\n",
              "      border-color: transparent;\n",
              "      border-left-color: var(--fill-color);\n",
              "      border-top-color: var(--fill-color);\n",
              "      border-right-color: var(--fill-color);\n",
              "    }\n",
              "    40% {\n",
              "      border-color: transparent;\n",
              "      border-right-color: var(--fill-color);\n",
              "      border-top-color: var(--fill-color);\n",
              "    }\n",
              "    60% {\n",
              "      border-color: transparent;\n",
              "      border-right-color: var(--fill-color);\n",
              "    }\n",
              "    80% {\n",
              "      border-color: transparent;\n",
              "      border-right-color: var(--fill-color);\n",
              "      border-bottom-color: var(--fill-color);\n",
              "    }\n",
              "    90% {\n",
              "      border-color: transparent;\n",
              "      border-bottom-color: var(--fill-color);\n",
              "    }\n",
              "  }\n",
              "</style>\n",
              "\n",
              "  <script>\n",
              "    async function quickchart(key) {\n",
              "      const quickchartButtonEl =\n",
              "        document.querySelector('#' + key + ' button');\n",
              "      quickchartButtonEl.disabled = true;  // To prevent multiple clicks.\n",
              "      quickchartButtonEl.classList.add('colab-df-spinner');\n",
              "      try {\n",
              "        const charts = await google.colab.kernel.invokeFunction(\n",
              "            'suggestCharts', [key], {});\n",
              "      } catch (error) {\n",
              "        console.error('Error during call to suggestCharts:', error);\n",
              "      }\n",
              "      quickchartButtonEl.classList.remove('colab-df-spinner');\n",
              "      quickchartButtonEl.classList.add('colab-df-quickchart-complete');\n",
              "    }\n",
              "    (() => {\n",
              "      let quickchartButtonEl =\n",
              "        document.querySelector('#df-e5e3b7c2-f5aa-4b6c-865b-32562b79dab5 button');\n",
              "      quickchartButtonEl.style.display =\n",
              "        google.colab.kernel.accessAllowed ? 'block' : 'none';\n",
              "    })();\n",
              "  </script>\n",
              "</div>\n",
              "\n",
              "    </div>\n",
              "  </div>\n"
            ],
            "application/vnd.google.colaboratory.intrinsic+json": {
              "type": "dataframe",
              "summary": "{\n  \"name\": \"train\",\n  \"rows\": 4,\n  \"fields\": [\n    {\n      \"column\": \"branch\",\n      \"properties\": {\n        \"dtype\": \"string\",\n        \"num_unique_values\": 4,\n        \"samples\": [\n          3,\n          \"236\",\n          \"700\"\n        ],\n        \"semantic_type\": \"\",\n        \"description\": \"\"\n      }\n    },\n    {\n      \"column\": \"city\",\n      \"properties\": {\n        \"dtype\": \"string\",\n        \"num_unique_values\": 4,\n        \"samples\": [\n          3,\n          \"236\",\n          \"700\"\n        ],\n        \"semantic_type\": \"\",\n        \"description\": \"\"\n      }\n    },\n    {\n      \"column\": \"customer_type\",\n      \"properties\": {\n        \"dtype\": \"string\",\n        \"num_unique_values\": 4,\n        \"samples\": [\n          2,\n          \"354\",\n          \"700\"\n        ],\n        \"semantic_type\": \"\",\n        \"description\": \"\"\n      }\n    },\n    {\n      \"column\": \"gender\",\n      \"properties\": {\n        \"dtype\": \"string\",\n        \"num_unique_values\": 4,\n        \"samples\": [\n          2,\n          \"356\",\n          \"700\"\n        ],\n        \"semantic_type\": \"\",\n        \"description\": \"\"\n      }\n    },\n    {\n      \"column\": \"product_line\",\n      \"properties\": {\n        \"dtype\": \"string\",\n        \"num_unique_values\": 4,\n        \"samples\": [\n          6,\n          \"127\",\n          \"700\"\n        ],\n        \"semantic_type\": \"\",\n        \"description\": \"\"\n      }\n    },\n    {\n      \"column\": \"payment_method\",\n      \"properties\": {\n        \"dtype\": \"string\",\n        \"num_unique_values\": 4,\n        \"samples\": [\n          3,\n          \"246\",\n          \"700\"\n        ],\n        \"semantic_type\": \"\",\n        \"description\": \"\"\n      }\n    },\n    {\n      \"column\": \"time_of_day\",\n      \"properties\": {\n        \"dtype\": \"string\",\n        \"num_unique_values\": 4,\n        \"samples\": [\n          3,\n          \"309\",\n          \"700\"\n        ],\n        \"semantic_type\": \"\",\n        \"description\": \"\"\n      }\n    },\n    {\n      \"column\": \"day_name\",\n      \"properties\": {\n        \"dtype\": \"string\",\n        \"num_unique_values\": 4,\n        \"samples\": [\n          7,\n          \"114\",\n          \"700\"\n        ],\n        \"semantic_type\": \"\",\n        \"description\": \"\"\n      }\n    }\n  ]\n}"
            }
          },
          "metadata": {},
          "execution_count": 79
        }
      ]
    },
    {
      "cell_type": "code",
      "source": [
        "# test 기초 통계값 (Object)\n"
      ],
      "metadata": {
        "id": "xJbcsyOxlSRu"
      },
      "execution_count": 80,
      "outputs": []
    },
    {
      "cell_type": "code",
      "source": [
        "# train 결측치\n",
        "print(train.isnull().sum()) # train 결측치 없음."
      ],
      "metadata": {
        "id": "HD9OAVRNnd-O",
        "colab": {
          "base_uri": "https://localhost:8080/"
        },
        "outputId": "521fbee9-54e9-46e5-a309-6b1e33120ced"
      },
      "execution_count": 81,
      "outputs": [
        {
          "output_type": "stream",
          "name": "stdout",
          "text": [
            "branch            0\n",
            "city              0\n",
            "customer_type     0\n",
            "gender            0\n",
            "product_line      0\n",
            "total             0\n",
            "payment_method    0\n",
            "rating            0\n",
            "time_of_day       0\n",
            "day_name          0\n",
            "dtype: int64\n"
          ]
        }
      ]
    },
    {
      "cell_type": "code",
      "source": [
        "# test 결측치\n",
        "print(test.isnull().sum())"
      ],
      "metadata": {
        "id": "kL6lokT5neA-",
        "colab": {
          "base_uri": "https://localhost:8080/"
        },
        "outputId": "1fb619ee-24e8-40d6-eea7-b40c33443ea6"
      },
      "execution_count": 82,
      "outputs": [
        {
          "output_type": "stream",
          "name": "stdout",
          "text": [
            "branch            0\n",
            "city              0\n",
            "customer_type     0\n",
            "gender            0\n",
            "product_line      0\n",
            "payment_method    0\n",
            "rating            0\n",
            "time_of_day       0\n",
            "day_name          0\n",
            "dtype: int64\n"
          ]
        }
      ]
    },
    {
      "cell_type": "code",
      "source": [
        "# 타겟 (value_count())\n",
        "print(train.value_counts())"
      ],
      "metadata": {
        "id": "nd5vn9iciu2i",
        "colab": {
          "base_uri": "https://localhost:8080/"
        },
        "outputId": "616f2cfa-bbd8-461b-97ff-28fd061082ba"
      },
      "execution_count": 83,
      "outputs": [
        {
          "output_type": "stream",
          "name": "stdout",
          "text": [
            "branch  city       customer_type  gender  product_line            total       payment_method  rating  time_of_day  day_name\n",
            "A       Yangon     Member         Female  Electronic accessories  98406.00    Cash            4.7     evening      Monday      1\n",
            "C       Naypyitaw  Member         Female  Electronic accessories  733477.50   Cash            7.6     afternoon    Sunday      1\n",
            "B       Mandalay   Normal         Male    Sports and travel       541327.50   Ewallet         6.7     morning      Saturday    1\n",
            "                                                                  615762.00   Ewallet         6.4     evening      Tuesday     1\n",
            "                                                                  817582.50   Cash            8.2     afternoon    Saturday    1\n",
            "                                                                                                                              ..\n",
            "A       Yangon     Normal         Male    Sports and travel       1240627.50  Cash            6.4     morning      Thursday    1\n",
            "                                                                  1390425.75  Cash            9.3     evening      Sunday      1\n",
            "B       Mandalay   Member         Female  Electronic accessories  50037.75    Credit card     8.7     afternoon    Tuesday     1\n",
            "                                                                  62181.00    Cash            6.5     evening      Tuesday     1\n",
            "C       Naypyitaw  Normal         Male    Sports and travel       1406727.00  Ewallet         9.0     evening      Tuesday     1\n",
            "Name: count, Length: 700, dtype: int64\n"
          ]
        }
      ]
    },
    {
      "cell_type": "code",
      "source": [
        "# target (분포)\n",
        "target = train['total']\n",
        "print(target.value_counts())"
      ],
      "metadata": {
        "id": "a5WVQ2EFUCYL",
        "colab": {
          "base_uri": "https://localhost:8080/"
        },
        "outputId": "0fc2e4d5-1545-4111-b280-1c954fbb3d96"
      },
      "execution_count": 84,
      "outputs": [
        {
          "output_type": "stream",
          "name": "stdout",
          "text": [
            "total\n",
            "283641.75     2\n",
            "263875.50     2\n",
            "415422.00     2\n",
            "326450.25     2\n",
            "130851.00     2\n",
            "             ..\n",
            "293391.00     1\n",
            "137103.75     1\n",
            "348232.50     1\n",
            "104107.50     1\n",
            "1535625.00    1\n",
            "Name: count, Length: 695, dtype: int64\n"
          ]
        }
      ]
    },
    {
      "cell_type": "code",
      "source": [
        "# target (분포, 시각화)\n",
        "#pd.set_option('display.float_format,' '{:.10f}'.format)\n",
        "#train['total'].describe()"
      ],
      "metadata": {
        "id": "BjIBAFeOPCLW"
      },
      "execution_count": 85,
      "outputs": []
    },
    {
      "cell_type": "markdown",
      "source": [
        "# 4. 데이터 전처리"
      ],
      "metadata": {
        "id": "UvVLoQBP1z5A"
      }
    },
    {
      "cell_type": "code",
      "source": [
        "# target\n",
        "target = train.pop('total')\n",
        "print(target) # train데이터의 total을 target으로 옮김."
      ],
      "metadata": {
        "id": "C6UGliMFcMhf",
        "colab": {
          "base_uri": "https://localhost:8080/"
        },
        "outputId": "281e10dc-83e6-4670-e3fa-2f7fac6cf8c8"
      },
      "execution_count": 86,
      "outputs": [
        {
          "output_type": "stream",
          "name": "stdout",
          "text": [
            "0       823457.25\n",
            "1       120330.00\n",
            "2       510788.25\n",
            "3       733572.00\n",
            "4       951567.75\n",
            "          ...    \n",
            "695     688038.75\n",
            "696     170352.00\n",
            "697     391797.00\n",
            "698     986296.50\n",
            "699    1535625.00\n",
            "Name: total, Length: 700, dtype: float64\n"
          ]
        }
      ]
    },
    {
      "cell_type": "code",
      "source": [
        "# 원핫인코딩\n",
        "train = pd.get_dummies(train)\n",
        "test = pd.get_dummies(test)\n",
        "\n",
        "train.shape, test.shape # 컬럼 수 통일."
      ],
      "metadata": {
        "id": "nkWaHf1izCqr",
        "colab": {
          "base_uri": "https://localhost:8080/"
        },
        "outputId": "aa00e01f-f132-4b01-f216-2642a2fbc0cb"
      },
      "execution_count": 87,
      "outputs": [
        {
          "output_type": "execute_result",
          "data": {
            "text/plain": [
              "((700, 30), (300, 30))"
            ]
          },
          "metadata": {},
          "execution_count": 87
        }
      ]
    },
    {
      "cell_type": "markdown",
      "source": [
        "# 5. 검증 데이터 분할"
      ],
      "metadata": {
        "id": "6KND1n8b14uj"
      }
    },
    {
      "cell_type": "code",
      "source": [
        "# 검증데이터 분할\n",
        "from sklearn.model_selection import train_test_split\n",
        "X_tr, X_val, y_tr, y_val = train_test_split(train, target, test_size = 0.15, random_state = 2024)\n",
        "\n",
        "X_tr.shape, X_val.shape, y_tr.shape, y_val.shape"
      ],
      "metadata": {
        "id": "qvHUGFeFhyqu",
        "colab": {
          "base_uri": "https://localhost:8080/"
        },
        "outputId": "e6277af7-8b9c-4193-f3bd-d66b5e07ec15"
      },
      "execution_count": 88,
      "outputs": [
        {
          "output_type": "execute_result",
          "data": {
            "text/plain": [
              "((595, 30), (105, 30), (595,), (105,))"
            ]
          },
          "metadata": {},
          "execution_count": 88
        }
      ]
    },
    {
      "cell_type": "markdown",
      "source": [
        "# 6. 머신러닝 학습 및 평가"
      ],
      "metadata": {
        "id": "VAhoGGf-17uM"
      }
    },
    {
      "cell_type": "code",
      "source": [
        "# RMSE\n",
        "from sklearn.metrics import mean_squared_error\n",
        "\n",
        "def rmse(a,b):\n",
        "  return (mean_squared_error(a,b) ** 0.5)"
      ],
      "metadata": {
        "id": "Ra2PAD0YzZJN"
      },
      "execution_count": 89,
      "outputs": []
    },
    {
      "cell_type": "code",
      "source": [
        "# 선형회귀\n",
        "from sklearn.linear_model import LinearRegression\n",
        "lr = LinearRegression()\n",
        "lr.fit(X_tr, y_tr)\n",
        "pred = lr.predict(X_val)\n",
        "rmse(y_val, pred)"
      ],
      "metadata": {
        "id": "6B_UWz_a2pTh",
        "colab": {
          "base_uri": "https://localhost:8080/"
        },
        "outputId": "e8dfbd17-8a5e-45c7-9aed-6351e7ee1f7e"
      },
      "execution_count": 90,
      "outputs": [
        {
          "output_type": "execute_result",
          "data": {
            "text/plain": [
              "398188.9222552941"
            ]
          },
          "metadata": {},
          "execution_count": 90
        }
      ]
    },
    {
      "cell_type": "code",
      "source": [
        "# 랜덤포레스트\n",
        "from sklearn.ensemble import RandomForestRegressor\n",
        "\n",
        "rf = RandomForestRegressor()\n",
        "rf.fit(X_tr, y_tr)\n",
        "# print(dir(RandomForestRegressor))\n",
        "pred = rf.predict(X_val)\n",
        "# print(pred)\n",
        "print(rmse(y_val, pred))\n",
        "# 검증 데이터에 대하여 채점.\n",
        "\n"
      ],
      "metadata": {
        "id": "xA5lV-MXh3sZ",
        "colab": {
          "base_uri": "https://localhost:8080/"
        },
        "outputId": "49e08898-01c5-4254-bfe1-4adb6cdd7f4c"
      },
      "execution_count": 67,
      "outputs": [
        {
          "output_type": "stream",
          "name": "stdout",
          "text": [
            "411262.89269079757\n"
          ]
        }
      ]
    },
    {
      "cell_type": "code",
      "source": [
        "# Xgboost\n",
        "import xgboost as xgb\n",
        "xg = xgb.XGBRegressor(random_state = 2024)\n",
        "xg.fit(X_tr, y_tr)\n",
        "pred = xg.predict(X_val)\n",
        "rmse(y_val, pred)"
      ],
      "metadata": {
        "id": "dQQLUXcb29eT",
        "colab": {
          "base_uri": "https://localhost:8080/"
        },
        "outputId": "20d0f814-9e64-4255-f0c5-efbc0db30d15"
      },
      "execution_count": 68,
      "outputs": [
        {
          "output_type": "execute_result",
          "data": {
            "text/plain": [
              "470162.398813129"
            ]
          },
          "metadata": {},
          "execution_count": 68
        }
      ]
    },
    {
      "cell_type": "code",
      "source": [
        "from re import X\n",
        "# LightGBM\n",
        "import lightgbm as lgb\n",
        "lg = lgb.LGBMRegressor(random_state = 2024, verbose = -1)\n",
        "lg.fit(X_tr, y_tr)\n",
        "pred = lg.predict(X_val)\n",
        "rmse(y_val, pred)\n"
      ],
      "metadata": {
        "id": "3Q8K93uM29ma",
        "colab": {
          "base_uri": "https://localhost:8080/"
        },
        "outputId": "8c98f149-4a52-4942-d672-a893f6f3efb0"
      },
      "execution_count": 69,
      "outputs": [
        {
          "output_type": "execute_result",
          "data": {
            "text/plain": [
              "427879.09123489517"
            ]
          },
          "metadata": {},
          "execution_count": 69
        }
      ]
    },
    {
      "cell_type": "markdown",
      "source": [
        "# 7. 예측 및 결과 파일 생성"
      ],
      "metadata": {
        "id": "Cx5zX7W4iL4F"
      }
    },
    {
      "cell_type": "code",
      "source": [
        "# test예측 및 csv 생성\n",
        "pred = lr.predict(test)\n",
        "print(len((pred)))\n",
        "\n",
        "result = pd.DataFrame({\n",
        "    'pred' : pred\n",
        "\n",
        "})\n",
        "\n",
        "print(result.shape)\n",
        "#result.to_csv('result.csv', index = False)\n",
        "\n",
        "\n",
        "\n",
        "\n"
      ],
      "metadata": {
        "id": "aZRKbOifiJYA",
        "colab": {
          "base_uri": "https://localhost:8080/"
        },
        "outputId": "63bf5877-f58c-4dd8-9a67-0a001498e99a"
      },
      "execution_count": 98,
      "outputs": [
        {
          "output_type": "stream",
          "name": "stdout",
          "text": [
            "300\n",
            "(300, 1)\n"
          ]
        }
      ]
    },
    {
      "cell_type": "code",
      "source": [
        "# result.csv 확인\n",
        "result = pd.DataFrame({\n",
        "    'pred': pred\n",
        "})\n",
        "\n",
        "result.to_csv('result.csv', index = False)"
      ],
      "metadata": {
        "id": "74VLjg8vv_Kw"
      },
      "execution_count": 99,
      "outputs": []
    },
    {
      "cell_type": "code",
      "source": [
        "df = pd.read_csv('result.csv')\n",
        "print(df)"
      ],
      "metadata": {
        "id": "ZpZWC0jOPWqd",
        "colab": {
          "base_uri": "https://localhost:8080/"
        },
        "outputId": "0f3cb1c2-b36d-4dc3-e595-46934aed5b96"
      },
      "execution_count": 100,
      "outputs": [
        {
          "output_type": "stream",
          "name": "stdout",
          "text": [
            "              pred\n",
            "0    458508.257360\n",
            "1    449544.720829\n",
            "2    419567.748598\n",
            "3    516669.884280\n",
            "4    560995.317570\n",
            "..             ...\n",
            "295  510337.506173\n",
            "296  537135.598847\n",
            "297  566095.209861\n",
            "298  537799.830481\n",
            "299  483296.357922\n",
            "\n",
            "[300 rows x 1 columns]\n"
          ]
        }
      ]
    },
    {
      "cell_type": "markdown",
      "source": [
        "# [심화] 성능 개선"
      ],
      "metadata": {
        "id": "VyH2Xd_8Dh-B"
      }
    },
    {
      "cell_type": "code",
      "source": [
        "# 데이터 불러오기\n",
        "import pandas as pd\n",
        "train = pd.read_csv(\"mart_train.csv\")\n",
        "test = pd.read_csv(\"mart_test.csv\")\n",
        "\n",
        "# target 데이터\n",
        "target = train.pop('total')\n",
        "print(target)\n",
        "\n",
        "# 레이블 인코딩\n",
        "from sklearn.preprocessing import LabelEncoder\n",
        "le = LabelEncoder()\n",
        "cols = train.select_dtypes(include = 'object').columns\n",
        "for col in cols:\n",
        "  train[col] = le.fit_transform(train[col])\n",
        "  test[col] = le.fit_transform(test[col])\n",
        "\n",
        "print(train.shape, test.shape)\n",
        "\n",
        "# 검증데이터 분리\n",
        "from sklearn.model_selection import train_test_split\n",
        "X_tr, X_val, y_tr, y_val = train_test_split(train, target, test_size = 0.2, random_state = 2024)\n",
        "X_tr.shape, X_val.shape, y_tr.shape, y_val.shape\n",
        "\n",
        "# 선형회귀\n",
        "from sklearn.linear_model import LinearRegression\n",
        "lr = LinearRegression()\n",
        "lr.fit(X_tr, y_tr)\n",
        "pred = lr.predict(X_val)\n",
        "#print(pred)\n",
        "# 랜덤포레스트\n",
        "from sklearn.ensemble import RandomForestRegressor\n",
        "rf = RandomForestRegressor()\n",
        "rf.fit(X_tr, y_tr)\n",
        "rfPred = rf.predict(X_val)\n",
        "# print(rfPred)\n",
        "\n",
        "# Xgboost\n",
        "import xgboost as xgb\n",
        "\n",
        "xg = xgb.XGBRegressor(random_state = 2024)\n",
        "xg.fit(X_tr, y_tr)\n",
        "xgPred = xg.predict(X_val)\n",
        "#print(xgPred)\n",
        "# LightGBM\n",
        "\n",
        "import lightgbm as lgb\n",
        "lg = lgb.LGBMRegressor(random_state = 2024, verbose = -1)\n",
        "lg.fit(X_tr, y_tr)\n",
        "lgPred = lg.predict(X_val)\n",
        "print(lgPred)\n",
        "\n",
        "\n",
        "# 최종 제출 파일\n",
        "\n",
        "pred = lr.predict(test)\n",
        "result = pd.DataFrame({\n",
        "    'pred': pred\n",
        "})\n",
        "\n",
        "#print(result.shape)\n",
        "result.to_csv('result2.csv', index = False)\n"
      ],
      "metadata": {
        "id": "r1ByVJ6b6q8a",
        "colab": {
          "base_uri": "https://localhost:8080/",
          "height": 1000
        },
        "outputId": "fb1cdc09-6d8e-48d1-c913-37aebb8729f5"
      },
      "execution_count": 116,
      "outputs": [
        {
          "output_type": "stream",
          "name": "stdout",
          "text": [
            "0       823457.25\n",
            "1       120330.00\n",
            "2       510788.25\n",
            "3       733572.00\n",
            "4       951567.75\n",
            "          ...    \n",
            "695     688038.75\n",
            "696     170352.00\n",
            "697     391797.00\n",
            "698     986296.50\n",
            "699    1535625.00\n",
            "Name: total, Length: 700, dtype: float64\n",
            "(700, 9) (300, 9)\n",
            "[326726.78250025 634177.24935868 437956.8605004  753426.14546899\n",
            " 155997.64370213 511492.71492921 478750.25591485 632354.95433572\n",
            " 699959.78802031 562047.4954148  536677.28946667 527704.1236099\n",
            " 372150.04191378 289748.2904052  325538.47729634 520046.02108303\n",
            " 181650.4737829  511004.6037184  541337.10254703 539305.60988531\n",
            " 674482.75503109 406144.35941091 371032.43759724 602967.73897047\n",
            " 362089.40429939 571846.58119242 727600.38175628 269747.06790663\n",
            " 510220.63757038 440194.21899611 203476.74764631 369369.16902342\n",
            " 244536.06725844 641932.90399658 569997.57566165 527556.00015608\n",
            " 557117.63432041 685345.52372473 648756.70808744 725009.98752733\n",
            "  46027.63269892 186656.10356773 514694.97559484 530809.49630926\n",
            " 570930.78211632 721229.0638095  502173.40557663 230146.46789156\n",
            " 348888.68310322 411751.58905756 616755.72471508 401476.8665386\n",
            " 505239.59031952 460818.30320459 124929.34616557 359059.01895716\n",
            " 663519.44800326 700107.31810304 370933.82746648 755182.08062799\n",
            " 514596.77090606 587474.92727325 151380.24128765 419839.29893104\n",
            " 511578.21956485 794552.02383018 379139.67981585 352832.23530634\n",
            " 609657.3463233  257489.33482536 748630.41877882 721563.33536611\n",
            " 559574.1207594  729618.32591009 476943.82209291 193783.04613888\n",
            " 572133.43237526 635176.54156574 544738.16579108 657682.12839467\n",
            " 346937.08855988 462487.66683428 505431.03643496 659963.10007802\n",
            " 561162.69670365 296555.80070499 805815.19922959  41800.71809113\n",
            " 682281.90895146 602500.44577343 403831.56123694 593755.51056197\n",
            " 533658.19467295 343383.93491315 659510.88508473 320169.23395036\n",
            " 299739.12489574 314645.83350496 668003.50124525 479030.06158936\n",
            " 292462.29793987 442992.98337243 481706.49543542 522108.28233966\n",
            " 516926.24708491 435662.67243021 561945.11640289 415503.57584641\n",
            " 350438.69743315 732427.24779236 727788.48574929 321625.87679824\n",
            " 405694.85307471 645492.59636219 384551.53572334 464449.15185458\n",
            " 369184.32197544 302529.43531954 567816.06605849 152153.24558451\n",
            " 437256.25307251 503908.96697029 546733.17510731 698482.09583939\n",
            " 329751.97493466 325321.57954973 450227.5103684  619395.76255303\n",
            " 436676.8548592  339250.02319603 634765.51085871 464762.64871322\n",
            " 464506.10986434 528139.98295576 479108.00846691 535710.08988878\n",
            " 505235.89440791 474995.41790006 667322.26508387 486727.94639138]\n",
            "(300, 1)\n"
          ]
        },
        {
          "output_type": "error",
          "ename": "ValueError",
          "evalue": "Found input variables with inconsistent numbers of samples: [140, 300]",
          "traceback": [
            "\u001b[0;31m---------------------------------------------------------------------------\u001b[0m",
            "\u001b[0;31mValueError\u001b[0m                                Traceback (most recent call last)",
            "\u001b[0;32m<ipython-input-116-2ac9590f4a3e>\u001b[0m in \u001b[0;36m<cell line: 64>\u001b[0;34m()\u001b[0m\n\u001b[1;32m     62\u001b[0m \u001b[0mresult\u001b[0m\u001b[0;34m.\u001b[0m\u001b[0mto_csv\u001b[0m\u001b[0;34m(\u001b[0m\u001b[0;34m'result2.csv'\u001b[0m\u001b[0;34m,\u001b[0m \u001b[0mindex\u001b[0m \u001b[0;34m=\u001b[0m \u001b[0;32mFalse\u001b[0m\u001b[0;34m)\u001b[0m\u001b[0;34m\u001b[0m\u001b[0;34m\u001b[0m\u001b[0m\n\u001b[1;32m     63\u001b[0m \u001b[0;34m\u001b[0m\u001b[0m\n\u001b[0;32m---> 64\u001b[0;31m \u001b[0mprint\u001b[0m\u001b[0;34m(\u001b[0m\u001b[0;34m'선형회귀:'\u001b[0m\u001b[0;34m,\u001b[0m \u001b[0mrmse\u001b[0m\u001b[0;34m(\u001b[0m\u001b[0my_val\u001b[0m\u001b[0;34m,\u001b[0m \u001b[0mpred\u001b[0m\u001b[0;34m)\u001b[0m\u001b[0;34m)\u001b[0m\u001b[0;34m\u001b[0m\u001b[0;34m\u001b[0m\u001b[0m\n\u001b[0m\u001b[1;32m     65\u001b[0m \u001b[0mprint\u001b[0m\u001b[0;34m(\u001b[0m\u001b[0;34m'랜덤포레스트:'\u001b[0m\u001b[0;34m,\u001b[0m \u001b[0mrmse\u001b[0m\u001b[0;34m(\u001b[0m\u001b[0my_val\u001b[0m\u001b[0;34m,\u001b[0m \u001b[0mrfPred\u001b[0m\u001b[0;34m)\u001b[0m\u001b[0;34m)\u001b[0m\u001b[0;34m\u001b[0m\u001b[0;34m\u001b[0m\u001b[0m\n\u001b[1;32m     66\u001b[0m \u001b[0mprint\u001b[0m\u001b[0;34m(\u001b[0m\u001b[0;34m'xgboost:'\u001b[0m\u001b[0;34m,\u001b[0m \u001b[0mrmse\u001b[0m\u001b[0;34m(\u001b[0m\u001b[0my_val\u001b[0m\u001b[0;34m,\u001b[0m \u001b[0mxgPred\u001b[0m\u001b[0;34m)\u001b[0m\u001b[0;34m)\u001b[0m\u001b[0;34m\u001b[0m\u001b[0;34m\u001b[0m\u001b[0m\n",
            "\u001b[0;32m<ipython-input-89-45ecc4adc68b>\u001b[0m in \u001b[0;36mrmse\u001b[0;34m(a, b)\u001b[0m\n\u001b[1;32m      3\u001b[0m \u001b[0;34m\u001b[0m\u001b[0m\n\u001b[1;32m      4\u001b[0m \u001b[0;32mdef\u001b[0m \u001b[0mrmse\u001b[0m\u001b[0;34m(\u001b[0m\u001b[0ma\u001b[0m\u001b[0;34m,\u001b[0m\u001b[0mb\u001b[0m\u001b[0;34m)\u001b[0m\u001b[0;34m:\u001b[0m\u001b[0;34m\u001b[0m\u001b[0;34m\u001b[0m\u001b[0m\n\u001b[0;32m----> 5\u001b[0;31m   \u001b[0;32mreturn\u001b[0m \u001b[0;34m(\u001b[0m\u001b[0mmean_squared_error\u001b[0m\u001b[0;34m(\u001b[0m\u001b[0ma\u001b[0m\u001b[0;34m,\u001b[0m\u001b[0mb\u001b[0m\u001b[0;34m)\u001b[0m \u001b[0;34m**\u001b[0m \u001b[0;36m0.5\u001b[0m\u001b[0;34m)\u001b[0m\u001b[0;34m\u001b[0m\u001b[0;34m\u001b[0m\u001b[0m\n\u001b[0m",
            "\u001b[0;32m/usr/local/lib/python3.10/dist-packages/sklearn/metrics/_regression.py\u001b[0m in \u001b[0;36mmean_squared_error\u001b[0;34m(y_true, y_pred, sample_weight, multioutput, squared)\u001b[0m\n\u001b[1;32m    440\u001b[0m     \u001b[0;36m0.825\u001b[0m\u001b[0;34m...\u001b[0m\u001b[0;34m\u001b[0m\u001b[0;34m\u001b[0m\u001b[0m\n\u001b[1;32m    441\u001b[0m     \"\"\"\n\u001b[0;32m--> 442\u001b[0;31m     y_type, y_true, y_pred, multioutput = _check_reg_targets(\n\u001b[0m\u001b[1;32m    443\u001b[0m         \u001b[0my_true\u001b[0m\u001b[0;34m,\u001b[0m \u001b[0my_pred\u001b[0m\u001b[0;34m,\u001b[0m \u001b[0mmultioutput\u001b[0m\u001b[0;34m\u001b[0m\u001b[0;34m\u001b[0m\u001b[0m\n\u001b[1;32m    444\u001b[0m     )\n",
            "\u001b[0;32m/usr/local/lib/python3.10/dist-packages/sklearn/metrics/_regression.py\u001b[0m in \u001b[0;36m_check_reg_targets\u001b[0;34m(y_true, y_pred, multioutput, dtype)\u001b[0m\n\u001b[1;32m     98\u001b[0m         \u001b[0mcorrect\u001b[0m \u001b[0mkeyword\u001b[0m\u001b[0;34m.\u001b[0m\u001b[0;34m\u001b[0m\u001b[0;34m\u001b[0m\u001b[0m\n\u001b[1;32m     99\u001b[0m     \"\"\"\n\u001b[0;32m--> 100\u001b[0;31m     \u001b[0mcheck_consistent_length\u001b[0m\u001b[0;34m(\u001b[0m\u001b[0my_true\u001b[0m\u001b[0;34m,\u001b[0m \u001b[0my_pred\u001b[0m\u001b[0;34m)\u001b[0m\u001b[0;34m\u001b[0m\u001b[0;34m\u001b[0m\u001b[0m\n\u001b[0m\u001b[1;32m    101\u001b[0m     \u001b[0my_true\u001b[0m \u001b[0;34m=\u001b[0m \u001b[0mcheck_array\u001b[0m\u001b[0;34m(\u001b[0m\u001b[0my_true\u001b[0m\u001b[0;34m,\u001b[0m \u001b[0mensure_2d\u001b[0m\u001b[0;34m=\u001b[0m\u001b[0;32mFalse\u001b[0m\u001b[0;34m,\u001b[0m \u001b[0mdtype\u001b[0m\u001b[0;34m=\u001b[0m\u001b[0mdtype\u001b[0m\u001b[0;34m)\u001b[0m\u001b[0;34m\u001b[0m\u001b[0;34m\u001b[0m\u001b[0m\n\u001b[1;32m    102\u001b[0m     \u001b[0my_pred\u001b[0m \u001b[0;34m=\u001b[0m \u001b[0mcheck_array\u001b[0m\u001b[0;34m(\u001b[0m\u001b[0my_pred\u001b[0m\u001b[0;34m,\u001b[0m \u001b[0mensure_2d\u001b[0m\u001b[0;34m=\u001b[0m\u001b[0;32mFalse\u001b[0m\u001b[0;34m,\u001b[0m \u001b[0mdtype\u001b[0m\u001b[0;34m=\u001b[0m\u001b[0mdtype\u001b[0m\u001b[0;34m)\u001b[0m\u001b[0;34m\u001b[0m\u001b[0;34m\u001b[0m\u001b[0m\n",
            "\u001b[0;32m/usr/local/lib/python3.10/dist-packages/sklearn/utils/validation.py\u001b[0m in \u001b[0;36mcheck_consistent_length\u001b[0;34m(*arrays)\u001b[0m\n\u001b[1;32m    395\u001b[0m     \u001b[0muniques\u001b[0m \u001b[0;34m=\u001b[0m \u001b[0mnp\u001b[0m\u001b[0;34m.\u001b[0m\u001b[0munique\u001b[0m\u001b[0;34m(\u001b[0m\u001b[0mlengths\u001b[0m\u001b[0;34m)\u001b[0m\u001b[0;34m\u001b[0m\u001b[0;34m\u001b[0m\u001b[0m\n\u001b[1;32m    396\u001b[0m     \u001b[0;32mif\u001b[0m \u001b[0mlen\u001b[0m\u001b[0;34m(\u001b[0m\u001b[0muniques\u001b[0m\u001b[0;34m)\u001b[0m \u001b[0;34m>\u001b[0m \u001b[0;36m1\u001b[0m\u001b[0;34m:\u001b[0m\u001b[0;34m\u001b[0m\u001b[0;34m\u001b[0m\u001b[0m\n\u001b[0;32m--> 397\u001b[0;31m         raise ValueError(\n\u001b[0m\u001b[1;32m    398\u001b[0m             \u001b[0;34m\"Found input variables with inconsistent numbers of samples: %r\"\u001b[0m\u001b[0;34m\u001b[0m\u001b[0;34m\u001b[0m\u001b[0m\n\u001b[1;32m    399\u001b[0m             \u001b[0;34m%\u001b[0m \u001b[0;34m[\u001b[0m\u001b[0mint\u001b[0m\u001b[0;34m(\u001b[0m\u001b[0ml\u001b[0m\u001b[0;34m)\u001b[0m \u001b[0;32mfor\u001b[0m \u001b[0ml\u001b[0m \u001b[0;32min\u001b[0m \u001b[0mlengths\u001b[0m\u001b[0;34m]\u001b[0m\u001b[0;34m\u001b[0m\u001b[0;34m\u001b[0m\u001b[0m\n",
            "\u001b[0;31mValueError\u001b[0m: Found input variables with inconsistent numbers of samples: [140, 300]"
          ]
        }
      ]
    }
  ]
}