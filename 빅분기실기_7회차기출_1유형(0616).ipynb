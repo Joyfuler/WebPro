{
  "nbformat": 4,
  "nbformat_minor": 0,
  "metadata": {
    "colab": {
      "provenance": []
    },
    "kernelspec": {
      "name": "python3",
      "display_name": "Python 3"
    },
    "language_info": {
      "name": "python"
    }
  },
  "cells": [
    {
      "cell_type": "markdown",
      "source": [
        "## 작업형1"
      ],
      "metadata": {
        "id": "ImS-bayEojdA"
      }
    },
    {
      "cell_type": "markdown",
      "source": [
        "### 문제1. 결측치가 있는 행을 제거한 후, 학생이 가장 많이 수강한 과목(id_assessment)을 찾고, 해당 과목 점수(score)를 표준화(스탠다스 스케일) 한 뒤에 표준화된 가장 큰 값을 구하시오. (반올림하여 소수 셋째자리까지 계산)"
      ],
      "metadata": {
        "id": "JO-2zLFZsse1"
      }
    },
    {
      "cell_type": "code",
      "execution_count": 30,
      "metadata": {
        "id": "QfWBB-yjCuX8",
        "colab": {
          "base_uri": "https://localhost:8080/"
        },
        "outputId": "d2479531-3e2d-4118-82f9-4b98137f8f96"
      },
      "outputs": [
        {
          "output_type": "stream",
          "name": "stdout",
          "text": [
            "12\n",
            "      id_assessment  student_id  study_period_days  score\n",
            "80               12          85                 35   50.0\n",
            "131              12         141                 70   32.0\n",
            "342              12         365                 22   99.0\n",
            "349              12         372                 22   49.0\n",
            "368              12         394                 22   33.0\n",
            "450              12         479                 35   68.0\n",
            "513              12         543                 35   44.0\n",
            "568              12         601                 22   21.0\n",
            "926              12         981                 22   71.0\n",
            "965              12        1023                 22   22.0\n",
            "975              12        1033                 35   68.0\n",
            "983              12        1042                 22   77.0\n",
            "1141             12        1205                 35   18.0\n",
            "1161             12        1225                 22   76.0\n",
            "1203             12        1270                 70   12.0\n",
            "1290             12        1362                 70   14.0\n",
            "1291             12        1364                 22   72.0\n",
            "1399             12        1477                 22   19.0\n",
            "1480             12        1560                 70    4.0\n",
            "1612             12        1701                 35   14.0\n",
            "1642             12        1732                 35   11.0\n",
            "1671             12        1764                 35   69.0\n",
            "1813             12        1911                 70   10.0\n",
            "1862             12        1963                 35    8.0\n",
            "2051             12        2159                 70    3.0\n",
            "2060             12        2170                 70   47.0\n",
            "2080             12        2191                 22   34.0\n",
            "2188             12        2309                 35   57.0\n",
            "2225             12        2351                 70   84.0\n",
            "2272             12        2399                 70   61.0\n",
            "2309             12        2437                 22   39.0\n",
            "2431             12        2562                 22   50.0\n",
            "2548             12        2683                 22   37.0\n",
            "1.732\n"
          ]
        }
      ],
      "source": [
        "import pandas as pd\n",
        "df = pd.read_csv(\"student_assessment.csv\")\n",
        "#print(df.head(5))\n",
        "#print(df.isnull().sum())\n",
        "#print(help(df.dropna))\n",
        "df = df.dropna()\n",
        "\n",
        "#print(df.head(5))\n",
        "#print(df.isnull().sum())\n",
        "\n",
        "#cond1 = (df['id_assessment'] == max(df['id_assessment']))\n",
        "print(df['id_assessment'].value_counts().idxmax()) # 12가 해당.\n",
        "\n",
        "\n",
        "from sklearn.preprocessing import StandardScaler\n",
        "cond1 = (df['id_assessment']) == 12\n",
        "print(df[cond1])\n",
        "scaler = StandardScaler()\n",
        "df['score'] = scaler.fit_transform(df[['score']]) # 학습 후 변환 1단계\n",
        "# 데이터프레임 형태로 변환해야 하므로, 대괄호를 하나 더 넣어야 실행가능.\n",
        "#print(df)\n",
        "print(round(df['score'].max(), 3))"
      ]
    },
    {
      "cell_type": "markdown",
      "source": [
        "### 문제2. DE1~DE77컬럼 중 주가지수의 종가 \"close\"와 가장 상관관계가 높은 변수를 찾아, 해당 변수의 평균값을 구하시오. (반올림하여 소수 넷째자리까지 계산)"
      ],
      "metadata": {
        "id": "sHC4blpRswAJ"
      }
    },
    {
      "cell_type": "code",
      "source": [
        "import pandas as pd\n",
        "df = pd.read_csv(\"stock_market.csv\")\n",
        "print(df.head())\n",
        "\n",
        "# 상관관계를 확인하는 법? df.corr()\n",
        "#print(df.corr())\n",
        "# 일반적으로 0에 가까울 수록 상관관계가 없음.\n",
        "# 숫자가 마이너스든, 플러스든 커질 수록 상관관계가 큼.\n",
        "#(양인 경우는 정비례 / 음인 경우는 반비례)\n",
        "\n",
        "print(abs(df.corr()['close']))\n",
        "df_corr = abs(df.corr()['close'])\n",
        "col = df_corr.loc['DE1':'DE77'].idxmax()\n",
        "\n",
        "print(col)\n",
        "\n",
        "# 가장 큰 값의 인덱스 값 찾는 함수 - idxmax() 기억해 두자!\n",
        "\n",
        "print(round(df[col].mean(),4))"
      ],
      "metadata": {
        "id": "usqyPcI4J0eL",
        "colab": {
          "base_uri": "https://localhost:8080/"
        },
        "outputId": "c7cbda21-f0ad-45ac-d347-e3af75260fc5"
      },
      "execution_count": 51,
      "outputs": [
        {
          "output_type": "stream",
          "name": "stdout",
          "text": [
            "        DE1       DE2       DE3       DE4       DE5       DE6       DE7  \\\n",
            "0  1.764052  0.400157  0.978738  2.240893  1.867558 -0.977278  0.950088   \n",
            "1 -0.578850 -0.311553  0.056165 -1.165150  0.900826  0.465662 -1.536244   \n",
            "2 -0.098453 -0.663478  1.126636 -1.079932 -1.147469 -0.437820 -0.498032   \n",
            "3 -0.493320 -0.542861  0.416050 -1.156182  0.781198  1.494485 -2.069985   \n",
            "4  0.693773 -0.159573 -0.133702  1.077744 -1.126826 -0.730678 -0.384880   \n",
            "\n",
            "        DE8       DE9      DE10  ...      DE71      DE72      DE73      DE74  \\\n",
            "0 -0.151357 -0.103219  0.410599  ...  0.729091  0.128983  1.139401 -1.234826   \n",
            "1  1.488252  1.895889  1.178780  ...  1.117016 -1.315907 -0.461585 -0.068242   \n",
            "2  1.929532  0.949421  0.087551  ... -1.540797  0.063262  0.156507  0.232181   \n",
            "3  0.426259  0.676908 -0.637437  ...  1.658131 -0.118164 -0.680178  0.666383   \n",
            "4  0.094352 -0.042171 -0.286887  ... -0.206904  0.880179 -1.698106  0.387280   \n",
            "\n",
            "       DE75      DE76      DE77        open       close    volume  \n",
            "0  0.402342 -0.684810 -0.870797  129.549102  126.502056  981466.0  \n",
            "1  1.713343 -0.744755 -0.826439  126.502056  128.041811  473416.0  \n",
            "2 -0.597316 -0.237922 -1.424061  128.041811  128.957651   46597.0  \n",
            "3 -0.460720 -1.334258 -1.346718  128.957651  122.965246  455747.0  \n",
            "4 -2.255564 -1.022507  0.038631  122.965246  114.922790  242198.0  \n",
            "\n",
            "[5 rows x 80 columns]\n",
            "DE1       0.034633\n",
            "DE2       0.052457\n",
            "DE3       0.021811\n",
            "DE4       0.025823\n",
            "DE5       0.001282\n",
            "            ...   \n",
            "DE76      0.012707\n",
            "DE77      0.020981\n",
            "open      0.996873\n",
            "close     1.000000\n",
            "volume    0.022469\n",
            "Name: close, Length: 80, dtype: float64\n",
            "DE14\n",
            "-0.0004\n"
          ]
        }
      ]
    },
    {
      "cell_type": "markdown",
      "source": [
        "### 문제3. IQR을 이용해 이산화탄소(CO2) 이상치 수를 찾으시오\n",
        "\n",
        "- Q1 (제 1사분위수): 하위 25% 값\n",
        "- Q3 (제 3사분위수): 상위 25% 값\n",
        "- IQR (사분위수 범위): IQR = Q3 - Q1\n",
        "\n",
        "- lower (하한선): Q1 - 1.5 * IQR, 이 값보다 작은 데이터는 이상치로 간주\n",
        "- upper (상한선): Q3 + 1.5 * IQR, 이 값보다 큰 데이터는 이상치로 간주\n",
        "\n"
      ],
      "metadata": {
        "id": "E9QDz8l-sy4D"
      }
    },
    {
      "cell_type": "code",
      "source": [
        "import pandas as pd\n",
        "df = pd.read_csv(\"air_quality.csv\")\n",
        "#print(df.head())\n",
        "q1 = df['CO2'].quantile(0.25)\n",
        "q3 = df['CO2'].quantile(0.75)\n",
        "IQR = q3 - q1\n",
        "lower = q1 - 1.5 * IQR\n",
        "upper = q3 + 1.5 * IQR\n",
        "print(lower, upper)\n",
        "cond1 = df['CO2'] < lower\n",
        "cond2 = df['CO2'] > upper\n",
        "print(len(df[cond1 | cond2]))"
      ],
      "metadata": {
        "id": "LipHWwikUBL-",
        "colab": {
          "base_uri": "https://localhost:8080/"
        },
        "outputId": "75e150cd-a2aa-4c93-f28d-c053d6eb4d36"
      },
      "execution_count": 56,
      "outputs": [
        {
          "output_type": "stream",
          "name": "stdout",
          "text": [
            "                  Date        CO         CO2         O2\n",
            "0  2024-01-01 00:00:00  0.549671  383.037632  21.248286\n",
            "1  2024-01-01 01:00:00  0.486174  392.362513  21.183324\n",
            "2  2024-01-01 02:00:00  0.564769  385.065473  19.963480\n",
            "3  2024-01-01 03:00:00  0.652303  402.760451  21.479584\n",
            "4  2024-01-01 04:00:00  0.476585  429.929463  19.409917\n",
            "Help on method quantile in module pandas.core.frame:\n",
            "\n",
            "quantile(q: 'float | AnyArrayLike | Sequence[float]' = 0.5, axis: 'Axis' = 0, numeric_only: 'bool' = False, interpolation: 'QuantileInterpolation' = 'linear', method: \"Literal['single', 'table']\" = 'single') -> 'Series | DataFrame' method of pandas.core.frame.DataFrame instance\n",
            "    Return values at the given quantile over requested axis.\n",
            "    \n",
            "    Parameters\n",
            "    ----------\n",
            "    q : float or array-like, default 0.5 (50% quantile)\n",
            "        Value between 0 <= q <= 1, the quantile(s) to compute.\n",
            "    axis : {0 or 'index', 1 or 'columns'}, default 0\n",
            "        Equals 0 or 'index' for row-wise, 1 or 'columns' for column-wise.\n",
            "    numeric_only : bool, default False\n",
            "        Include only `float`, `int` or `boolean` data.\n",
            "    \n",
            "        .. versionchanged:: 2.0.0\n",
            "            The default value of ``numeric_only`` is now ``False``.\n",
            "    \n",
            "    interpolation : {'linear', 'lower', 'higher', 'midpoint', 'nearest'}\n",
            "        This optional parameter specifies the interpolation method to use,\n",
            "        when the desired quantile lies between two data points `i` and `j`:\n",
            "    \n",
            "        * linear: `i + (j - i) * fraction`, where `fraction` is the\n",
            "          fractional part of the index surrounded by `i` and `j`.\n",
            "        * lower: `i`.\n",
            "        * higher: `j`.\n",
            "        * nearest: `i` or `j` whichever is nearest.\n",
            "        * midpoint: (`i` + `j`) / 2.\n",
            "    method : {'single', 'table'}, default 'single'\n",
            "        Whether to compute quantiles per-column ('single') or over all columns\n",
            "        ('table'). When 'table', the only allowed interpolation methods are\n",
            "        'nearest', 'lower', and 'higher'.\n",
            "    \n",
            "    Returns\n",
            "    -------\n",
            "    Series or DataFrame\n",
            "    \n",
            "        If ``q`` is an array, a DataFrame will be returned where the\n",
            "          index is ``q``, the columns are the columns of self, and the\n",
            "          values are the quantiles.\n",
            "        If ``q`` is a float, a Series will be returned where the\n",
            "          index is the columns of self and the values are the quantiles.\n",
            "    \n",
            "    See Also\n",
            "    --------\n",
            "    core.window.rolling.Rolling.quantile: Rolling quantile.\n",
            "    numpy.percentile: Numpy function to compute the percentile.\n",
            "    \n",
            "    Examples\n",
            "    --------\n",
            "    >>> df = pd.DataFrame(np.array([[1, 1], [2, 10], [3, 100], [4, 100]]),\n",
            "    ...                   columns=['a', 'b'])\n",
            "    >>> df.quantile(.1)\n",
            "    a    1.3\n",
            "    b    3.7\n",
            "    Name: 0.1, dtype: float64\n",
            "    >>> df.quantile([.1, .5])\n",
            "           a     b\n",
            "    0.1  1.3   3.7\n",
            "    0.5  2.5  55.0\n",
            "    \n",
            "    Specifying `method='table'` will compute the quantile over all columns.\n",
            "    \n",
            "    >>> df.quantile(.1, method=\"table\", interpolation=\"nearest\")\n",
            "    a    1\n",
            "    b    1\n",
            "    Name: 0.1, dtype: int64\n",
            "    >>> df.quantile([.1, .5], method=\"table\", interpolation=\"nearest\")\n",
            "         a    b\n",
            "    0.1  1    1\n",
            "    0.5  3  100\n",
            "    \n",
            "    Specifying `numeric_only=False` will also compute the quantile of\n",
            "    datetime and timedelta data.\n",
            "    \n",
            "    >>> df = pd.DataFrame({'A': [1, 2],\n",
            "    ...                    'B': [pd.Timestamp('2010'),\n",
            "    ...                          pd.Timestamp('2011')],\n",
            "    ...                    'C': [pd.Timedelta('1 days'),\n",
            "    ...                          pd.Timedelta('2 days')]})\n",
            "    >>> df.quantile(0.5, numeric_only=False)\n",
            "    A                    1.5\n",
            "    B    2010-07-02 12:00:00\n",
            "    C        1 days 12:00:00\n",
            "    Name: 0.5, dtype: object\n",
            "\n",
            "None\n",
            "331.4578680558501 471.17077250802515\n",
            "304\n"
          ]
        }
      ]
    }
  ]
}