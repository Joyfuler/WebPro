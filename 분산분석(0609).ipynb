{
  "nbformat": 4,
  "nbformat_minor": 0,
  "metadata": {
    "colab": {
      "provenance": []
    },
    "kernelspec": {
      "name": "python3",
      "display_name": "Python 3"
    },
    "language_info": {
      "name": "python"
    }
  },
  "cells": [
    {
      "cell_type": "markdown",
      "source": [
        "# 일원 분산 분석"
      ],
      "metadata": {
        "id": "noR3fjbYSw1_"
      }
    },
    {
      "cell_type": "markdown",
      "source": [
        "주어진 데이터는 4가지 다른 교육 방법을 적용한 대학생들의 학점 결과이다. 이 실험에서는 비슷한 실력을 가진 학생 40명을 무작위로 4개(A, B, C, D)그룹으로 나누었고, 각 그룹은 다른 교육 방법을 적용했다. 학생들의 학점 결과에는 교육 방법에 따른 차이가 있는지 유의수준 0.5하에서 검정하시오.\n",
        "- 귀무가설(H0): 네 가지 교육 방법에 의한 학생들의 학점 평균은 동일하다.\n",
        "- 대립가설(H1): 적어도 두 그룹의 학점 평균은 다르다."
      ],
      "metadata": {
        "id": "JsELXtKgvRkK"
      }
    },
    {
      "cell_type": "markdown",
      "source": [
        "## 1. 기초"
      ],
      "metadata": {
        "id": "80IBaqHZS1JH"
      }
    },
    {
      "cell_type": "code",
      "source": [
        "# 일원분산은 요인이 1개. 집단은 3개 이상..\n",
        "\n",
        "import pandas as pd\n",
        "df = pd.DataFrame({\n",
        "    'A': [3.5, 4.3, 3.8, 3.6, 4.1, 3.2, 3.9, 4.4, 3.5, 3.3],\n",
        "    'B': [3.9, 4.4, 4.1, 4.2, 4.5, 3.8, 4.2, 3.9, 4.4, 4.3],\n",
        "    'C': [3.2, 3.7, 3.6, 3.9, 4.3, 4.1, 3.8, 3.5, 4.4, 4.0],\n",
        "    'D': [3.8, 3.4, 3.1, 3.5, 3.6, 3.9, 3.2, 3.7, 3.3, 3.4]\n",
        "})\n",
        "print(df.head(2))"
      ],
      "metadata": {
        "id": "8Tix8IOgjleA",
        "colab": {
          "base_uri": "https://localhost:8080/"
        },
        "outputId": "2061273e-0f95-4b75-d710-6743f5922fde"
      },
      "execution_count": 1,
      "outputs": [
        {
          "output_type": "stream",
          "name": "stdout",
          "text": [
            "     A    B    C    D\n",
            "0  3.5  3.9  3.2  3.8\n",
            "1  4.3  4.4  3.7  3.4\n"
          ]
        }
      ]
    },
    {
      "cell_type": "markdown",
      "source": [
        "### 일원 분산 분석"
      ],
      "metadata": {
        "id": "w3x85qp5mGRA"
      }
    },
    {
      "cell_type": "code",
      "source": [
        "# 일원 분산 분석\n",
        "from scipy import stats\n",
        "stats.f_oneway(df['A'], df['B'], df['C'], df['D'])\n",
        "# 여러 개의 집단을 모두 f_oneway 함수 안에 집어넣고 실행.\n",
        "# 검정통계량 7.29 / pvalue 0.0006... 귀무가설 기각. 서로 다름."
      ],
      "metadata": {
        "id": "ujMdJExGl5oK",
        "colab": {
          "base_uri": "https://localhost:8080/"
        },
        "outputId": "7c6519f7-9efc-4a63-9587-b695e94e7e46"
      },
      "execution_count": 2,
      "outputs": [
        {
          "output_type": "execute_result",
          "data": {
            "text/plain": [
              "F_onewayResult(statistic=7.2969837587007, pvalue=0.0006053225519892207)"
            ]
          },
          "metadata": {},
          "execution_count": 2
        }
      ]
    },
    {
      "cell_type": "code",
      "execution_count": 5,
      "metadata": {
        "id": "ie4pxfxlWEvK",
        "colab": {
          "base_uri": "https://localhost:8080/"
        },
        "outputId": "1c96acde-1e02-4a75-de0c-9312ecce91eb"
      },
      "outputs": [
        {
          "output_type": "stream",
          "name": "stdout",
          "text": [
            "ShapiroResult(statistic=0.949882447719574, pvalue=0.667110025882721)\n",
            "ShapiroResult(statistic=0.934644877910614, pvalue=0.49509894847869873)\n",
            "ShapiroResult(statistic=0.9871343374252319, pvalue=0.9919547438621521)\n",
            "ShapiroResult(statistic=0.9752339720726013, pvalue=0.9346861243247986)\n",
            "LeveneResult(statistic=1.5433829973707245, pvalue=0.22000894224209636)\n"
          ]
        },
        {
          "output_type": "execute_result",
          "data": {
            "text/plain": [
              "F_onewayResult(statistic=7.2969837587007, pvalue=0.0006053225519892207)"
            ]
          },
          "metadata": {},
          "execution_count": 5
        }
      ],
      "source": [
        "# 정규성, 등분산, 일원 분산 분석\n",
        "# 단, 정규성과 등분산을 만족해야 하므로 이 전제 조건이 없는 경우에는 샤피로 윌크와 레빈을 사용하여 정규성과 등분산 검정이 필요함.\n",
        "\n",
        "# Shapiro-Wilk(샤피로-윌크) 정규성 검정\n",
        "print(stats.shapiro(df['A']))\n",
        "print(stats.shapiro(df['B']))\n",
        "print(stats.shapiro(df['C']))\n",
        "print(stats.shapiro(df['D']))\n",
        "# 3가지 모두 pvalue가 0.05를 넘으므로 정규성을 만족함.\n",
        "\n",
        "# Levene(레빈) 등분산 검정\n",
        "print(stats.levene(df['A'], df['B'], df['C'], df['D']))\n",
        "# 4가지 모두 레빈 등분산 검정을 실행한 결과 p-value는 0.2이므로 0.05초과.\n",
        "# 즉 등분산을 만족한다고 할 수 있음.\n",
        "\n",
        "# 일원 분산 분석\n",
        "stats.f_oneway(df['A'],df['B'], df['C'],df['D'])\n",
        "# 평균에는 차이가 있다.\n",
        "\n"
      ]
    },
    {
      "cell_type": "markdown",
      "source": [
        "## 2. 심화"
      ],
      "metadata": {
        "id": "X6IW2XKNTCHh"
      }
    },
    {
      "cell_type": "code",
      "source": [
        "# 데이터 재구조화 (긴 형태)\n",
        "# A / B / C / D였던 구조를 세로로 변경함. -> 집단과 값으로 재구조할 수 있도록 melt라는 함수를 사용.\n",
        "import pandas as pd\n",
        "df_melt = df.melt()\n",
        "df_melt.head()"
      ],
      "metadata": {
        "id": "0V10CT1KjvHv",
        "colab": {
          "base_uri": "https://localhost:8080/",
          "height": 206
        },
        "outputId": "2bb877bc-1111-450b-932c-3d0f6c2c9b5d"
      },
      "execution_count": 7,
      "outputs": [
        {
          "output_type": "execute_result",
          "data": {
            "text/plain": [
              "  variable  value\n",
              "0        A    3.5\n",
              "1        A    4.3\n",
              "2        A    3.8\n",
              "3        A    3.6\n",
              "4        A    4.1"
            ],
            "text/html": [
              "\n",
              "  <div id=\"df-a0457466-2c9d-473f-af9b-ed1d9d798b0f\" class=\"colab-df-container\">\n",
              "    <div>\n",
              "<style scoped>\n",
              "    .dataframe tbody tr th:only-of-type {\n",
              "        vertical-align: middle;\n",
              "    }\n",
              "\n",
              "    .dataframe tbody tr th {\n",
              "        vertical-align: top;\n",
              "    }\n",
              "\n",
              "    .dataframe thead th {\n",
              "        text-align: right;\n",
              "    }\n",
              "</style>\n",
              "<table border=\"1\" class=\"dataframe\">\n",
              "  <thead>\n",
              "    <tr style=\"text-align: right;\">\n",
              "      <th></th>\n",
              "      <th>variable</th>\n",
              "      <th>value</th>\n",
              "    </tr>\n",
              "  </thead>\n",
              "  <tbody>\n",
              "    <tr>\n",
              "      <th>0</th>\n",
              "      <td>A</td>\n",
              "      <td>3.5</td>\n",
              "    </tr>\n",
              "    <tr>\n",
              "      <th>1</th>\n",
              "      <td>A</td>\n",
              "      <td>4.3</td>\n",
              "    </tr>\n",
              "    <tr>\n",
              "      <th>2</th>\n",
              "      <td>A</td>\n",
              "      <td>3.8</td>\n",
              "    </tr>\n",
              "    <tr>\n",
              "      <th>3</th>\n",
              "      <td>A</td>\n",
              "      <td>3.6</td>\n",
              "    </tr>\n",
              "    <tr>\n",
              "      <th>4</th>\n",
              "      <td>A</td>\n",
              "      <td>4.1</td>\n",
              "    </tr>\n",
              "  </tbody>\n",
              "</table>\n",
              "</div>\n",
              "    <div class=\"colab-df-buttons\">\n",
              "\n",
              "  <div class=\"colab-df-container\">\n",
              "    <button class=\"colab-df-convert\" onclick=\"convertToInteractive('df-a0457466-2c9d-473f-af9b-ed1d9d798b0f')\"\n",
              "            title=\"Convert this dataframe to an interactive table.\"\n",
              "            style=\"display:none;\">\n",
              "\n",
              "  <svg xmlns=\"http://www.w3.org/2000/svg\" height=\"24px\" viewBox=\"0 -960 960 960\">\n",
              "    <path d=\"M120-120v-720h720v720H120Zm60-500h600v-160H180v160Zm220 220h160v-160H400v160Zm0 220h160v-160H400v160ZM180-400h160v-160H180v160Zm440 0h160v-160H620v160ZM180-180h160v-160H180v160Zm440 0h160v-160H620v160Z\"/>\n",
              "  </svg>\n",
              "    </button>\n",
              "\n",
              "  <style>\n",
              "    .colab-df-container {\n",
              "      display:flex;\n",
              "      gap: 12px;\n",
              "    }\n",
              "\n",
              "    .colab-df-convert {\n",
              "      background-color: #E8F0FE;\n",
              "      border: none;\n",
              "      border-radius: 50%;\n",
              "      cursor: pointer;\n",
              "      display: none;\n",
              "      fill: #1967D2;\n",
              "      height: 32px;\n",
              "      padding: 0 0 0 0;\n",
              "      width: 32px;\n",
              "    }\n",
              "\n",
              "    .colab-df-convert:hover {\n",
              "      background-color: #E2EBFA;\n",
              "      box-shadow: 0px 1px 2px rgba(60, 64, 67, 0.3), 0px 1px 3px 1px rgba(60, 64, 67, 0.15);\n",
              "      fill: #174EA6;\n",
              "    }\n",
              "\n",
              "    .colab-df-buttons div {\n",
              "      margin-bottom: 4px;\n",
              "    }\n",
              "\n",
              "    [theme=dark] .colab-df-convert {\n",
              "      background-color: #3B4455;\n",
              "      fill: #D2E3FC;\n",
              "    }\n",
              "\n",
              "    [theme=dark] .colab-df-convert:hover {\n",
              "      background-color: #434B5C;\n",
              "      box-shadow: 0px 1px 3px 1px rgba(0, 0, 0, 0.15);\n",
              "      filter: drop-shadow(0px 1px 2px rgba(0, 0, 0, 0.3));\n",
              "      fill: #FFFFFF;\n",
              "    }\n",
              "  </style>\n",
              "\n",
              "    <script>\n",
              "      const buttonEl =\n",
              "        document.querySelector('#df-a0457466-2c9d-473f-af9b-ed1d9d798b0f button.colab-df-convert');\n",
              "      buttonEl.style.display =\n",
              "        google.colab.kernel.accessAllowed ? 'block' : 'none';\n",
              "\n",
              "      async function convertToInteractive(key) {\n",
              "        const element = document.querySelector('#df-a0457466-2c9d-473f-af9b-ed1d9d798b0f');\n",
              "        const dataTable =\n",
              "          await google.colab.kernel.invokeFunction('convertToInteractive',\n",
              "                                                    [key], {});\n",
              "        if (!dataTable) return;\n",
              "\n",
              "        const docLinkHtml = 'Like what you see? Visit the ' +\n",
              "          '<a target=\"_blank\" href=https://colab.research.google.com/notebooks/data_table.ipynb>data table notebook</a>'\n",
              "          + ' to learn more about interactive tables.';\n",
              "        element.innerHTML = '';\n",
              "        dataTable['output_type'] = 'display_data';\n",
              "        await google.colab.output.renderOutput(dataTable, element);\n",
              "        const docLink = document.createElement('div');\n",
              "        docLink.innerHTML = docLinkHtml;\n",
              "        element.appendChild(docLink);\n",
              "      }\n",
              "    </script>\n",
              "  </div>\n",
              "\n",
              "\n",
              "<div id=\"df-5aebebdc-f632-4d31-b8b5-d1a07ebc57af\">\n",
              "  <button class=\"colab-df-quickchart\" onclick=\"quickchart('df-5aebebdc-f632-4d31-b8b5-d1a07ebc57af')\"\n",
              "            title=\"Suggest charts\"\n",
              "            style=\"display:none;\">\n",
              "\n",
              "<svg xmlns=\"http://www.w3.org/2000/svg\" height=\"24px\"viewBox=\"0 0 24 24\"\n",
              "     width=\"24px\">\n",
              "    <g>\n",
              "        <path d=\"M19 3H5c-1.1 0-2 .9-2 2v14c0 1.1.9 2 2 2h14c1.1 0 2-.9 2-2V5c0-1.1-.9-2-2-2zM9 17H7v-7h2v7zm4 0h-2V7h2v10zm4 0h-2v-4h2v4z\"/>\n",
              "    </g>\n",
              "</svg>\n",
              "  </button>\n",
              "\n",
              "<style>\n",
              "  .colab-df-quickchart {\n",
              "      --bg-color: #E8F0FE;\n",
              "      --fill-color: #1967D2;\n",
              "      --hover-bg-color: #E2EBFA;\n",
              "      --hover-fill-color: #174EA6;\n",
              "      --disabled-fill-color: #AAA;\n",
              "      --disabled-bg-color: #DDD;\n",
              "  }\n",
              "\n",
              "  [theme=dark] .colab-df-quickchart {\n",
              "      --bg-color: #3B4455;\n",
              "      --fill-color: #D2E3FC;\n",
              "      --hover-bg-color: #434B5C;\n",
              "      --hover-fill-color: #FFFFFF;\n",
              "      --disabled-bg-color: #3B4455;\n",
              "      --disabled-fill-color: #666;\n",
              "  }\n",
              "\n",
              "  .colab-df-quickchart {\n",
              "    background-color: var(--bg-color);\n",
              "    border: none;\n",
              "    border-radius: 50%;\n",
              "    cursor: pointer;\n",
              "    display: none;\n",
              "    fill: var(--fill-color);\n",
              "    height: 32px;\n",
              "    padding: 0;\n",
              "    width: 32px;\n",
              "  }\n",
              "\n",
              "  .colab-df-quickchart:hover {\n",
              "    background-color: var(--hover-bg-color);\n",
              "    box-shadow: 0 1px 2px rgba(60, 64, 67, 0.3), 0 1px 3px 1px rgba(60, 64, 67, 0.15);\n",
              "    fill: var(--button-hover-fill-color);\n",
              "  }\n",
              "\n",
              "  .colab-df-quickchart-complete:disabled,\n",
              "  .colab-df-quickchart-complete:disabled:hover {\n",
              "    background-color: var(--disabled-bg-color);\n",
              "    fill: var(--disabled-fill-color);\n",
              "    box-shadow: none;\n",
              "  }\n",
              "\n",
              "  .colab-df-spinner {\n",
              "    border: 2px solid var(--fill-color);\n",
              "    border-color: transparent;\n",
              "    border-bottom-color: var(--fill-color);\n",
              "    animation:\n",
              "      spin 1s steps(1) infinite;\n",
              "  }\n",
              "\n",
              "  @keyframes spin {\n",
              "    0% {\n",
              "      border-color: transparent;\n",
              "      border-bottom-color: var(--fill-color);\n",
              "      border-left-color: var(--fill-color);\n",
              "    }\n",
              "    20% {\n",
              "      border-color: transparent;\n",
              "      border-left-color: var(--fill-color);\n",
              "      border-top-color: var(--fill-color);\n",
              "    }\n",
              "    30% {\n",
              "      border-color: transparent;\n",
              "      border-left-color: var(--fill-color);\n",
              "      border-top-color: var(--fill-color);\n",
              "      border-right-color: var(--fill-color);\n",
              "    }\n",
              "    40% {\n",
              "      border-color: transparent;\n",
              "      border-right-color: var(--fill-color);\n",
              "      border-top-color: var(--fill-color);\n",
              "    }\n",
              "    60% {\n",
              "      border-color: transparent;\n",
              "      border-right-color: var(--fill-color);\n",
              "    }\n",
              "    80% {\n",
              "      border-color: transparent;\n",
              "      border-right-color: var(--fill-color);\n",
              "      border-bottom-color: var(--fill-color);\n",
              "    }\n",
              "    90% {\n",
              "      border-color: transparent;\n",
              "      border-bottom-color: var(--fill-color);\n",
              "    }\n",
              "  }\n",
              "</style>\n",
              "\n",
              "  <script>\n",
              "    async function quickchart(key) {\n",
              "      const quickchartButtonEl =\n",
              "        document.querySelector('#' + key + ' button');\n",
              "      quickchartButtonEl.disabled = true;  // To prevent multiple clicks.\n",
              "      quickchartButtonEl.classList.add('colab-df-spinner');\n",
              "      try {\n",
              "        const charts = await google.colab.kernel.invokeFunction(\n",
              "            'suggestCharts', [key], {});\n",
              "      } catch (error) {\n",
              "        console.error('Error during call to suggestCharts:', error);\n",
              "      }\n",
              "      quickchartButtonEl.classList.remove('colab-df-spinner');\n",
              "      quickchartButtonEl.classList.add('colab-df-quickchart-complete');\n",
              "    }\n",
              "    (() => {\n",
              "      let quickchartButtonEl =\n",
              "        document.querySelector('#df-5aebebdc-f632-4d31-b8b5-d1a07ebc57af button');\n",
              "      quickchartButtonEl.style.display =\n",
              "        google.colab.kernel.accessAllowed ? 'block' : 'none';\n",
              "    })();\n",
              "  </script>\n",
              "</div>\n",
              "\n",
              "    </div>\n",
              "  </div>\n"
            ],
            "application/vnd.google.colaboratory.intrinsic+json": {
              "type": "dataframe",
              "variable_name": "df_melt",
              "summary": "{\n  \"name\": \"df_melt\",\n  \"rows\": 40,\n  \"fields\": [\n    {\n      \"column\": \"variable\",\n      \"properties\": {\n        \"dtype\": \"category\",\n        \"num_unique_values\": 4,\n        \"samples\": [\n          \"B\",\n          \"D\",\n          \"A\"\n        ],\n        \"semantic_type\": \"\",\n        \"description\": \"\"\n      }\n    },\n    {\n      \"column\": \"value\",\n      \"properties\": {\n        \"dtype\": \"number\",\n        \"std\": 0.39992787811342645,\n        \"min\": 3.1,\n        \"max\": 4.5,\n        \"num_unique_values\": 15,\n        \"samples\": [\n          4.2,\n          3.7,\n          3.5\n        ],\n        \"semantic_type\": \"\",\n        \"description\": \"\"\n      }\n    }\n  ]\n}"
            }
          },
          "metadata": {},
          "execution_count": 7
        }
      ]
    },
    {
      "cell_type": "markdown",
      "source": [
        "### 분산분석 테이블"
      ],
      "metadata": {
        "id": "l1OyVuNornNT"
      }
    },
    {
      "cell_type": "code",
      "source": [
        "# ANOVA 테이블\n",
        "from statsmodels.formula.api import ols\n",
        "\n",
        "from statsmodels.stats.anova import anova_lm #anova 선형회귀 모델\n",
        "model = ols('value ~ variable', data = df_melt).fit() #순서는 독립변수 우선, 그 후 종속변수를 적어줌. ()\n",
        "anova_lm(model)"
      ],
      "metadata": {
        "id": "3PH02qzdEPXZ",
        "colab": {
          "base_uri": "https://localhost:8080/",
          "height": 112
        },
        "outputId": "2415301d-2f17-4775-ca1e-0f37996c21fd"
      },
      "execution_count": 12,
      "outputs": [
        {
          "output_type": "execute_result",
          "data": {
            "text/plain": [
              "            df   sum_sq  mean_sq         F    PR(>F)\n",
              "variable   3.0  2.35875  0.78625  7.296984  0.000605\n",
              "Residual  36.0  3.87900  0.10775       NaN       NaN"
            ],
            "text/html": [
              "\n",
              "  <div id=\"df-afab2b52-dce6-4454-8660-9e248bf9f4da\" class=\"colab-df-container\">\n",
              "    <div>\n",
              "<style scoped>\n",
              "    .dataframe tbody tr th:only-of-type {\n",
              "        vertical-align: middle;\n",
              "    }\n",
              "\n",
              "    .dataframe tbody tr th {\n",
              "        vertical-align: top;\n",
              "    }\n",
              "\n",
              "    .dataframe thead th {\n",
              "        text-align: right;\n",
              "    }\n",
              "</style>\n",
              "<table border=\"1\" class=\"dataframe\">\n",
              "  <thead>\n",
              "    <tr style=\"text-align: right;\">\n",
              "      <th></th>\n",
              "      <th>df</th>\n",
              "      <th>sum_sq</th>\n",
              "      <th>mean_sq</th>\n",
              "      <th>F</th>\n",
              "      <th>PR(&gt;F)</th>\n",
              "    </tr>\n",
              "  </thead>\n",
              "  <tbody>\n",
              "    <tr>\n",
              "      <th>variable</th>\n",
              "      <td>3.0</td>\n",
              "      <td>2.35875</td>\n",
              "      <td>0.78625</td>\n",
              "      <td>7.296984</td>\n",
              "      <td>0.000605</td>\n",
              "    </tr>\n",
              "    <tr>\n",
              "      <th>Residual</th>\n",
              "      <td>36.0</td>\n",
              "      <td>3.87900</td>\n",
              "      <td>0.10775</td>\n",
              "      <td>NaN</td>\n",
              "      <td>NaN</td>\n",
              "    </tr>\n",
              "  </tbody>\n",
              "</table>\n",
              "</div>\n",
              "    <div class=\"colab-df-buttons\">\n",
              "\n",
              "  <div class=\"colab-df-container\">\n",
              "    <button class=\"colab-df-convert\" onclick=\"convertToInteractive('df-afab2b52-dce6-4454-8660-9e248bf9f4da')\"\n",
              "            title=\"Convert this dataframe to an interactive table.\"\n",
              "            style=\"display:none;\">\n",
              "\n",
              "  <svg xmlns=\"http://www.w3.org/2000/svg\" height=\"24px\" viewBox=\"0 -960 960 960\">\n",
              "    <path d=\"M120-120v-720h720v720H120Zm60-500h600v-160H180v160Zm220 220h160v-160H400v160Zm0 220h160v-160H400v160ZM180-400h160v-160H180v160Zm440 0h160v-160H620v160ZM180-180h160v-160H180v160Zm440 0h160v-160H620v160Z\"/>\n",
              "  </svg>\n",
              "    </button>\n",
              "\n",
              "  <style>\n",
              "    .colab-df-container {\n",
              "      display:flex;\n",
              "      gap: 12px;\n",
              "    }\n",
              "\n",
              "    .colab-df-convert {\n",
              "      background-color: #E8F0FE;\n",
              "      border: none;\n",
              "      border-radius: 50%;\n",
              "      cursor: pointer;\n",
              "      display: none;\n",
              "      fill: #1967D2;\n",
              "      height: 32px;\n",
              "      padding: 0 0 0 0;\n",
              "      width: 32px;\n",
              "    }\n",
              "\n",
              "    .colab-df-convert:hover {\n",
              "      background-color: #E2EBFA;\n",
              "      box-shadow: 0px 1px 2px rgba(60, 64, 67, 0.3), 0px 1px 3px 1px rgba(60, 64, 67, 0.15);\n",
              "      fill: #174EA6;\n",
              "    }\n",
              "\n",
              "    .colab-df-buttons div {\n",
              "      margin-bottom: 4px;\n",
              "    }\n",
              "\n",
              "    [theme=dark] .colab-df-convert {\n",
              "      background-color: #3B4455;\n",
              "      fill: #D2E3FC;\n",
              "    }\n",
              "\n",
              "    [theme=dark] .colab-df-convert:hover {\n",
              "      background-color: #434B5C;\n",
              "      box-shadow: 0px 1px 3px 1px rgba(0, 0, 0, 0.15);\n",
              "      filter: drop-shadow(0px 1px 2px rgba(0, 0, 0, 0.3));\n",
              "      fill: #FFFFFF;\n",
              "    }\n",
              "  </style>\n",
              "\n",
              "    <script>\n",
              "      const buttonEl =\n",
              "        document.querySelector('#df-afab2b52-dce6-4454-8660-9e248bf9f4da button.colab-df-convert');\n",
              "      buttonEl.style.display =\n",
              "        google.colab.kernel.accessAllowed ? 'block' : 'none';\n",
              "\n",
              "      async function convertToInteractive(key) {\n",
              "        const element = document.querySelector('#df-afab2b52-dce6-4454-8660-9e248bf9f4da');\n",
              "        const dataTable =\n",
              "          await google.colab.kernel.invokeFunction('convertToInteractive',\n",
              "                                                    [key], {});\n",
              "        if (!dataTable) return;\n",
              "\n",
              "        const docLinkHtml = 'Like what you see? Visit the ' +\n",
              "          '<a target=\"_blank\" href=https://colab.research.google.com/notebooks/data_table.ipynb>data table notebook</a>'\n",
              "          + ' to learn more about interactive tables.';\n",
              "        element.innerHTML = '';\n",
              "        dataTable['output_type'] = 'display_data';\n",
              "        await google.colab.output.renderOutput(dataTable, element);\n",
              "        const docLink = document.createElement('div');\n",
              "        docLink.innerHTML = docLinkHtml;\n",
              "        element.appendChild(docLink);\n",
              "      }\n",
              "    </script>\n",
              "  </div>\n",
              "\n",
              "\n",
              "<div id=\"df-f6e733c5-a199-48c5-85d1-e2e0a0f21b1e\">\n",
              "  <button class=\"colab-df-quickchart\" onclick=\"quickchart('df-f6e733c5-a199-48c5-85d1-e2e0a0f21b1e')\"\n",
              "            title=\"Suggest charts\"\n",
              "            style=\"display:none;\">\n",
              "\n",
              "<svg xmlns=\"http://www.w3.org/2000/svg\" height=\"24px\"viewBox=\"0 0 24 24\"\n",
              "     width=\"24px\">\n",
              "    <g>\n",
              "        <path d=\"M19 3H5c-1.1 0-2 .9-2 2v14c0 1.1.9 2 2 2h14c1.1 0 2-.9 2-2V5c0-1.1-.9-2-2-2zM9 17H7v-7h2v7zm4 0h-2V7h2v10zm4 0h-2v-4h2v4z\"/>\n",
              "    </g>\n",
              "</svg>\n",
              "  </button>\n",
              "\n",
              "<style>\n",
              "  .colab-df-quickchart {\n",
              "      --bg-color: #E8F0FE;\n",
              "      --fill-color: #1967D2;\n",
              "      --hover-bg-color: #E2EBFA;\n",
              "      --hover-fill-color: #174EA6;\n",
              "      --disabled-fill-color: #AAA;\n",
              "      --disabled-bg-color: #DDD;\n",
              "  }\n",
              "\n",
              "  [theme=dark] .colab-df-quickchart {\n",
              "      --bg-color: #3B4455;\n",
              "      --fill-color: #D2E3FC;\n",
              "      --hover-bg-color: #434B5C;\n",
              "      --hover-fill-color: #FFFFFF;\n",
              "      --disabled-bg-color: #3B4455;\n",
              "      --disabled-fill-color: #666;\n",
              "  }\n",
              "\n",
              "  .colab-df-quickchart {\n",
              "    background-color: var(--bg-color);\n",
              "    border: none;\n",
              "    border-radius: 50%;\n",
              "    cursor: pointer;\n",
              "    display: none;\n",
              "    fill: var(--fill-color);\n",
              "    height: 32px;\n",
              "    padding: 0;\n",
              "    width: 32px;\n",
              "  }\n",
              "\n",
              "  .colab-df-quickchart:hover {\n",
              "    background-color: var(--hover-bg-color);\n",
              "    box-shadow: 0 1px 2px rgba(60, 64, 67, 0.3), 0 1px 3px 1px rgba(60, 64, 67, 0.15);\n",
              "    fill: var(--button-hover-fill-color);\n",
              "  }\n",
              "\n",
              "  .colab-df-quickchart-complete:disabled,\n",
              "  .colab-df-quickchart-complete:disabled:hover {\n",
              "    background-color: var(--disabled-bg-color);\n",
              "    fill: var(--disabled-fill-color);\n",
              "    box-shadow: none;\n",
              "  }\n",
              "\n",
              "  .colab-df-spinner {\n",
              "    border: 2px solid var(--fill-color);\n",
              "    border-color: transparent;\n",
              "    border-bottom-color: var(--fill-color);\n",
              "    animation:\n",
              "      spin 1s steps(1) infinite;\n",
              "  }\n",
              "\n",
              "  @keyframes spin {\n",
              "    0% {\n",
              "      border-color: transparent;\n",
              "      border-bottom-color: var(--fill-color);\n",
              "      border-left-color: var(--fill-color);\n",
              "    }\n",
              "    20% {\n",
              "      border-color: transparent;\n",
              "      border-left-color: var(--fill-color);\n",
              "      border-top-color: var(--fill-color);\n",
              "    }\n",
              "    30% {\n",
              "      border-color: transparent;\n",
              "      border-left-color: var(--fill-color);\n",
              "      border-top-color: var(--fill-color);\n",
              "      border-right-color: var(--fill-color);\n",
              "    }\n",
              "    40% {\n",
              "      border-color: transparent;\n",
              "      border-right-color: var(--fill-color);\n",
              "      border-top-color: var(--fill-color);\n",
              "    }\n",
              "    60% {\n",
              "      border-color: transparent;\n",
              "      border-right-color: var(--fill-color);\n",
              "    }\n",
              "    80% {\n",
              "      border-color: transparent;\n",
              "      border-right-color: var(--fill-color);\n",
              "      border-bottom-color: var(--fill-color);\n",
              "    }\n",
              "    90% {\n",
              "      border-color: transparent;\n",
              "      border-bottom-color: var(--fill-color);\n",
              "    }\n",
              "  }\n",
              "</style>\n",
              "\n",
              "  <script>\n",
              "    async function quickchart(key) {\n",
              "      const quickchartButtonEl =\n",
              "        document.querySelector('#' + key + ' button');\n",
              "      quickchartButtonEl.disabled = true;  // To prevent multiple clicks.\n",
              "      quickchartButtonEl.classList.add('colab-df-spinner');\n",
              "      try {\n",
              "        const charts = await google.colab.kernel.invokeFunction(\n",
              "            'suggestCharts', [key], {});\n",
              "      } catch (error) {\n",
              "        console.error('Error during call to suggestCharts:', error);\n",
              "      }\n",
              "      quickchartButtonEl.classList.remove('colab-df-spinner');\n",
              "      quickchartButtonEl.classList.add('colab-df-quickchart-complete');\n",
              "    }\n",
              "    (() => {\n",
              "      let quickchartButtonEl =\n",
              "        document.querySelector('#df-f6e733c5-a199-48c5-85d1-e2e0a0f21b1e button');\n",
              "      quickchartButtonEl.style.display =\n",
              "        google.colab.kernel.accessAllowed ? 'block' : 'none';\n",
              "    })();\n",
              "  </script>\n",
              "</div>\n",
              "\n",
              "    </div>\n",
              "  </div>\n"
            ],
            "application/vnd.google.colaboratory.intrinsic+json": {
              "type": "dataframe",
              "summary": "{\n  \"name\": \"anova_lm(model)\",\n  \"rows\": 2,\n  \"fields\": [\n    {\n      \"column\": \"df\",\n      \"properties\": {\n        \"dtype\": \"number\",\n        \"std\": 23.33452377915607,\n        \"min\": 3.0,\n        \"max\": 36.0,\n        \"num_unique_values\": 2,\n        \"samples\": [\n          36.0,\n          3.0\n        ],\n        \"semantic_type\": \"\",\n        \"description\": \"\"\n      }\n    },\n    {\n      \"column\": \"sum_sq\",\n      \"properties\": {\n        \"dtype\": \"number\",\n        \"std\": 1.0749790840988445,\n        \"min\": 2.3587500000000063,\n        \"max\": 3.879,\n        \"num_unique_values\": 2,\n        \"samples\": [\n          3.879,\n          2.3587500000000063\n        ],\n        \"semantic_type\": \"\",\n        \"description\": \"\"\n      }\n    },\n    {\n      \"column\": \"mean_sq\",\n      \"properties\": {\n        \"dtype\": \"number\",\n        \"std\": 0.479771951035074,\n        \"min\": 0.10775,\n        \"max\": 0.7862500000000021,\n        \"num_unique_values\": 2,\n        \"samples\": [\n          0.10775,\n          0.7862500000000021\n        ],\n        \"semantic_type\": \"\",\n        \"description\": \"\"\n      }\n    },\n    {\n      \"column\": \"F\",\n      \"properties\": {\n        \"dtype\": \"number\",\n        \"std\": null,\n        \"min\": 7.296983758700716,\n        \"max\": 7.296983758700716,\n        \"num_unique_values\": 1,\n        \"samples\": [\n          7.296983758700716\n        ],\n        \"semantic_type\": \"\",\n        \"description\": \"\"\n      }\n    },\n    {\n      \"column\": \"PR(>F)\",\n      \"properties\": {\n        \"dtype\": \"number\",\n        \"std\": null,\n        \"min\": 0.0006053225519892133,\n        \"max\": 0.0006053225519892133,\n        \"num_unique_values\": 1,\n        \"samples\": [\n          0.0006053225519892133\n        ],\n        \"semantic_type\": \"\",\n        \"description\": \"\"\n      }\n    }\n  ]\n}"
            }
          },
          "metadata": {},
          "execution_count": 12
        }
      ]
    },
    {
      "cell_type": "markdown",
      "source": [
        "### 사후검정\n",
        "- 목적: 어떤 그룹들 간에 통계적으로 유의미한 차이가 있는지 구체적으로 파악하는 것"
      ],
      "metadata": {
        "id": "giIbIObjpoQS"
      }
    },
    {
      "cell_type": "code",
      "source": [
        "# Tukey HSD (투키)\n",
        "from statsmodels.stats.multicomp import pairwise_tukeyhsd, MultiComparison\n",
        "tukey_result = pairwise_tukeyhsd(df_melt['value'], df_melt['variable'], alpha = 0.05)\n",
        "print(tukey_result)\n",
        "# 0.05 이상이라면 유의미한 차이가 없음. 0.05 미만이라면 유의미한 차이가 존재 (귀무기각0)\n",
        "# Bonferroni(본페로니)\n",
        "\n"
      ],
      "metadata": {
        "id": "-zJ_Eu22oH20",
        "colab": {
          "base_uri": "https://localhost:8080/"
        },
        "outputId": "156e0add-3551-4ec4-f2bd-3ee3e16f8d21"
      },
      "execution_count": 15,
      "outputs": [
        {
          "output_type": "stream",
          "name": "stdout",
          "text": [
            "Multiple Comparison of Means - Tukey HSD, FWER=0.05 \n",
            "====================================================\n",
            "group1 group2 meandiff p-adj   lower   upper  reject\n",
            "----------------------------------------------------\n",
            "     A      B     0.41 0.0397  0.0146  0.8054   True\n",
            "     A      C     0.09 0.9273 -0.3054  0.4854  False\n",
            "     A      D    -0.27 0.2722 -0.6654  0.1254  False\n",
            "     B      C    -0.32 0.1483 -0.7154  0.0754  False\n",
            "     B      D    -0.68 0.0003 -1.0754 -0.2846   True\n",
            "     C      D    -0.36 0.0852 -0.7554  0.0354  False\n",
            "----------------------------------------------------\n"
          ]
        }
      ]
    },
    {
      "cell_type": "markdown",
      "source": [
        "### 크루스칼-왈리스 검정 (비모수 검정)"
      ],
      "metadata": {
        "id": "n_rI32dVrt97"
      }
    },
    {
      "cell_type": "code",
      "source": [
        "import pandas as pd\n",
        "from scipy import stats\n",
        "\n",
        "# 데이터\n",
        "df = pd.DataFrame({\n",
        "    'A': [10.5, 11.3, 10.8, 10.6, 11.1, 10.2, 10.9, 11.4, 10.5, 10.3],\n",
        "    'B': [10.9, 11.4, 11.1, 11.2, 11.5, 10.8, 11.2, 10.9, 11.4, 11.3],\n",
        "    'C': [10.2, 10.7, 10.6, 10.9, 11.3, 11.1, 10.8, 10.5, 11.4, 11.0],\n",
        "    'D': [13.8, 10.4, 10.1, 10.5, 10.6, 10.9, 10.2, 10.7, 10.3, 10.4]\n",
        "})\n",
        "\n",
        "# 데이터 한 개를 변경하여 정규성을 만족하지 않도록 변경.\n",
        "\n",
        "# 정규성 검정\n",
        "print(stats.shapiro(df['A']))\n",
        "print(stats.shapiro(df['B']))\n",
        "print(stats.shapiro(df['C']))\n",
        "print(stats.shapiro(df['D']))\n",
        "#D의 경우 p-value가 -05로 매우 작은 수. (소숫점 5칸 아래로 이동)\n",
        "#D는 정규성을 만족하지 않으므로 Kruskal-Wallis 검정을 수행한다.\n",
        "# Kruskal-Wallis 검정\n",
        "stats.kruskal(df['A'], df['B'], df['C'], df['D'])"
      ],
      "metadata": {
        "id": "YqHYfIKQW607",
        "colab": {
          "base_uri": "https://localhost:8080/"
        },
        "outputId": "1b511619-0f53-4633-c8d2-5d41144de5ff"
      },
      "execution_count": 17,
      "outputs": [
        {
          "output_type": "stream",
          "name": "stdout",
          "text": [
            "ShapiroResult(statistic=0.949882447719574, pvalue=0.667110025882721)\n",
            "ShapiroResult(statistic=0.934644877910614, pvalue=0.49509894847869873)\n",
            "ShapiroResult(statistic=0.9871343374252319, pvalue=0.9919547438621521)\n",
            "ShapiroResult(statistic=0.5759974718093872, pvalue=2.8656615540967323e-05)\n"
          ]
        },
        {
          "output_type": "execute_result",
          "data": {
            "text/plain": [
              "KruskalResult(statistic=11.183607021517561, pvalue=0.010773365310213669)"
            ]
          },
          "metadata": {},
          "execution_count": 17
        }
      ]
    },
    {
      "cell_type": "markdown",
      "source": [
        "# 이원 분산 분석"
      ],
      "metadata": {
        "id": "zE_cfuF4TJD7"
      }
    },
    {
      "cell_type": "markdown",
      "source": [
        "가정에서 재배하고 있는 네 가지 토마토 종자(A, B, C, D)에 대해 세 가지 종류의 비료 (11, 12, 13)를 사용하여 재배된 토마토 수를 조사하였다. 종자 및 비료 종류 간의 토마토 수의 차이가 있는지 유의수준 0.05하에서 검정하시오.\n",
        "(단, 정규성, 등분산성에 만족한 데이터)\n",
        "- 종자 (주 효과)\n",
        "    - 귀무가설(H0): 종자 간의 토마토 수에 차이가 없다.\n",
        "    - 대립가설(H1): 적어도 하나의 종자에서 토마토 수에 차이가 있다.\n",
        "- 비료 (주 효과)\n",
        "    - 귀무가설(H0): 비료 종류 간의 토마토 수에 차이가 없다.\n",
        "    - 대립가설(H1): 적어도 하나의 비료 종류에서 토마토 수에 차이가 있다.\n",
        "- 상호작용 효과:\n",
        "    - 귀무가설(H0): 종자와 비료 간의 상호작용은 토마토 수에 영향을 미치지 않는다.\n",
        "    - 대립가설(H1): 종자와 비료 간의 상호작용은 토마토 수에 영향을 미친다.\n"
      ],
      "metadata": {
        "id": "0yQjsmneJJJD"
      }
    },
    {
      "cell_type": "markdown",
      "source": [
        "## 1. 기초"
      ],
      "metadata": {
        "id": "yQIVGQDmTVpV"
      }
    },
    {
      "cell_type": "code",
      "source": [
        "import pandas as pd\n",
        "df = pd.read_csv(\"tomato.csv\")\n",
        "print(df.head())\n",
        "print(df.shape)"
      ],
      "metadata": {
        "id": "d-87C0HTjR9d"
      },
      "execution_count": null,
      "outputs": []
    },
    {
      "cell_type": "markdown",
      "source": [
        "### 이원 분산 분석"
      ],
      "metadata": {
        "id": "RcPQMCRM_3_c"
      }
    },
    {
      "cell_type": "code",
      "source": [
        "# anova 테이블\n"
      ],
      "metadata": {
        "id": "40ToLh4Xe0vA"
      },
      "execution_count": null,
      "outputs": []
    },
    {
      "cell_type": "code",
      "source": [
        "# 범주형 데이터 처리\n"
      ],
      "metadata": {
        "id": "kE4qc4wtkbj9"
      },
      "execution_count": null,
      "outputs": []
    },
    {
      "cell_type": "code",
      "source": [
        "# 일반표기법 format(지수표기법, '.10f')\n"
      ],
      "metadata": {
        "id": "B6lwreZut_JA"
      },
      "execution_count": null,
      "outputs": []
    },
    {
      "cell_type": "code",
      "source": [
        "# formula * 활용\n"
      ],
      "metadata": {
        "id": "zzz8pEIyjky7"
      },
      "execution_count": null,
      "outputs": []
    },
    {
      "cell_type": "markdown",
      "source": [
        "## 2. 심화"
      ],
      "metadata": {
        "id": "FRDwpx-gjurL"
      }
    },
    {
      "cell_type": "markdown",
      "source": [
        "### 사후검정"
      ],
      "metadata": {
        "id": "MA5eE1ceAMAE"
      }
    },
    {
      "cell_type": "code",
      "source": [
        "# 이원 분산 분석 수행\n"
      ],
      "metadata": {
        "id": "-yqUH20Bbh0f"
      },
      "execution_count": null,
      "outputs": []
    },
    {
      "cell_type": "code",
      "source": [
        "\n",
        "# Tukey HSD\n"
      ],
      "metadata": {
        "id": "Yxjjxagsb2Vd"
      },
      "execution_count": null,
      "outputs": []
    },
    {
      "cell_type": "code",
      "source": [
        "# Bonferroni\n"
      ],
      "metadata": {
        "id": "CLYOyOE8b_15"
      },
      "execution_count": null,
      "outputs": []
    },
    {
      "cell_type": "markdown",
      "source": [
        "### [참고] 정규성, 등분산"
      ],
      "metadata": {
        "id": "Ru8y1HEZAWPa"
      }
    },
    {
      "cell_type": "code",
      "source": [
        "from scipy.stats import shapiro\n",
        "\n",
        "cond_tree_A = df['종자'] == 'A'\n",
        "cond_tree_B = df['종자'] == 'B'\n",
        "cond_tree_C = df['종자'] == 'C'\n",
        "cond_tree_D = df['종자'] == 'D'\n",
        "\n",
        "cond_fert_1 = df['비료'] == 11\n",
        "cond_fert_2 = df['비료'] == 12\n",
        "cond_fert_3 = df['비료'] == 13\n",
        "\n",
        "print(shapiro(df[cond_tree_A & cond_fert_1]['토마토수']))\n",
        "print(shapiro(df[cond_tree_A & cond_fert_2]['토마토수']))\n",
        "print(shapiro(df[cond_tree_A & cond_fert_3]['토마토수']))\n",
        "\n",
        "print(shapiro(df[cond_tree_B & cond_fert_1]['토마토수']))\n",
        "print(shapiro(df[cond_tree_B & cond_fert_2]['토마토수']))\n",
        "print(shapiro(df[cond_tree_B & cond_fert_3]['토마토수']))\n",
        "\n",
        "print(shapiro(df[cond_tree_C & cond_fert_1]['토마토수']))\n",
        "print(shapiro(df[cond_tree_C & cond_fert_2]['토마토수']))\n",
        "print(shapiro(df[cond_tree_C & cond_fert_3]['토마토수']))\n",
        "\n",
        "print(shapiro(df[cond_tree_D & cond_fert_1]['토마토수']))\n",
        "print(shapiro(df[cond_tree_D & cond_fert_2]['토마토수']))\n",
        "print(shapiro(df[cond_tree_D & cond_fert_3]['토마토수']))"
      ],
      "metadata": {
        "id": "IguuuWXeQGnI"
      },
      "execution_count": null,
      "outputs": []
    },
    {
      "cell_type": "code",
      "source": [
        "from scipy.stats import levene\n",
        "print(levene(df[cond_tree_A]['토마토수'],\n",
        "             df[cond_tree_B]['토마토수'],\n",
        "             df[cond_tree_C]['토마토수'],\n",
        "             df[cond_tree_D]['토마토수']))\n",
        "print(levene(df[cond_fert_1]['토마토수'],\n",
        "             df[cond_fert_2]['토마토수'],\n",
        "             df[cond_fert_3]['토마토수']))"
      ],
      "metadata": {
        "id": "93pcC80YQZsO"
      },
      "execution_count": null,
      "outputs": []
    }
  ]
}