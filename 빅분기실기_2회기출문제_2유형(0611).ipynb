{
  "nbformat": 4,
  "nbformat_minor": 0,
  "metadata": {
    "colab": {
      "provenance": []
    },
    "kernelspec": {
      "name": "python3",
      "display_name": "Python 3"
    },
    "language_info": {
      "name": "python"
    }
  },
  "cells": [
    {
      "cell_type": "markdown",
      "source": [
        "# 작업형2\n",
        "- 빅데이터 분석기사 2회 실기\n",
        "- 데이터 다운로드 : https://www.kaggle.com/prachi13/customer-analytics\n",
        "- 데이터 파일 명 : Train.csv (파일명이 다를 경우 파일명을 수정해주세요)\n",
        "- (데이터가 삭제될 시 수업노트에 유사 데이터 셋을 올려두겠습니다)\n",
        "\n",
        "\n",
        "## 제품 배송 시간에 맞춰 배송되었는지 예측모델 만들기\n",
        "- 제공된 데이터\n",
        "    - X_train.csv\n",
        "    - y_train.csv\n",
        "    - X_test.csv\n",
        "\n",
        "- 학습용 데이터 (X_train, y_train)을 이용하여 배송 예측 모형을 만든 후, 이를 평가용 데이터(X_test)에 적용하여 얻은 예측(시간에 맞춰 도착하지 않을 확률)값을 다음과 같은 형식의 CSV파일로 생성하시오(제출한 모델의 성능은 ROC-AUC 평가지표에 따라 채점)\n",
        "- 0 정시 도착, 1 정시 도착하지 않음\n",
        "\n",
        "```\n",
        "ID,Reached.on.Time_Y.N\n",
        "3500,0.267\n",
        "3501,0.578\n",
        "3502,0.123\n",
        "\n",
        "```\n",
        "\n",
        "- 출력을 원하실 경우 print() 함수 활용\n",
        "- 예시) print(df.head())\n",
        "- getcwd(), chdir() 등 작업 폴더 설정 불필요\n",
        "- 파일 경로 상 내부 드라이브 경로(C: 등) 접근 불가\n",
        "\n",
        "- 데이터 파일 읽기 예제\n",
        "\n",
        "```\n",
        "# 데이터 불러오기\n",
        "import pandas as pd\n",
        "X_test = pd.read_csv(\"data/X_test.csv\")\n",
        "X_train = pd.read_csv(\"data/X_train.csv\")\n",
        "y_train = pd.read_csv(\"data/y_train.csv\")\n",
        "```\n",
        "\n",
        "- csv파일 생성 예시\n",
        "\n",
        "```\n",
        "pd.DataFrame({'ID': X_test['cust_id'], 'Reached.on.Time_Y.N': pred}).to_csv('003000000.csv', index=False)\n",
        "```\n"
      ],
      "metadata": {
        "id": "yOX8hBk5gKrW"
      }
    },
    {
      "cell_type": "code",
      "source": [
        "# 시험환경 세팅 3개 파일 생성 (코드 변경 X)\n",
        "import pandas as pd\n",
        "import numpy as np\n",
        "from sklearn.model_selection import train_test_split\n",
        "\n",
        "def exam_data_load(df, target, id_name=\"\", null_name=\"\"):\n",
        "    if id_name == \"\":\n",
        "        df = df.reset_index().rename(columns={\"index\": \"id\"})\n",
        "        id_name = 'id'\n",
        "    else:\n",
        "        id_name = id_name\n",
        "\n",
        "    if null_name != \"\":\n",
        "        df[df == null_name] = np.nan\n",
        "\n",
        "    X_train, X_test = train_test_split(df, test_size=0.2, random_state=2022)\n",
        "    y_train = X_train[[id_name, target]]\n",
        "    X_train = X_train.drop(columns=[target])\n",
        "\n",
        "    y_test = X_test[[id_name, target]]\n",
        "    X_test = X_test.drop(columns=[target])\n",
        "    return X_train, X_test, y_train, y_test\n",
        "\n",
        "df = pd.read_csv(\"Train.csv\") # 파일명이 다를 경우 파일명을 수정해주세요\n",
        "X_train, X_test, y_train, y_test = exam_data_load(df, target='Reached.on.Time_Y.N', id_name='ID')\n",
        "X_train.to_csv(\"X_train.csv\", index=False)\n",
        "y_train.to_csv(\"y_train.csv\", index=False)\n",
        "X_test.to_csv(\"X_test.csv\", index=False)"
      ],
      "metadata": {
        "id": "hyw3NhLlgN0f"
      },
      "execution_count": null,
      "outputs": []
    },
    {
      "cell_type": "code",
      "source": [
        "# 데이터 불러오기\n",
        "import pandas as pd\n",
        "X_test = pd.read_csv(\"X_test.csv\")\n",
        "X_train = pd.read_csv(\"X_train.csv\")\n",
        "y_train = pd.read_csv(\"y_train.csv\")\n",
        "\n",
        "print(X_train.shape, y_train.shape, X_test.shape)\n",
        "# (8799, 11) (8799, 2) (2200, 11), y_train 컬럼은 2개\n",
        "\n"
      ],
      "metadata": {
        "id": "hZ0y7BQRXkyK",
        "colab": {
          "base_uri": "https://localhost:8080/"
        },
        "outputId": "aa0ded38-385a-4e65-bdb8-1cfa3aec6567"
      },
      "execution_count": null,
      "outputs": [
        {
          "output_type": "stream",
          "name": "stdout",
          "text": [
            "(8799, 11) (8799, 2) (2200, 11)\n"
          ]
        }
      ]
    },
    {
      "cell_type": "markdown",
      "source": [
        "## EDA"
      ],
      "metadata": {
        "id": "-dVefrwPjPFJ"
      }
    },
    {
      "cell_type": "code",
      "source": [
        "# 데이터 확인(X_train)\n",
        "print(X_train.head()) # 수치 + 범주형 혼합되어 있음을 알 수 있음.\n"
      ],
      "metadata": {
        "id": "PWyD54YKgo2W",
        "colab": {
          "base_uri": "https://localhost:8080/"
        },
        "outputId": "7a65f366-3e31-449e-af72-a1c23de102b3"
      },
      "execution_count": null,
      "outputs": [
        {
          "output_type": "stream",
          "name": "stdout",
          "text": [
            "      ID Warehouse_block Mode_of_Shipment  Customer_care_calls  \\\n",
            "0   8440               B             Ship                    4   \n",
            "1  10849               D             Ship                    3   \n",
            "2   9478               B             Ship                    4   \n",
            "3   2968               B             Ship                    6   \n",
            "4   6964               B             Road                    5   \n",
            "\n",
            "   Customer_rating  Cost_of_the_Product  Prior_purchases Product_importance  \\\n",
            "0                1                  284                4                low   \n",
            "1                2                  201                4             medium   \n",
            "2                4                  181                3             medium   \n",
            "3                2                  236                4                low   \n",
            "4                1                  282                4                low   \n",
            "\n",
            "  Gender  Discount_offered  Weight_in_gms  \n",
            "0      F                 4           4795  \n",
            "1      M                10           5565  \n",
            "2      F                 9           4425  \n",
            "3      F                61           3140  \n",
            "4      F                 9           4766  \n"
          ]
        }
      ]
    },
    {
      "cell_type": "code",
      "source": [
        "# 데이터 확인(y_train)\n",
        "print(y_train.head())\n",
        "# 1은 정시 도착 X, 0은 정시 도착하였음."
      ],
      "metadata": {
        "id": "_ds65WrHhuL0",
        "colab": {
          "base_uri": "https://localhost:8080/"
        },
        "outputId": "77beefb5-0940-4de2-fc35-cb6dd5a0c1fd"
      },
      "execution_count": null,
      "outputs": [
        {
          "output_type": "stream",
          "name": "stdout",
          "text": [
            "      ID  Reached.on.Time_Y.N\n",
            "0   8440                    1\n",
            "1  10849                    0\n",
            "2   9478                    1\n",
            "3   2968                    1\n",
            "4   6964                    0\n"
          ]
        }
      ]
    },
    {
      "cell_type": "code",
      "source": [
        "# 결측치 확인 train\n",
        "print(X_train.isnull().sum())\n",
        "print(y_train.isnull().sum())\n",
        "\n",
        "# X와 Y에 모두 결측치 없음."
      ],
      "metadata": {
        "id": "A1b58WRMhwcv",
        "colab": {
          "base_uri": "https://localhost:8080/"
        },
        "outputId": "8f26723e-c19d-492d-d3d4-c9ec59bfc43a"
      },
      "execution_count": null,
      "outputs": [
        {
          "output_type": "stream",
          "name": "stdout",
          "text": [
            "ID                     0\n",
            "Warehouse_block        0\n",
            "Mode_of_Shipment       0\n",
            "Customer_care_calls    0\n",
            "Customer_rating        0\n",
            "Cost_of_the_Product    0\n",
            "Prior_purchases        0\n",
            "Product_importance     0\n",
            "Gender                 0\n",
            "Discount_offered       0\n",
            "Weight_in_gms          0\n",
            "dtype: int64\n",
            "ID                     0\n",
            "Reached.on.Time_Y.N    0\n",
            "dtype: int64\n"
          ]
        }
      ]
    },
    {
      "cell_type": "code",
      "source": [
        "# 결측치 확인 test\n",
        "print(X_test.isnull().sum())\n",
        "# X-test 결측치 없음."
      ],
      "metadata": {
        "id": "AqBK3RjVjdML",
        "colab": {
          "base_uri": "https://localhost:8080/"
        },
        "outputId": "91be5c7d-b53f-444e-ee03-39c32d1ed7be"
      },
      "execution_count": null,
      "outputs": [
        {
          "output_type": "stream",
          "name": "stdout",
          "text": [
            "ID                     0\n",
            "Warehouse_block        0\n",
            "Mode_of_Shipment       0\n",
            "Customer_care_calls    0\n",
            "Customer_rating        0\n",
            "Cost_of_the_Product    0\n",
            "Prior_purchases        0\n",
            "Product_importance     0\n",
            "Gender                 0\n",
            "Discount_offered       0\n",
            "Weight_in_gms          0\n",
            "dtype: int64\n"
          ]
        }
      ]
    },
    {
      "cell_type": "code",
      "source": [
        "# 타겟(레이블) 확인 0 정시 도착, 1 정시 도착하지 않음\n",
        "print(y_train['Reached.on.Time_Y.N'].value_counts())"
      ],
      "metadata": {
        "id": "2kppEcMPjVAE",
        "colab": {
          "base_uri": "https://localhost:8080/"
        },
        "outputId": "fed21142-02e0-460a-cae3-7308d95e1d07"
      },
      "execution_count": null,
      "outputs": [
        {
          "output_type": "stream",
          "name": "stdout",
          "text": [
            "Reached.on.Time_Y.N\n",
            "1    5236\n",
            "0    3563\n",
            "Name: count, dtype: int64\n"
          ]
        }
      ]
    },
    {
      "cell_type": "code",
      "source": [
        "# 데이터 타입 확인\n",
        "print(X_train.info())"
      ],
      "metadata": {
        "id": "f_NXrYdojgAa",
        "colab": {
          "base_uri": "https://localhost:8080/"
        },
        "outputId": "f06c2c5a-0dfa-4f88-95bd-69e3aeeaf52b"
      },
      "execution_count": null,
      "outputs": [
        {
          "output_type": "stream",
          "name": "stdout",
          "text": [
            "<class 'pandas.core.frame.DataFrame'>\n",
            "RangeIndex: 8799 entries, 0 to 8798\n",
            "Data columns (total 11 columns):\n",
            " #   Column               Non-Null Count  Dtype \n",
            "---  ------               --------------  ----- \n",
            " 0   ID                   8799 non-null   int64 \n",
            " 1   Warehouse_block      8799 non-null   object\n",
            " 2   Mode_of_Shipment     8799 non-null   object\n",
            " 3   Customer_care_calls  8799 non-null   int64 \n",
            " 4   Customer_rating      8799 non-null   int64 \n",
            " 5   Cost_of_the_Product  8799 non-null   int64 \n",
            " 6   Prior_purchases      8799 non-null   int64 \n",
            " 7   Product_importance   8799 non-null   object\n",
            " 8   Gender               8799 non-null   object\n",
            " 9   Discount_offered     8799 non-null   int64 \n",
            " 10  Weight_in_gms        8799 non-null   int64 \n",
            "dtypes: int64(7), object(4)\n",
            "memory usage: 756.3+ KB\n",
            "None\n"
          ]
        }
      ]
    },
    {
      "cell_type": "code",
      "source": [
        "# 기초 통계 획인\n",
        "print(X_train.describe())"
      ],
      "metadata": {
        "id": "CJXwbNUnjkFN",
        "colab": {
          "base_uri": "https://localhost:8080/"
        },
        "outputId": "7fffec43-4b4a-407a-ff6c-0e41a96c11bb"
      },
      "execution_count": null,
      "outputs": [
        {
          "output_type": "stream",
          "name": "stdout",
          "text": [
            "                 ID  Customer_care_calls  Customer_rating  \\\n",
            "count   8799.000000          8799.000000      8799.000000   \n",
            "mean    5514.696556             4.051369         2.991817   \n",
            "std     3175.107399             1.141739         1.411938   \n",
            "min        1.000000             2.000000         1.000000   \n",
            "25%     2749.500000             3.000000         2.000000   \n",
            "50%     5519.000000             4.000000         3.000000   \n",
            "75%     8253.000000             5.000000         4.000000   \n",
            "max    10999.000000             7.000000         5.000000   \n",
            "\n",
            "       Cost_of_the_Product  Prior_purchases  Discount_offered  Weight_in_gms  \n",
            "count          8799.000000      8799.000000       8799.000000    8799.000000  \n",
            "mean            209.800318         3.561882         13.293215    3633.145130  \n",
            "std              48.186779         1.518472         16.112977    1637.717073  \n",
            "min              96.000000         2.000000          1.000000    1001.000000  \n",
            "25%             169.000000         3.000000          4.000000    1837.000000  \n",
            "50%             213.000000         3.000000          7.000000    4152.000000  \n",
            "75%             250.000000         4.000000         10.000000    5055.000000  \n",
            "max             310.000000        10.000000         65.000000    7846.000000  \n"
          ]
        }
      ]
    },
    {
      "cell_type": "code",
      "source": [
        "# 기초 통계 획인 object\n",
        "print(X_train.describe(include = 'object'))\n",
        "cols = X_train.select_dtypes(include='object').columns\n",
        "print(X_train[cols].nunique())"
      ],
      "metadata": {
        "id": "MHCAKNAEjqGq",
        "colab": {
          "base_uri": "https://localhost:8080/"
        },
        "outputId": "25364699-aba6-4b85-967c-49f9371f01ea"
      },
      "execution_count": null,
      "outputs": [
        {
          "output_type": "stream",
          "name": "stdout",
          "text": [
            "       Warehouse_block Mode_of_Shipment Product_importance Gender\n",
            "count             8799             8799               8799   8799\n",
            "unique               5                3                  3      2\n",
            "top                  F             Ship                low      F\n",
            "freq              2929             5972               4225   4450\n",
            "Warehouse_block       5\n",
            "Mode_of_Shipment      3\n",
            "Product_importance    3\n",
            "Gender                2\n",
            "dtype: int64\n"
          ]
        }
      ]
    },
    {
      "cell_type": "code",
      "source": [
        "# 기초 통계 획인 object\n",
        "print(X_test.describe(include = 'object'))"
      ],
      "metadata": {
        "id": "kcFQ7RAuji01",
        "colab": {
          "base_uri": "https://localhost:8080/"
        },
        "outputId": "9a609209-093a-4251-95f2-5610e377ef43"
      },
      "execution_count": null,
      "outputs": [
        {
          "output_type": "stream",
          "name": "stdout",
          "text": [
            "       Warehouse_block Mode_of_Shipment Product_importance Gender\n",
            "count             2200             2200               2200   2200\n",
            "unique               5                3                  3      2\n",
            "top                  F             Ship                low      M\n",
            "freq               737             1490               1072   1105\n"
          ]
        }
      ]
    },
    {
      "cell_type": "code",
      "source": [
        "# [Tip] object 타입 고유값 개수 확인\n",
        "print(X_test[cols].nunique())"
      ],
      "metadata": {
        "id": "L5uphwRaj078",
        "colab": {
          "base_uri": "https://localhost:8080/"
        },
        "outputId": "4a4c21cb-8029-42c1-b751-ace51e73c1a3"
      },
      "execution_count": null,
      "outputs": [
        {
          "output_type": "stream",
          "name": "stdout",
          "text": [
            "Warehouse_block       5\n",
            "Mode_of_Shipment      3\n",
            "Product_importance    3\n",
            "Gender                2\n",
            "dtype: int64\n"
          ]
        }
      ]
    },
    {
      "cell_type": "code",
      "source": [
        "# X데이터와 y데이터 합치기\n",
        "df = pd.concat([X_train, y_train['Reached.on.Time_Y.N']], axis = 1)\n",
        "print(df)\n",
        "\n",
        "# df에 가장 마지막 target값이 합쳐짐."
      ],
      "metadata": {
        "id": "PMWd4_XhqOeY",
        "colab": {
          "base_uri": "https://localhost:8080/"
        },
        "outputId": "68fb368d-6b4e-4cfc-eba2-57df9cc70a51"
      },
      "execution_count": null,
      "outputs": [
        {
          "output_type": "stream",
          "name": "stdout",
          "text": [
            "         ID Warehouse_block Mode_of_Shipment  Customer_care_calls  \\\n",
            "0      8440               B             Ship                    4   \n",
            "1     10849               D             Ship                    3   \n",
            "2      9478               B             Ship                    4   \n",
            "3      2968               B             Ship                    6   \n",
            "4      6964               B             Road                    5   \n",
            "...     ...             ...              ...                  ...   \n",
            "8794   6385               D             Ship                    3   \n",
            "8795   4721               C             Ship                    4   \n",
            "8796    174               F             Ship                    3   \n",
            "8797   1245               A           Flight                    4   \n",
            "8798   4990               B             Ship                    2   \n",
            "\n",
            "      Customer_rating  Cost_of_the_Product  Prior_purchases  \\\n",
            "0                   1                  284                4   \n",
            "1                   2                  201                4   \n",
            "2                   4                  181                3   \n",
            "3                   2                  236                4   \n",
            "4                   1                  282                4   \n",
            "...               ...                  ...              ...   \n",
            "8794                1                  166                2   \n",
            "8795                2                  152                2   \n",
            "8796                2                  270                3   \n",
            "8797                2                  136                2   \n",
            "8798                4                  151                4   \n",
            "\n",
            "     Product_importance Gender  Discount_offered  Weight_in_gms  \\\n",
            "0                   low      F                 4           4795   \n",
            "1                medium      M                10           5565   \n",
            "2                medium      F                 9           4425   \n",
            "3                   low      F                61           3140   \n",
            "4                   low      F                 9           4766   \n",
            "...                 ...    ...               ...            ...   \n",
            "8794               high      F                 6           5905   \n",
            "8795                low      M                 7           5026   \n",
            "8796                low      F                63           2751   \n",
            "8797             medium      F                17           1285   \n",
            "8798                low      F                 2           1150   \n",
            "\n",
            "      Reached.on.Time_Y.N  \n",
            "0                       1  \n",
            "1                       0  \n",
            "2                       1  \n",
            "3                       1  \n",
            "4                       0  \n",
            "...                   ...  \n",
            "8794                    1  \n",
            "8795                    0  \n",
            "8796                    1  \n",
            "8797                    1  \n",
            "8798                    0  \n",
            "\n",
            "[8799 rows x 12 columns]\n"
          ]
        }
      ]
    },
    {
      "cell_type": "code",
      "source": [
        "# idea? 할인율이 도착에 영향을 미칠까?\n",
        "cond = df['Discount_offered'] >10\n",
        "sum(cond) #2104"
      ],
      "metadata": {
        "id": "2Htd0C72qOh8",
        "colab": {
          "base_uri": "https://localhost:8080/"
        },
        "outputId": "1e2d30df-f0fd-40ef-9687-fc7162b6906a"
      },
      "execution_count": null,
      "outputs": [
        {
          "output_type": "execute_result",
          "data": {
            "text/plain": [
              "2104"
            ]
          },
          "metadata": {},
          "execution_count": 175
        }
      ]
    },
    {
      "cell_type": "code",
      "source": [
        "sum(df[cond]['Reached.on.Time_Y.N']) #2104\n",
        "# 따라서 할인율이 10% 이상인 경우는 모두 제시간에 도착하지 않았음을 알 수 있음.\n",
        "# 할인율이 높을 수록 배송이 지연될 확률이 오를 수 있다."
      ],
      "metadata": {
        "id": "RuhDVAK6qzJ4",
        "colab": {
          "base_uri": "https://localhost:8080/"
        },
        "outputId": "d3903312-d81d-4c55-d967-3fa87303e04a"
      },
      "execution_count": null,
      "outputs": [
        {
          "output_type": "execute_result",
          "data": {
            "text/plain": [
              "2104"
            ]
          },
          "metadata": {},
          "execution_count": 176
        }
      ]
    },
    {
      "cell_type": "markdown",
      "source": [
        "\n",
        "## 데이터 전처리 및 피처엔지니어링"
      ],
      "metadata": {
        "id": "KnNu9bH3kJfD"
      }
    },
    {
      "cell_type": "code",
      "source": [
        "# 라벨 인코딩\n",
        "from sklearn.preprocessing import LabelEncoder\n",
        "cols = X_train.select_dtypes(include = 'object').columns\n",
        "\n",
        "for col in cols:\n",
        "  le = LabelEncoder()\n",
        "  X_train[col] = le.fit_transform(X_train[col])\n",
        "  X_test[col] = le.transform(X_test[col])\n",
        "\n",
        "print(X_train.head(5))"
      ],
      "metadata": {
        "id": "JAglZ4dipalH",
        "colab": {
          "base_uri": "https://localhost:8080/"
        },
        "outputId": "1fdd216a-5213-491a-f1b7-8f8691109c8a"
      },
      "execution_count": null,
      "outputs": [
        {
          "output_type": "stream",
          "name": "stdout",
          "text": [
            "      ID  Warehouse_block  Mode_of_Shipment  Customer_care_calls  \\\n",
            "0   8440                1                 2                    4   \n",
            "1  10849                3                 2                    3   \n",
            "2   9478                1                 2                    4   \n",
            "3   2968                1                 2                    6   \n",
            "4   6964                1                 1                    5   \n",
            "\n",
            "   Customer_rating  Cost_of_the_Product  Prior_purchases  Product_importance  \\\n",
            "0                1                  284                4                   1   \n",
            "1                2                  201                4                   2   \n",
            "2                4                  181                3                   2   \n",
            "3                2                  236                4                   1   \n",
            "4                1                  282                4                   1   \n",
            "\n",
            "   Gender  Discount_offered  Weight_in_gms  \n",
            "0       0                 4           4795  \n",
            "1       1                10           5565  \n",
            "2       0                 9           4425  \n",
            "3       0                61           3140  \n",
            "4       0                 9           4766  \n"
          ]
        }
      ]
    },
    {
      "cell_type": "code",
      "source": [
        "# trainID 삭제, testID 값만 옮겨둠\n",
        "X_train_id = X_train.pop('ID')\n",
        "X_test_id = X_test.pop('ID')\n",
        "X_test.head()"
      ],
      "metadata": {
        "id": "Q5n67S9isN2r",
        "colab": {
          "base_uri": "https://localhost:8080/",
          "height": 226
        },
        "outputId": "aa210155-1a66-4e9d-ef8e-171df011eba6"
      },
      "execution_count": null,
      "outputs": [
        {
          "output_type": "execute_result",
          "data": {
            "text/plain": [
              "   Warehouse_block  Mode_of_Shipment  Customer_care_calls  Customer_rating  \\\n",
              "0                2                 2                    6                5   \n",
              "1                1                 2                    7                3   \n",
              "2                2                 2                    4                5   \n",
              "3                2                 0                    4                4   \n",
              "4                1                 2                    3                4   \n",
              "\n",
              "   Cost_of_the_Product  Prior_purchases  Product_importance  Gender  \\\n",
              "0                  229                8                   2       0   \n",
              "1                  306                4                   1       0   \n",
              "2                  148                3                   2       0   \n",
              "3                  236                3                   1       1   \n",
              "4                  194                3                   2       1   \n",
              "\n",
              "   Discount_offered  Weight_in_gms  \n",
              "0                 2           4271  \n",
              "1                 4           1630  \n",
              "2                 5           5216  \n",
              "3                10           4347  \n",
              "4                 3           2169  "
            ],
            "text/html": [
              "\n",
              "  <div id=\"df-2a9faf92-786f-4872-84d5-6ead77f74214\" class=\"colab-df-container\">\n",
              "    <div>\n",
              "<style scoped>\n",
              "    .dataframe tbody tr th:only-of-type {\n",
              "        vertical-align: middle;\n",
              "    }\n",
              "\n",
              "    .dataframe tbody tr th {\n",
              "        vertical-align: top;\n",
              "    }\n",
              "\n",
              "    .dataframe thead th {\n",
              "        text-align: right;\n",
              "    }\n",
              "</style>\n",
              "<table border=\"1\" class=\"dataframe\">\n",
              "  <thead>\n",
              "    <tr style=\"text-align: right;\">\n",
              "      <th></th>\n",
              "      <th>Warehouse_block</th>\n",
              "      <th>Mode_of_Shipment</th>\n",
              "      <th>Customer_care_calls</th>\n",
              "      <th>Customer_rating</th>\n",
              "      <th>Cost_of_the_Product</th>\n",
              "      <th>Prior_purchases</th>\n",
              "      <th>Product_importance</th>\n",
              "      <th>Gender</th>\n",
              "      <th>Discount_offered</th>\n",
              "      <th>Weight_in_gms</th>\n",
              "    </tr>\n",
              "  </thead>\n",
              "  <tbody>\n",
              "    <tr>\n",
              "      <th>0</th>\n",
              "      <td>2</td>\n",
              "      <td>2</td>\n",
              "      <td>6</td>\n",
              "      <td>5</td>\n",
              "      <td>229</td>\n",
              "      <td>8</td>\n",
              "      <td>2</td>\n",
              "      <td>0</td>\n",
              "      <td>2</td>\n",
              "      <td>4271</td>\n",
              "    </tr>\n",
              "    <tr>\n",
              "      <th>1</th>\n",
              "      <td>1</td>\n",
              "      <td>2</td>\n",
              "      <td>7</td>\n",
              "      <td>3</td>\n",
              "      <td>306</td>\n",
              "      <td>4</td>\n",
              "      <td>1</td>\n",
              "      <td>0</td>\n",
              "      <td>4</td>\n",
              "      <td>1630</td>\n",
              "    </tr>\n",
              "    <tr>\n",
              "      <th>2</th>\n",
              "      <td>2</td>\n",
              "      <td>2</td>\n",
              "      <td>4</td>\n",
              "      <td>5</td>\n",
              "      <td>148</td>\n",
              "      <td>3</td>\n",
              "      <td>2</td>\n",
              "      <td>0</td>\n",
              "      <td>5</td>\n",
              "      <td>5216</td>\n",
              "    </tr>\n",
              "    <tr>\n",
              "      <th>3</th>\n",
              "      <td>2</td>\n",
              "      <td>0</td>\n",
              "      <td>4</td>\n",
              "      <td>4</td>\n",
              "      <td>236</td>\n",
              "      <td>3</td>\n",
              "      <td>1</td>\n",
              "      <td>1</td>\n",
              "      <td>10</td>\n",
              "      <td>4347</td>\n",
              "    </tr>\n",
              "    <tr>\n",
              "      <th>4</th>\n",
              "      <td>1</td>\n",
              "      <td>2</td>\n",
              "      <td>3</td>\n",
              "      <td>4</td>\n",
              "      <td>194</td>\n",
              "      <td>3</td>\n",
              "      <td>2</td>\n",
              "      <td>1</td>\n",
              "      <td>3</td>\n",
              "      <td>2169</td>\n",
              "    </tr>\n",
              "  </tbody>\n",
              "</table>\n",
              "</div>\n",
              "    <div class=\"colab-df-buttons\">\n",
              "\n",
              "  <div class=\"colab-df-container\">\n",
              "    <button class=\"colab-df-convert\" onclick=\"convertToInteractive('df-2a9faf92-786f-4872-84d5-6ead77f74214')\"\n",
              "            title=\"Convert this dataframe to an interactive table.\"\n",
              "            style=\"display:none;\">\n",
              "\n",
              "  <svg xmlns=\"http://www.w3.org/2000/svg\" height=\"24px\" viewBox=\"0 -960 960 960\">\n",
              "    <path d=\"M120-120v-720h720v720H120Zm60-500h600v-160H180v160Zm220 220h160v-160H400v160Zm0 220h160v-160H400v160ZM180-400h160v-160H180v160Zm440 0h160v-160H620v160ZM180-180h160v-160H180v160Zm440 0h160v-160H620v160Z\"/>\n",
              "  </svg>\n",
              "    </button>\n",
              "\n",
              "  <style>\n",
              "    .colab-df-container {\n",
              "      display:flex;\n",
              "      gap: 12px;\n",
              "    }\n",
              "\n",
              "    .colab-df-convert {\n",
              "      background-color: #E8F0FE;\n",
              "      border: none;\n",
              "      border-radius: 50%;\n",
              "      cursor: pointer;\n",
              "      display: none;\n",
              "      fill: #1967D2;\n",
              "      height: 32px;\n",
              "      padding: 0 0 0 0;\n",
              "      width: 32px;\n",
              "    }\n",
              "\n",
              "    .colab-df-convert:hover {\n",
              "      background-color: #E2EBFA;\n",
              "      box-shadow: 0px 1px 2px rgba(60, 64, 67, 0.3), 0px 1px 3px 1px rgba(60, 64, 67, 0.15);\n",
              "      fill: #174EA6;\n",
              "    }\n",
              "\n",
              "    .colab-df-buttons div {\n",
              "      margin-bottom: 4px;\n",
              "    }\n",
              "\n",
              "    [theme=dark] .colab-df-convert {\n",
              "      background-color: #3B4455;\n",
              "      fill: #D2E3FC;\n",
              "    }\n",
              "\n",
              "    [theme=dark] .colab-df-convert:hover {\n",
              "      background-color: #434B5C;\n",
              "      box-shadow: 0px 1px 3px 1px rgba(0, 0, 0, 0.15);\n",
              "      filter: drop-shadow(0px 1px 2px rgba(0, 0, 0, 0.3));\n",
              "      fill: #FFFFFF;\n",
              "    }\n",
              "  </style>\n",
              "\n",
              "    <script>\n",
              "      const buttonEl =\n",
              "        document.querySelector('#df-2a9faf92-786f-4872-84d5-6ead77f74214 button.colab-df-convert');\n",
              "      buttonEl.style.display =\n",
              "        google.colab.kernel.accessAllowed ? 'block' : 'none';\n",
              "\n",
              "      async function convertToInteractive(key) {\n",
              "        const element = document.querySelector('#df-2a9faf92-786f-4872-84d5-6ead77f74214');\n",
              "        const dataTable =\n",
              "          await google.colab.kernel.invokeFunction('convertToInteractive',\n",
              "                                                    [key], {});\n",
              "        if (!dataTable) return;\n",
              "\n",
              "        const docLinkHtml = 'Like what you see? Visit the ' +\n",
              "          '<a target=\"_blank\" href=https://colab.research.google.com/notebooks/data_table.ipynb>data table notebook</a>'\n",
              "          + ' to learn more about interactive tables.';\n",
              "        element.innerHTML = '';\n",
              "        dataTable['output_type'] = 'display_data';\n",
              "        await google.colab.output.renderOutput(dataTable, element);\n",
              "        const docLink = document.createElement('div');\n",
              "        docLink.innerHTML = docLinkHtml;\n",
              "        element.appendChild(docLink);\n",
              "      }\n",
              "    </script>\n",
              "  </div>\n",
              "\n",
              "\n",
              "<div id=\"df-94450c5e-cf9f-463d-97ff-5dc19fe7072c\">\n",
              "  <button class=\"colab-df-quickchart\" onclick=\"quickchart('df-94450c5e-cf9f-463d-97ff-5dc19fe7072c')\"\n",
              "            title=\"Suggest charts\"\n",
              "            style=\"display:none;\">\n",
              "\n",
              "<svg xmlns=\"http://www.w3.org/2000/svg\" height=\"24px\"viewBox=\"0 0 24 24\"\n",
              "     width=\"24px\">\n",
              "    <g>\n",
              "        <path d=\"M19 3H5c-1.1 0-2 .9-2 2v14c0 1.1.9 2 2 2h14c1.1 0 2-.9 2-2V5c0-1.1-.9-2-2-2zM9 17H7v-7h2v7zm4 0h-2V7h2v10zm4 0h-2v-4h2v4z\"/>\n",
              "    </g>\n",
              "</svg>\n",
              "  </button>\n",
              "\n",
              "<style>\n",
              "  .colab-df-quickchart {\n",
              "      --bg-color: #E8F0FE;\n",
              "      --fill-color: #1967D2;\n",
              "      --hover-bg-color: #E2EBFA;\n",
              "      --hover-fill-color: #174EA6;\n",
              "      --disabled-fill-color: #AAA;\n",
              "      --disabled-bg-color: #DDD;\n",
              "  }\n",
              "\n",
              "  [theme=dark] .colab-df-quickchart {\n",
              "      --bg-color: #3B4455;\n",
              "      --fill-color: #D2E3FC;\n",
              "      --hover-bg-color: #434B5C;\n",
              "      --hover-fill-color: #FFFFFF;\n",
              "      --disabled-bg-color: #3B4455;\n",
              "      --disabled-fill-color: #666;\n",
              "  }\n",
              "\n",
              "  .colab-df-quickchart {\n",
              "    background-color: var(--bg-color);\n",
              "    border: none;\n",
              "    border-radius: 50%;\n",
              "    cursor: pointer;\n",
              "    display: none;\n",
              "    fill: var(--fill-color);\n",
              "    height: 32px;\n",
              "    padding: 0;\n",
              "    width: 32px;\n",
              "  }\n",
              "\n",
              "  .colab-df-quickchart:hover {\n",
              "    background-color: var(--hover-bg-color);\n",
              "    box-shadow: 0 1px 2px rgba(60, 64, 67, 0.3), 0 1px 3px 1px rgba(60, 64, 67, 0.15);\n",
              "    fill: var(--button-hover-fill-color);\n",
              "  }\n",
              "\n",
              "  .colab-df-quickchart-complete:disabled,\n",
              "  .colab-df-quickchart-complete:disabled:hover {\n",
              "    background-color: var(--disabled-bg-color);\n",
              "    fill: var(--disabled-fill-color);\n",
              "    box-shadow: none;\n",
              "  }\n",
              "\n",
              "  .colab-df-spinner {\n",
              "    border: 2px solid var(--fill-color);\n",
              "    border-color: transparent;\n",
              "    border-bottom-color: var(--fill-color);\n",
              "    animation:\n",
              "      spin 1s steps(1) infinite;\n",
              "  }\n",
              "\n",
              "  @keyframes spin {\n",
              "    0% {\n",
              "      border-color: transparent;\n",
              "      border-bottom-color: var(--fill-color);\n",
              "      border-left-color: var(--fill-color);\n",
              "    }\n",
              "    20% {\n",
              "      border-color: transparent;\n",
              "      border-left-color: var(--fill-color);\n",
              "      border-top-color: var(--fill-color);\n",
              "    }\n",
              "    30% {\n",
              "      border-color: transparent;\n",
              "      border-left-color: var(--fill-color);\n",
              "      border-top-color: var(--fill-color);\n",
              "      border-right-color: var(--fill-color);\n",
              "    }\n",
              "    40% {\n",
              "      border-color: transparent;\n",
              "      border-right-color: var(--fill-color);\n",
              "      border-top-color: var(--fill-color);\n",
              "    }\n",
              "    60% {\n",
              "      border-color: transparent;\n",
              "      border-right-color: var(--fill-color);\n",
              "    }\n",
              "    80% {\n",
              "      border-color: transparent;\n",
              "      border-right-color: var(--fill-color);\n",
              "      border-bottom-color: var(--fill-color);\n",
              "    }\n",
              "    90% {\n",
              "      border-color: transparent;\n",
              "      border-bottom-color: var(--fill-color);\n",
              "    }\n",
              "  }\n",
              "</style>\n",
              "\n",
              "  <script>\n",
              "    async function quickchart(key) {\n",
              "      const quickchartButtonEl =\n",
              "        document.querySelector('#' + key + ' button');\n",
              "      quickchartButtonEl.disabled = true;  // To prevent multiple clicks.\n",
              "      quickchartButtonEl.classList.add('colab-df-spinner');\n",
              "      try {\n",
              "        const charts = await google.colab.kernel.invokeFunction(\n",
              "            'suggestCharts', [key], {});\n",
              "      } catch (error) {\n",
              "        console.error('Error during call to suggestCharts:', error);\n",
              "      }\n",
              "      quickchartButtonEl.classList.remove('colab-df-spinner');\n",
              "      quickchartButtonEl.classList.add('colab-df-quickchart-complete');\n",
              "    }\n",
              "    (() => {\n",
              "      let quickchartButtonEl =\n",
              "        document.querySelector('#df-94450c5e-cf9f-463d-97ff-5dc19fe7072c button');\n",
              "      quickchartButtonEl.style.display =\n",
              "        google.colab.kernel.accessAllowed ? 'block' : 'none';\n",
              "    })();\n",
              "  </script>\n",
              "</div>\n",
              "\n",
              "    </div>\n",
              "  </div>\n"
            ],
            "application/vnd.google.colaboratory.intrinsic+json": {
              "type": "dataframe",
              "variable_name": "X_test",
              "summary": "{\n  \"name\": \"X_test\",\n  \"rows\": 2200,\n  \"fields\": [\n    {\n      \"column\": \"Warehouse_block\",\n      \"properties\": {\n        \"dtype\": \"number\",\n        \"std\": 1,\n        \"min\": 0,\n        \"max\": 4,\n        \"num_unique_values\": 5,\n        \"samples\": [\n          1,\n          0,\n          3\n        ],\n        \"semantic_type\": \"\",\n        \"description\": \"\"\n      }\n    },\n    {\n      \"column\": \"Mode_of_Shipment\",\n      \"properties\": {\n        \"dtype\": \"number\",\n        \"std\": 0,\n        \"min\": 0,\n        \"max\": 2,\n        \"num_unique_values\": 3,\n        \"samples\": [\n          2,\n          0,\n          1\n        ],\n        \"semantic_type\": \"\",\n        \"description\": \"\"\n      }\n    },\n    {\n      \"column\": \"Customer_care_calls\",\n      \"properties\": {\n        \"dtype\": \"number\",\n        \"std\": 1,\n        \"min\": 2,\n        \"max\": 7,\n        \"num_unique_values\": 6,\n        \"samples\": [\n          6,\n          7,\n          2\n        ],\n        \"semantic_type\": \"\",\n        \"description\": \"\"\n      }\n    },\n    {\n      \"column\": \"Customer_rating\",\n      \"properties\": {\n        \"dtype\": \"number\",\n        \"std\": 1,\n        \"min\": 1,\n        \"max\": 5,\n        \"num_unique_values\": 5,\n        \"samples\": [\n          3,\n          2,\n          4\n        ],\n        \"semantic_type\": \"\",\n        \"description\": \"\"\n      }\n    },\n    {\n      \"column\": \"Cost_of_the_Product\",\n      \"properties\": {\n        \"dtype\": \"number\",\n        \"std\": 47,\n        \"min\": 96,\n        \"max\": 310,\n        \"num_unique_values\": 206,\n        \"samples\": [\n          222,\n          273,\n          294\n        ],\n        \"semantic_type\": \"\",\n        \"description\": \"\"\n      }\n    },\n    {\n      \"column\": \"Prior_purchases\",\n      \"properties\": {\n        \"dtype\": \"number\",\n        \"std\": 1,\n        \"min\": 2,\n        \"max\": 10,\n        \"num_unique_values\": 8,\n        \"samples\": [\n          4,\n          7,\n          8\n        ],\n        \"semantic_type\": \"\",\n        \"description\": \"\"\n      }\n    },\n    {\n      \"column\": \"Product_importance\",\n      \"properties\": {\n        \"dtype\": \"number\",\n        \"std\": 0,\n        \"min\": 0,\n        \"max\": 2,\n        \"num_unique_values\": 3,\n        \"samples\": [\n          2,\n          1,\n          0\n        ],\n        \"semantic_type\": \"\",\n        \"description\": \"\"\n      }\n    },\n    {\n      \"column\": \"Gender\",\n      \"properties\": {\n        \"dtype\": \"number\",\n        \"std\": 0,\n        \"min\": 0,\n        \"max\": 1,\n        \"num_unique_values\": 2,\n        \"samples\": [\n          1,\n          0\n        ],\n        \"semantic_type\": \"\",\n        \"description\": \"\"\n      }\n    },\n    {\n      \"column\": \"Discount_offered\",\n      \"properties\": {\n        \"dtype\": \"number\",\n        \"std\": 16,\n        \"min\": 1,\n        \"max\": 65,\n        \"num_unique_values\": 65,\n        \"samples\": [\n          57,\n          43\n        ],\n        \"semantic_type\": \"\",\n        \"description\": \"\"\n      }\n    },\n    {\n      \"column\": \"Weight_in_gms\",\n      \"properties\": {\n        \"dtype\": \"number\",\n        \"std\": 1626,\n        \"min\": 1005,\n        \"max\": 7588,\n        \"num_unique_values\": 1741,\n        \"samples\": [\n          1948,\n          4597\n        ],\n        \"semantic_type\": \"\",\n        \"description\": \"\"\n      }\n    }\n  ]\n}"
            }
          },
          "metadata": {},
          "execution_count": 178
        }
      ]
    },
    {
      "cell_type": "markdown",
      "source": [
        "## 모델 및 평가"
      ],
      "metadata": {
        "id": "5qWDuz3CsL24"
      }
    },
    {
      "cell_type": "code",
      "source": [
        "# 라이브러리 불러오기\n",
        "from sklearn.linear_model import LogisticRegression\n",
        "from sklearn.tree import DecisionTreeClassifier\n",
        "from sklearn.ensemble import RandomForestClassifier\n",
        "from xgboost import XGBClassifier\n",
        "from sklearn.metrics import roc_auc_score"
      ],
      "metadata": {
        "id": "AHu9_mappmAR"
      },
      "execution_count": null,
      "outputs": []
    },
    {
      "cell_type": "code",
      "source": [
        "# 검증 데이터 분리\n",
        "from sklearn.model_selection import train_test_split\n",
        "X_tr, X_val, y_tr, y_val = train_test_split(\n",
        "    X_train, y_train['Reached.on.Time_Y.N'], test_size = 0.2, random_state = 2022)\n",
        "    # 순서는 X 검증 데이터 / Y의 타겟 데이터 (이 문제의 경우는 제대로 도착했는지의 여부 )\n",
        "print(X_tr.shape, X_val.shape, y_tr.shape, y_val.shape)"
      ],
      "metadata": {
        "id": "TVwkW7ieshgh",
        "colab": {
          "base_uri": "https://localhost:8080/"
        },
        "outputId": "3f3c6d8d-7033-41cd-fc5a-8b06dc4b3221"
      },
      "execution_count": null,
      "outputs": [
        {
          "output_type": "stream",
          "name": "stdout",
          "text": [
            "(7039, 10) (1760, 10) (7039,) (1760,)\n"
          ]
        }
      ]
    },
    {
      "cell_type": "code",
      "source": [
        "# 로지스틱 회귀\n",
        "model = LogisticRegression(random_state = 2022)\n",
        "model.fit(X_tr, y_tr)\n",
        "pred = model.predict_proba(X_val)\n",
        "print(roc_auc_score(y_val, pred[:,1]))"
      ],
      "metadata": {
        "id": "LKr8enMmshix",
        "colab": {
          "base_uri": "https://localhost:8080/"
        },
        "outputId": "aeb1d1b0-3653-4ef3-84d8-8a3f619bda61"
      },
      "execution_count": null,
      "outputs": [
        {
          "output_type": "stream",
          "name": "stdout",
          "text": [
            "0.7297546090137466\n"
          ]
        }
      ]
    },
    {
      "cell_type": "code",
      "source": [
        "# 의사결정나무\n",
        "model = DecisionTreeClassifier(random_state = 2022)\n",
        "model.fit(X_tr, y_tr)\n",
        "pred = model.predict_proba(X_val)\n",
        "print(roc_auc_score(y_val, pred[:,1]))"
      ],
      "metadata": {
        "id": "57TlpkCCtxzf",
        "colab": {
          "base_uri": "https://localhost:8080/"
        },
        "outputId": "39715232-1475-4ab0-f065-9b5307b30b34"
      },
      "execution_count": null,
      "outputs": [
        {
          "output_type": "stream",
          "name": "stdout",
          "text": [
            "0.6384948675914754\n"
          ]
        }
      ]
    },
    {
      "cell_type": "code",
      "source": [
        "# 랜덤포레스트\n",
        "model = RandomForestClassifier()\n",
        "model.fit(X_tr, y_tr)\n",
        "pred = model.predict_proba(X_val)\n",
        "print(roc_auc_score(y_val, pred[:,1])) # 0.7598710184253666"
      ],
      "metadata": {
        "id": "ltqmZffYt0KN",
        "colab": {
          "base_uri": "https://localhost:8080/"
        },
        "outputId": "5aca6dd0-a4b2-433f-a981-41ab0ed0465b"
      },
      "execution_count": null,
      "outputs": [
        {
          "output_type": "stream",
          "name": "stdout",
          "text": [
            "0.7548254526847111\n"
          ]
        }
      ]
    },
    {
      "cell_type": "code",
      "source": [
        "# XGBOOST\n",
        "model = XGBClassifier()\n",
        "model.fit(X_tr, y_tr)\n",
        "pred = model.predict_proba(X_val)\n",
        "print(roc_auc_score(y_val, pred[:,1]))"
      ],
      "metadata": {
        "id": "9t-aywy_t6U2",
        "colab": {
          "base_uri": "https://localhost:8080/"
        },
        "outputId": "c10898ef-cc1b-47d4-b6bc-da74cc103264"
      },
      "execution_count": null,
      "outputs": [
        {
          "output_type": "stream",
          "name": "stdout",
          "text": [
            "0.7496656552822458\n"
          ]
        }
      ]
    },
    {
      "cell_type": "markdown",
      "source": [
        "## 예측 및 제출"
      ],
      "metadata": {
        "id": "kmKX6ciHuqeG"
      }
    },
    {
      "cell_type": "code",
      "source": [
        "# 예측\n",
        "pred = model.predict_proba(X_test)\n",
        "print(pred)"
      ],
      "metadata": {
        "id": "zOcAH8FzurjJ",
        "colab": {
          "base_uri": "https://localhost:8080/"
        },
        "outputId": "bb5696e0-a3a3-4965-dcc8-04e1292e6207"
      },
      "execution_count": null,
      "outputs": [
        {
          "output_type": "stream",
          "name": "stdout",
          "text": [
            "[[0.67 0.33]\n",
            " [0.61 0.39]\n",
            " [0.68 0.32]\n",
            " ...\n",
            " [0.53 0.47]\n",
            " [0.66 0.34]\n",
            " [0.4  0.6 ]]\n"
          ]
        }
      ]
    },
    {
      "cell_type": "code",
      "source": [
        "# 데이터프레임 만들기\n",
        "submit = pd.DataFrame({\n",
        "    'ID' : X_test_id,\n",
        "    \"Reached.on.Time_Y.N\": pred[:,1]\n",
        "})\n",
        "print(submit)"
      ],
      "metadata": {
        "id": "DEksB9kUuyRX",
        "colab": {
          "base_uri": "https://localhost:8080/"
        },
        "outputId": "05efb5e8-d048-472c-dc38-e2365e8457ec"
      },
      "execution_count": null,
      "outputs": [
        {
          "output_type": "stream",
          "name": "stdout",
          "text": [
            "         ID  Reached.on.Time_Y.N\n",
            "0      8285                 0.33\n",
            "1     10192                 0.39\n",
            "2      8675                 0.32\n",
            "3      5753                 0.38\n",
            "4       448                 0.93\n",
            "...     ...                  ...\n",
            "2195   7193                 0.48\n",
            "2196   4445                 0.29\n",
            "2197   7390                 0.47\n",
            "2198   9977                 0.34\n",
            "2199   5696                 0.60\n",
            "\n",
            "[2200 rows x 2 columns]\n"
          ]
        }
      ]
    },
    {
      "cell_type": "code",
      "source": [
        "# CSV파일 만들기\n",
        "submit.to_csv('20240611.csv', index=False)"
      ],
      "metadata": {
        "id": "p_a6WSnLvEmn"
      },
      "execution_count": null,
      "outputs": []
    },
    {
      "cell_type": "markdown",
      "source": [
        "##  제대로 제출 되었는지 확인"
      ],
      "metadata": {
        "id": "ldW0N_MBvMfp"
      }
    },
    {
      "cell_type": "code",
      "source": [
        "df2 =pd.read_csv('20240611.csv')\n",
        "print(df2)"
      ],
      "metadata": {
        "id": "bB-4P_EfvOlD",
        "colab": {
          "base_uri": "https://localhost:8080/"
        },
        "outputId": "a8e6674a-4f18-4f9b-f0a1-1bc2b8209f62"
      },
      "execution_count": null,
      "outputs": [
        {
          "output_type": "stream",
          "name": "stdout",
          "text": [
            "         ID  Reached.on.Time_Y.N\n",
            "0      8285                 0.33\n",
            "1     10192                 0.39\n",
            "2      8675                 0.32\n",
            "3      5753                 0.38\n",
            "4       448                 0.93\n",
            "...     ...                  ...\n",
            "2195   7193                 0.48\n",
            "2196   4445                 0.29\n",
            "2197   7390                 0.47\n",
            "2198   9977                 0.34\n",
            "2199   5696                 0.60\n",
            "\n",
            "[2200 rows x 2 columns]\n"
          ]
        }
      ]
    },
    {
      "cell_type": "code",
      "source": [
        "you = pd.read_csv(\"20240611.csv\")\n",
        "print(\"당신의 score는?:\",roc_auc_score(y_test['Reached.on.Time_Y.N'], you['Reached.on.Time_Y.N']))"
      ],
      "metadata": {
        "id": "ofAnKoNVu0At",
        "colab": {
          "base_uri": "https://localhost:8080/"
        },
        "outputId": "8802edf3-eda4-4fa1-edd7-589e54a364aa"
      },
      "execution_count": null,
      "outputs": [
        {
          "output_type": "stream",
          "name": "stdout",
          "text": [
            "당신의 score는?: 0.7334913864913323\n"
          ]
        }
      ]
    }
  ]
}