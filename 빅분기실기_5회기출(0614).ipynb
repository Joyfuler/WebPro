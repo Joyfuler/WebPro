{
  "nbformat": 4,
  "nbformat_minor": 0,
  "metadata": {
    "colab": {
      "provenance": []
    },
    "kernelspec": {
      "name": "python3",
      "display_name": "Python 3"
    },
    "language_info": {
      "name": "python"
    }
  },
  "cells": [
    {
      "cell_type": "markdown",
      "source": [
        "## 작업형1 문제"
      ],
      "metadata": {
        "id": "uO07g2QeKprH"
      }
    },
    {
      "cell_type": "markdown",
      "source": [
        "1. 종량제 봉투 종류가 '규격봉투'이고, 종량제 봉투 용도가 '음식물쓰레기'인 2L가격 평균을 출력하시오 (단, 가격0 제외, 반올림 후 정수 출력)"
      ],
      "metadata": {
        "id": "6f9i0g9dKvQQ"
      }
    },
    {
      "cell_type": "code",
      "source": [
        "import pandas as pd\n",
        "df = pd.read_csv(\"5-1price.csv\")\n",
        "\n",
        "# your code\n",
        "cond1 = (df['종량제봉투종류'] == '규격봉투')\n",
        "cond2 = (df['종량제봉투용도'] == '음식물쓰레기')\n",
        "# print(df[cond1 & cond2]) 1차 확인\n",
        "cond3 = (df['2ℓ가격'] != 0) # 나의 방법\n",
        "# print((df[cond1 & cond2 & cond3]['2ℓ가격']))\n",
        "print(round(df[cond1 & cond2 & cond3]['2ℓ가격'].mean()))"
      ],
      "metadata": {
        "id": "6m6SDQ46Kwda",
        "colab": {
          "base_uri": "https://localhost:8080/"
        },
        "outputId": "9147a43e-5b70-4542-d249-b4c895edc3b3"
      },
      "execution_count": 15,
      "outputs": [
        {
          "output_type": "stream",
          "name": "stdout",
          "text": [
            "118\n"
          ]
        }
      ]
    },
    {
      "cell_type": "markdown",
      "source": [
        "2. bmi를 계산하고, 수치가 정상인 사람 수와 위험체중인 사람 수의 차이를 절대값으로 구하시오 (정수로 출력)\n",
        " - bmi(체질량지수): 몸무게(kg) / 키(m)의 제곱\n",
        "단위\n",
        "- Height: cm\n",
        "- Weight: kg\n",
        "\n",
        "\n",
        "- 저체중: BMI 18.5미만\n",
        "- 정상체중: BMI 18.5이상 ~ 23미만\n",
        "- 과체중 또는 위험체중: BMI 23 이상 ~ 25미만\n",
        "- 비만체중: 25이상"
      ],
      "metadata": {
        "id": "ccvjEw-aKy39"
      }
    },
    {
      "cell_type": "code",
      "source": [
        "import pandas as pd\n",
        "df = pd.read_csv(\"5-2bmi.csv\")\n",
        "print(df.shape)\n",
        "# your code\n",
        "\n",
        "df['bmi'] = df['Weight'] /((df['Height'] / 100) ** 2)\n",
        "cond1 = df['bmi'] < 18.5\n",
        "cond2 = (df['bmi'] >= 18.5) & (df['bmi'] < 23) #정상체중\n",
        "cond3 = (df['bmi'] >= 23) & (df['bmi'] <25) #과체중 또는 위험체중\n",
        "\n",
        "\n",
        "# print(df[cond2].head(5))\n",
        "#print(df[cond3].head())\n",
        "print(abs(len(df[cond2]) - len(df[cond3]))) # 144\n",
        "\n",
        "\n"
      ],
      "metadata": {
        "id": "PEDukWLFKyT6",
        "colab": {
          "base_uri": "https://localhost:8080/"
        },
        "outputId": "c278a0d2-d722-4433-be92-d32f2f6922dd"
      },
      "execution_count": 34,
      "outputs": [
        {
          "output_type": "stream",
          "name": "stdout",
          "text": [
            "(10000, 3)\n",
            "     Gender  Height  Weight        bmi\n",
            "378    Male   167.2    63.3  22.642854\n",
            "565    Male   156.9    56.0  22.747943\n",
            "1942   Male   152.4    51.2  22.044489\n",
            "2149   Male   171.7    67.8  22.997949\n",
            "2341   Male   165.4    62.9  22.992153\n",
            "   Gender  Height  Weight        bmi\n",
            "1    Male   174.7    73.6  24.115263\n",
            "5    Male   170.8    69.0  23.652299\n",
            "22   Male   168.0    67.7  23.986678\n",
            "24   Male   172.4    73.5  24.729357\n",
            "29   Male   174.0    70.0  23.120624\n",
            "144\n"
          ]
        }
      ]
    },
    {
      "cell_type": "markdown",
      "source": [
        "3. 순전입학생(순전입 학생 = 전입 학생 - 전출 학생)이 가장 많은 학교의 전체학생수를 정수로 출력하시오"
      ],
      "metadata": {
        "id": "U2rmG2jaK_v3"
      }
    },
    {
      "cell_type": "code",
      "source": [
        "import pandas as pd\n",
        "df = pd.read_csv(\"5-3student.csv\")\n",
        "# print(df)\n",
        "# your code\n",
        "\n",
        "df['순전입학생'] = df['전입학생수(계)'] - df['전출학생수(계)']\n",
        "# print(df['순전입학생'])\n",
        "cond1 = df['순전입학생'] == max(df['순전입학생'])\n",
        "# print(int(df[cond1]['전체학생수(계)'].iloc[0])) #230\n",
        "\n",
        "# 다른 풀이방법\n",
        "df2 = df.sort_values('순전입학생', ascending = False).head(1) #순전입학생 수로 sort_values 내림차순 정렬. 맨 위의 데이터\n",
        "print(int(df2.iloc[0, -2]))"
      ],
      "metadata": {
        "id": "p_oHq0I6KyY9",
        "colab": {
          "base_uri": "https://localhost:8080/"
        },
        "outputId": "442795ba-2bd2-4662-b1fe-5a4505dfb559"
      },
      "execution_count": 65,
      "outputs": [
        {
          "output_type": "stream",
          "name": "stdout",
          "text": [
            "230\n"
          ]
        }
      ]
    }
  ]
}