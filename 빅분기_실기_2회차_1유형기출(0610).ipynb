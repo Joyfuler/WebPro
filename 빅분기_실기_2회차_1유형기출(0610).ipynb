{
  "nbformat": 4,
  "nbformat_minor": 0,
  "metadata": {
    "colab": {
      "provenance": [],
      "include_colab_link": true
    },
    "kernelspec": {
      "name": "python3",
      "display_name": "Python 3"
    },
    "language_info": {
      "name": "python"
    }
  },
  "cells": [
    {
      "cell_type": "markdown",
      "metadata": {
        "id": "view-in-github",
        "colab_type": "text"
      },
      "source": [
        "<a href=\"https://colab.research.google.com/github/Joyfuler/webPro/blob/main/%EB%B9%85%EB%B6%84%EA%B8%B0_%EC%8B%A4%EA%B8%B0_2%ED%9A%8C%EC%B0%A8_1%EC%9C%A0%ED%98%95%EA%B8%B0%EC%B6%9C(0610).ipynb\" target=\"_parent\"><img src=\"https://colab.research.google.com/assets/colab-badge.svg\" alt=\"Open In Colab\"/></a>"
      ]
    },
    {
      "cell_type": "markdown",
      "source": [
        "# 작업형1\n",
        "- 빅데이터 분석기사 2회 실기 (참고: 1회 실기는 취소됨)\n",
        "- 데이터: members.csv"
      ],
      "metadata": {
        "id": "47HsBjEbBBPA"
      }
    },
    {
      "cell_type": "code",
      "execution_count": 14,
      "metadata": {
        "colab": {
          "base_uri": "https://localhost:8080/"
        },
        "id": "kBP6rHrNA1lc",
        "outputId": "d1c09044-577c-41f7-e8e9-f0ae6685fc2e"
      },
      "outputs": [
        {
          "output_type": "stream",
          "name": "stdout",
          "text": [
            "      id    age city    f1  f2      f3    f4         f5  subscribed   views\n",
            "0   id01    2.0   서울   NaN   0    gold  ENFJ  91.297791  2021-07-16  6820.0\n",
            "1   id02    9.0   서울  70.0   1     NaN  ENFJ  60.339826  2021-05-12  2534.0\n",
            "2   id03   27.0   서울  61.0   1    gold  ISTJ  17.252986  2021-03-16  7312.0\n",
            "3   id04   75.0   서울   NaN   2     NaN  INFP  52.667078  2021-07-21   493.0\n",
            "4   id05   24.0   서울  85.0   2     NaN  ISFJ  29.269869  2021-03-07  1338.0\n",
            "..   ...    ...  ...   ...  ..     ...   ...        ...         ...     ...\n",
            "95  id95   77.0   경기  43.0   1    gold  INTJ  91.297791  2021-05-21  8697.0\n",
            "96  id96   92.0   경기  53.0   1  silver  ENTJ  52.667078  2021-05-06  4336.0\n",
            "97  id97  100.0   경기   NaN   0    gold  INFP  67.886373  2021-03-18  6687.0\n",
            "98  id98   39.0   경기  58.0   2     NaN  INFP  98.429899  2021-10-02   865.0\n",
            "99  id99    1.0   경기  47.0   0    gold  ESFJ  97.381034  2021-12-02  6090.0\n",
            "\n",
            "[100 rows x 10 columns]\n"
          ]
        }
      ],
      "source": [
        "import pandas as pd\n",
        "df = pd.read_csv('members.csv')\n",
        "print(df) # 총 100개의 데이터 존재.\n",
        "\n"
      ]
    },
    {
      "cell_type": "markdown",
      "source": [
        "## 문제1\n",
        "- 주어진 데이터셋(members.csv)의 'views' 컬럼 상위 10개 데이터를 상위 10번째 값으로 대체한 후 'age'컬럼에서 80 이상인 데이터의 'views' 컬럼 평균값 구하기\n"
      ],
      "metadata": {
        "id": "amC4XdUCNDz9"
      }
    },
    {
      "cell_type": "code",
      "source": [
        "# your code"
      ],
      "metadata": {
        "id": "TarS4vwBJv4F"
      },
      "execution_count": null,
      "outputs": []
    },
    {
      "cell_type": "code",
      "source": [
        "df = df.sort_values('views', ascending = False)\n",
        "# print(df.head(10)) # 10번째 값은 9690.0\n",
        "# 혹은 하드코딩 대신 해당 범위 중 최소값을 가져올 수도 있음.\n",
        "min_value = df['views'][:10].min()\n",
        "#print(min_value)\n",
        "\n",
        "# 최소값을 상위 10번째 값들에 대입.\n",
        "df.iloc[:10, -1] = min_value\n",
        "#총 10번째까지의 값이고, views는 가장 마지막에 위치했으므로 -1\n",
        "# 혹은 순서를 직접 세서 대체해도 됨.\n",
        "\n",
        "print(df.head(12))\n",
        "\n",
        "# age 컬럼이 80이상인 데이터의 views 평균 구하기\n",
        "cond = df['age'] >= 80\n",
        "print(df[cond]['views'].mean()) # cond 조건에 해당했을 때 view 컬럼의 mean: 5674.04347826087\n",
        "\n",
        "# 정답 제출시에는 print 주석 처리 잊지 말것!"
      ],
      "metadata": {
        "id": "8vbS5Gq4Jv6l",
        "colab": {
          "base_uri": "https://localhost:8080/"
        },
        "outputId": "e765916b-b8d5-4792-80f8-e07e6e891f5f"
      },
      "execution_count": 18,
      "outputs": [
        {
          "output_type": "stream",
          "name": "stdout",
          "text": [
            "       id   age city    f1  f2    f3    f4         f5  subscribed   views\n",
            "5    id06  22.0   서울  57.0   0   vip  INTP  20.129444  2021-09-12  9690.0\n",
            "56   id56  59.0   대구   NaN   1   vip  ESTJ  73.586397  2021-04-05  9690.0\n",
            "83   id83  73.0   경기  50.0   1   vip  ENTP  80.138280  2021-09-26  9690.0\n",
            "32   id32  25.0   부산  64.0   0   vip  ISFJ  13.049921  2021-05-24  9690.0\n",
            "10  id100  47.0   경기  53.0   0   vip  ESFP  33.308999  2021-02-21  9690.0\n",
            "9    id10  95.0   서울  74.0   1  gold  ISFP  98.429899  2021-04-03  9690.0\n",
            "49   id49  75.0   대구  88.0   0  gold  INTP  37.113739  2021-03-31  9690.0\n",
            "36   id36  68.0   부산  77.0   1  gold  INTP  13.049921  2021-07-20  9690.0\n",
            "46   id46  93.0   대구   NaN   0  gold  ESTJ  67.886373  2021-05-23  9690.0\n",
            "21   id21  90.0   부산   NaN   1  gold  ISFP  29.269869  2021-05-03  9690.0\n",
            "9690.0\n",
            "       id   age city    f1  f2    f3    f4         f5  subscribed   views\n",
            "5    id06  22.0   서울  57.0   0   vip  INTP  20.129444  2021-09-12  9690.0\n",
            "56   id56  59.0   대구   NaN   1   vip  ESTJ  73.586397  2021-04-05  9690.0\n",
            "83   id83  73.0   경기  50.0   1   vip  ENTP  80.138280  2021-09-26  9690.0\n",
            "32   id32  25.0   부산  64.0   0   vip  ISFJ  13.049921  2021-05-24  9690.0\n",
            "10  id100  47.0   경기  53.0   0   vip  ESFP  33.308999  2021-02-21  9690.0\n",
            "9    id10  95.0   서울  74.0   1  gold  ISFP  98.429899  2021-04-03  9690.0\n",
            "49   id49  75.0   대구  88.0   0  gold  INTP  37.113739  2021-03-31  9690.0\n",
            "36   id36  68.0   부산  77.0   1  gold  INTP  13.049921  2021-07-20  9690.0\n",
            "46   id46  93.0   대구   NaN   0  gold  ESTJ  67.886373  2021-05-23  9690.0\n",
            "21   id21  90.0   부산   NaN   1  gold  ISFP  29.269869  2021-05-03  9690.0\n",
            "92   id92  97.0   경기  78.0   1  gold  INFP  97.381034  2021-05-08  9625.0\n",
            "16   id16  68.0   서울  85.0   0  gold  ESFP  16.283854  2021-07-25  9472.0\n",
            "5674.04347826087\n"
          ]
        }
      ]
    },
    {
      "cell_type": "markdown",
      "source": [
        "## 문제2\n",
        "- 주어진 데이터셋(members.csv)의 앞에서부터 순서대로 80% 데이터만 활용해 'f1'컬럼 결측치를 중앙값으로 채우기 전 후의 표준편차를 구하고, 두 표준편차 차이 계산하기\n",
        "(단, 표본표준편차 기준, 두 표준편차 차이는 절대값으로 계산)"
      ],
      "metadata": {
        "id": "ec4PwLu3JkhG"
      }
    },
    {
      "cell_type": "code",
      "source": [
        "# your code"
      ],
      "metadata": {
        "id": "IK03Z3yZJwgJ"
      },
      "execution_count": null,
      "outputs": []
    },
    {
      "cell_type": "code",
      "source": [
        "# 데이터셋의 길이를 우선 구함.\n",
        "print(len(df))\n",
        "# 총 데이터의 길이는 100이므로 80%면 80의 길이만큼만 활용.\n",
        "# 하드코딩해도 되지만, len에 퍼센트를 곱해서 사용할 수도 있음.\n",
        "df80 = df.iloc[:(int)(len(df) * 0.8)]\n",
        "\n",
        "# 결측치를 채우기 전 표준편차 값 - std 함수를 이용하여 pandas에서 쉽게 계산 가능.\n",
        "print(df80['f1'].std()) # 19.305371491402404\n",
        "\n",
        "# 결측치 채우기\n",
        "print(df80.isnull().sum()) # f1에 23개의 결측치 존재.\n",
        "df80after = df80.fillna(df80['f1'].median()) # 결측치를 중앙값으로 채운다.\n",
        "print(df80after.isnull().sum())\n",
        "print(df80after['f1'].std())\n",
        "#16.254381103668365\n",
        "\n",
        "# 두 표준편차 차이를 계산. 절대값\n",
        "print(abs(df80['f1'].std() - df80after['f1'].std()))"
      ],
      "metadata": {
        "id": "OTkryaqmJwi6",
        "colab": {
          "base_uri": "https://localhost:8080/"
        },
        "outputId": "938d975b-2cc6-4fa1-b6dd-380a38a92bba"
      },
      "execution_count": 37,
      "outputs": [
        {
          "output_type": "stream",
          "name": "stdout",
          "text": [
            "100\n",
            "19.305371491402404\n",
            "id             0\n",
            "age            0\n",
            "city           0\n",
            "f1            23\n",
            "f2             0\n",
            "f3             8\n",
            "f4             0\n",
            "f5             0\n",
            "subscribed     0\n",
            "views          0\n",
            "dtype: int64\n",
            "id            0\n",
            "age           0\n",
            "city          0\n",
            "f1            0\n",
            "f2            0\n",
            "f3            0\n",
            "f4            0\n",
            "f5            0\n",
            "subscribed    0\n",
            "views         0\n",
            "dtype: int64\n",
            "16.254381103668365\n",
            "3.050990387734039\n",
            "19.305371491402404\n"
          ]
        }
      ]
    },
    {
      "cell_type": "markdown",
      "source": [
        "## 문제3\n",
        "- 주어진 데이터셋(members.csv)의 'age'컬럼의 이상치를 모두 더하시오!\n",
        "- 단, 평균으로부터 '표준편차*1.5'를 벗어나는 영역을 이상치라고 판단함"
      ],
      "metadata": {
        "id": "BFQNkJJlJkqU"
      }
    },
    {
      "cell_type": "code",
      "source": [
        "# your code"
      ],
      "metadata": {
        "id": "Pd-8ObQkJxIz"
      },
      "execution_count": null,
      "outputs": []
    },
    {
      "cell_type": "code",
      "source": [
        "# age 컬럼의 이상치를 구하는 방법? 표준편차 * 1.5를 벗어나는 경우\n",
        "# 평균 + 표준편차 * 1.5보다 크거나, 평균 - 표준편차 *1.5보다 작은 경우.\n",
        "\n",
        "# 1. age 컬럼의 평균치를 구한다.\n",
        "mean = df['age'].mean()\n",
        "print(mean) #50.962999999999994\n",
        "\n",
        "# 2. age 컬럼의 표준편차\n",
        "std = df['age'].std()\n",
        "print(std) #30.44275852258869\n",
        "\n",
        "lower = mean - (std * 1.5)\n",
        "upper = mean + (std * 1.5)\n",
        "print(\"최소치:\", lower, \"/ 최대치:\", upper)\n",
        "\n",
        "cond1 = df['age'] < lower #age는  lower보다 낮거나 upper보다 높으면 이상치\n",
        "cond2 = df['age'] > upper\n",
        "print(df[cond1 | cond2]['age'].sum())"
      ],
      "metadata": {
        "id": "04Wo4JdmJxLD",
        "colab": {
          "base_uri": "https://localhost:8080/"
        },
        "outputId": "59574ee5-a551-44fb-cfe9-67813fdb4f5f"
      },
      "execution_count": 43,
      "outputs": [
        {
          "output_type": "stream",
          "name": "stdout",
          "text": [
            "50.962999999999994\n",
            "30.44275852258869\n",
            "최소치: 5.298862216116959 / 최대치: 96.62713778388303\n"
          ]
        },
        {
          "output_type": "execute_result",
          "data": {
            "text/plain": [
              "473.5"
            ]
          },
          "metadata": {},
          "execution_count": 43
        }
      ]
    },
    {
      "cell_type": "markdown",
      "source": [
        "### 심화학습\n",
        "- 모 표준편차(넘파이) vs 표본 표준편차(판다스)"
      ],
      "metadata": {
        "id": "4c3vt7YTLfKd"
      }
    },
    {
      "cell_type": "code",
      "source": [
        "# import numpy as np\n",
        "# print(df['f1'].std())\n",
        "# print(np.std(df['f1']))"
      ],
      "metadata": {
        "id": "oFEdJTxHMCcf"
      },
      "execution_count": null,
      "outputs": []
    }
  ]
}